{
  "cells": [
    {
      "cell_type": "markdown",
      "metadata": {
        "id": "eJ9jH0uzi2Bi"
      },
      "source": [
        "[![Open In Colab](https://colab.research.google.com/assets/colab-badge.svg)](https://colab.research.google.com/github/nthieu211/Vietnamese-Youtube-Comments-Sentiment/blob/main/Model/Emotion-Classification-Model.ipynb)"
      ]
    },
    {
      "cell_type": "code",
      "execution_count": 1,
      "metadata": {
        "colab": {
          "base_uri": "https://localhost:8080/"
        },
        "execution": {
          "iopub.execute_input": "2023-08-31T15:09:29.566499Z",
          "iopub.status.busy": "2023-08-31T15:09:29.566134Z",
          "iopub.status.idle": "2023-08-31T15:10:14.286791Z",
          "shell.execute_reply": "2023-08-31T15:10:14.285268Z",
          "shell.execute_reply.started": "2023-08-31T15:09:29.566461Z"
        },
        "id": "PSUZLTEHpRsn",
        "outputId": "466aaaa4-88f0-4647-d786-532eb4ce7103",
        "trusted": true
      },
      "outputs": [
        {
          "name": "stdout",
          "output_type": "stream",
          "text": [
            "\u001b[2K     \u001b[90m━━━━━━━━━━━━━━━━━━━━━━━━━━━━━━━━━━━━━━━━\u001b[0m \u001b[32m7.5/7.5 MB\u001b[0m \u001b[31m61.4 MB/s\u001b[0m eta \u001b[36m0:00:00\u001b[0m\n",
            "\u001b[2K     \u001b[90m━━━━━━━━━━━━━━━━━━━━━━━━━━━━━━━━━━━━━━\u001b[0m \u001b[32m268.8/268.8 kB\u001b[0m \u001b[31m34.3 MB/s\u001b[0m eta \u001b[36m0:00:00\u001b[0m\n",
            "\u001b[2K     \u001b[90m━━━━━━━━━━━━━━━━━━━━━━━━━━━━━━━━━━━━━━━━\u001b[0m \u001b[32m7.8/7.8 MB\u001b[0m \u001b[31m124.0 MB/s\u001b[0m eta \u001b[36m0:00:00\u001b[0m\n",
            "\u001b[2K     \u001b[90m━━━━━━━━━━━━━━━━━━━━━━━━━━━━━━━━━━━━━━━━\u001b[0m \u001b[32m1.3/1.3 MB\u001b[0m \u001b[31m81.8 MB/s\u001b[0m eta \u001b[36m0:00:00\u001b[0m\n",
            "\u001b[2K     \u001b[90m━━━━━━━━━━━━━━━━━━━━━━━━━━━━━━━━━━━━━━━\u001b[0m \u001b[32m358.9/358.9 kB\u001b[0m \u001b[31m7.4 MB/s\u001b[0m eta \u001b[36m0:00:00\u001b[0m\n",
            "\u001b[2K     \u001b[90m━━━━━━━━━━━━━━━━━━━━━━━━━━━━━━━━━━━━━━━━\u001b[0m \u001b[32m20.9/20.9 MB\u001b[0m \u001b[31m62.8 MB/s\u001b[0m eta \u001b[36m0:00:00\u001b[0m\n",
            "\u001b[2K     \u001b[90m━━━━━━━━━━━━━━━━━━━━━━━━━━━━━━━━━━━━━━\u001b[0m \u001b[32m993.5/993.5 kB\u001b[0m \u001b[31m77.0 MB/s\u001b[0m eta \u001b[36m0:00:00\u001b[0m\n",
            "\u001b[2K     \u001b[90m━━━━━━━━━━━━━━━━━━━━━━━━━━━━━━━━━━━━━━\u001b[0m \u001b[32m657.8/657.8 kB\u001b[0m \u001b[31m61.9 MB/s\u001b[0m eta \u001b[36m0:00:00\u001b[0m\n",
            "\u001b[?25h"
          ]
        }
      ],
      "source": [
        "# Install nescessary library\n",
        "!pip install -q transformers\n",
        "!pip install -q emoji\n",
        "!pip install -q underthesea\n",
        "!pip install -q openpyxl"
      ]
    },
    {
      "cell_type": "code",
      "execution_count": 2,
      "metadata": {
        "execution": {
          "iopub.execute_input": "2023-08-31T15:10:14.289303Z",
          "iopub.status.busy": "2023-08-31T15:10:14.288901Z",
          "iopub.status.idle": "2023-08-31T15:10:20.539350Z",
          "shell.execute_reply": "2023-08-31T15:10:20.538330Z",
          "shell.execute_reply.started": "2023-08-31T15:10:14.289263Z"
        },
        "id": "q6-XK3oFpRst",
        "trusted": true
      },
      "outputs": [],
      "source": [
        "from tqdm import tqdm\n",
        "import regex as re\n",
        "import emoji\n",
        "import numpy as np\n",
        "import pandas as pd\n",
        "import seaborn as sns\n",
        "import matplotlib.pyplot as plt\n",
        "import underthesea\n",
        "from sklearn.model_selection import StratifiedKFold, train_test_split\n",
        "from sklearn.metrics import classification_report, confusion_matrix, accuracy_score, f1_score\n",
        "import torch\n",
        "import torch.nn as nn\n",
        "from torch.optim import AdamW\n",
        "from torch.utils.data import Dataset, DataLoader\n",
        "from transformers import get_linear_schedule_with_warmup, AutoTokenizer, AutoModel"
      ]
    },
    {
      "cell_type": "code",
      "execution_count": 3,
      "metadata": {
        "colab": {
          "base_uri": "https://localhost:8080/"
        },
        "execution": {
          "iopub.execute_input": "2023-08-31T15:10:20.541664Z",
          "iopub.status.busy": "2023-08-31T15:10:20.540738Z",
          "iopub.status.idle": "2023-08-31T15:10:20.576740Z",
          "shell.execute_reply": "2023-08-31T15:10:20.575176Z",
          "shell.execute_reply.started": "2023-08-31T15:10:20.541627Z"
        },
        "id": "7CtuxgeG8sMy",
        "outputId": "afbcc53b-026a-4cfe-dd4c-71e91945b64b",
        "trusted": true
      },
      "outputs": [
        {
          "name": "stdout",
          "output_type": "stream",
          "text": [
            "Device: cuda\n"
          ]
        }
      ],
      "source": [
        "# Config\n",
        "device = torch.device(\"cuda\" if torch.cuda.is_available() else \"cpu\")\n",
        "print(f\"Device: {device}\")\n",
        "\n",
        "PRETRAINED_MODEL = 'vinai/phobert-base-v2'\n",
        "DROPOUT = 0.4\n",
        "EPOCHS = 8\n",
        "N_SPLITS = 2\n",
        "LEARNING_RATE = 2e-5\n",
        "BATCH_SIZE = 16\n",
        "MAX_LEN = 120"
      ]
    },
    {
      "cell_type": "code",
      "execution_count": 4,
      "metadata": {
        "execution": {
          "iopub.execute_input": "2023-08-31T15:10:20.581253Z",
          "iopub.status.busy": "2023-08-31T15:10:20.580203Z",
          "iopub.status.idle": "2023-08-31T15:10:20.592650Z",
          "shell.execute_reply": "2023-08-31T15:10:20.591727Z",
          "shell.execute_reply.started": "2023-08-31T15:10:20.581218Z"
        },
        "id": "y0M-EoFeR4DO",
        "trusted": true
      },
      "outputs": [],
      "source": [
        "def seed_everything(seed_value):\n",
        "    np.random.seed(seed_value)\n",
        "    torch.manual_seed(seed_value)\n",
        "\n",
        "    if torch.cuda.is_available():\n",
        "        torch.cuda.manual_seed(seed_value)\n",
        "        torch.cuda.manual_seed_all(seed_value)\n",
        "        torch.backends.cudnn.deterministic = True\n",
        "        torch.backends.cudnn.benchmark = True\n",
        "\n",
        "seed_everything(42)"
      ]
    },
    {
      "cell_type": "code",
      "execution_count": 5,
      "metadata": {
        "colab": {
          "base_uri": "https://localhost:8080/",
          "height": 217,
          "referenced_widgets": [
            "75435c7ba06446ee97cb57a84221285c",
            "c8aeafffc9dc4a0aa95c46ed3bd88796",
            "76f955dec72247bf853c33566ee86071",
            "b5d6af3cc530403eb0d76c7541b67497",
            "2e3dfa51ed324d82ad7d2416506a6d1c",
            "0c19f6566fc6410a898047866628d577",
            "e8d6d2fb42d74b09b2a1a70f241c2377",
            "4fd9874e809942029ecbb53dc5afe719",
            "b6356c021ab94647bd9fbb366a6be81a",
            "6f7f6de542864e74bbb700d36df52924",
            "ec079d25231845b6b10a472cfe6f70cf",
            "f4c5f7c101be495faf98fd65ab9c5f9c",
            "4b671bd13fd54e8ba75310ad5a8c7bfe",
            "864da15edf4e49f58da3005ce0504b09",
            "8107700a1aa34351a4020b39ad003f0d",
            "92b4fe39ea2847a88cfefdc11cfe3415",
            "854091245b7845b9b0ddb9b7d974c660",
            "8aeffd971ccb409796c6a3224c205dea",
            "711c3a4b1380408a88773b8935aa8c49",
            "a76046cf28074e9785b40e562ef4c415",
            "2b14a65dbf6b4e26b1a08f346de210c7",
            "6157e2926e274ccea56fdda48a6ab511",
            "a2c854eeb2a645a9bcd7f85d975c6808",
            "dfc663ff741d445daf870d1a9ba30be3",
            "cb9197f0f1ab4726a827d95743ba2105",
            "f57480c62b254788b27c747aa5eabe0c",
            "38c98348f6c842819e7ba8236e10bddd",
            "f4f1021d63a847b5a46ee1b6cdfc41d6",
            "77e2174d956b498f870588549b62c713",
            "48e8ea96033d4ee69cf667eb51059b03",
            "8da86c29499443c8a640a45dc0f29961",
            "73a54430187d4be28db53bb84e436094",
            "b783040735404d4b8f5943796e12d758",
            "6df0796a5abc45689550b1f445c67fe9",
            "16512a60a72043a2b07a26888465c955",
            "06dfd3e85da941f092d45a4d1cba8fd7",
            "ef0a207737114d1d9abfa8c71b547a20",
            "be6ded99a19e4640ae02dfc0b50d89f9",
            "b7c797944ff145849fd20098d06da924",
            "b42e065ad0b441ee9adab982aae6ac73",
            "24a5bbb4ea964c05b9de0b68c28ef2e1",
            "daa2941d5a1243b3951627d9510250b2",
            "c078b02128284366a1dd11a5bd7b5bc5",
            "6a7a7fb44c954c87af4dd5a1b1098426"
          ]
        },
        "execution": {
          "iopub.execute_input": "2023-08-31T15:10:20.595176Z",
          "iopub.status.busy": "2023-08-31T15:10:20.594104Z",
          "iopub.status.idle": "2023-08-31T15:10:23.898459Z",
          "shell.execute_reply": "2023-08-31T15:10:23.897332Z",
          "shell.execute_reply.started": "2023-08-31T15:10:20.595142Z"
        },
        "id": "KlIJGOSC7epU",
        "outputId": "55120e25-9cc5-4ab2-c726-7f1c44a93c0a",
        "trusted": true
      },
      "outputs": [
        {
          "data": {
            "application/vnd.jupyter.widget-view+json": {
              "model_id": "75435c7ba06446ee97cb57a84221285c",
              "version_major": 2,
              "version_minor": 0
            },
            "text/plain": [
              "Downloading (…)lve/main/config.json:   0%|          | 0.00/678 [00:00<?, ?B/s]"
            ]
          },
          "metadata": {},
          "output_type": "display_data"
        },
        {
          "data": {
            "application/vnd.jupyter.widget-view+json": {
              "model_id": "f4c5f7c101be495faf98fd65ab9c5f9c",
              "version_major": 2,
              "version_minor": 0
            },
            "text/plain": [
              "Downloading pytorch_model.bin:   0%|          | 0.00/540M [00:00<?, ?B/s]"
            ]
          },
          "metadata": {},
          "output_type": "display_data"
        },
        {
          "name": "stderr",
          "output_type": "stream",
          "text": [
            "Some weights of RobertaModel were not initialized from the model checkpoint at vinai/phobert-base-v2 and are newly initialized: ['roberta.pooler.dense.bias', 'roberta.pooler.dense.weight']\n",
            "You should probably TRAIN this model on a down-stream task to be able to use it for predictions and inference.\n"
          ]
        },
        {
          "data": {
            "application/vnd.jupyter.widget-view+json": {
              "model_id": "a2c854eeb2a645a9bcd7f85d975c6808",
              "version_major": 2,
              "version_minor": 0
            },
            "text/plain": [
              "Downloading (…)solve/main/vocab.txt:   0%|          | 0.00/895k [00:00<?, ?B/s]"
            ]
          },
          "metadata": {},
          "output_type": "display_data"
        },
        {
          "data": {
            "application/vnd.jupyter.widget-view+json": {
              "model_id": "6df0796a5abc45689550b1f445c67fe9",
              "version_major": 2,
              "version_minor": 0
            },
            "text/plain": [
              "Downloading (…)solve/main/bpe.codes:   0%|          | 0.00/1.14M [00:00<?, ?B/s]"
            ]
          },
          "metadata": {},
          "output_type": "display_data"
        },
        {
          "name": "stderr",
          "output_type": "stream",
          "text": [
            "Special tokens have been added in the vocabulary, make sure the associated word embeddings are fine-tuned or trained.\n"
          ]
        }
      ],
      "source": [
        "# Download PhoBERT model\n",
        "phobert = AutoModel.from_pretrained(PRETRAINED_MODEL)\n",
        "tokenizer = AutoTokenizer.from_pretrained(PRETRAINED_MODEL)"
      ]
    },
    {
      "cell_type": "code",
      "execution_count": 6,
      "metadata": {
        "execution": {
          "iopub.execute_input": "2023-08-31T15:10:23.900425Z",
          "iopub.status.busy": "2023-08-31T15:10:23.899963Z",
          "iopub.status.idle": "2023-08-31T15:10:23.906507Z",
          "shell.execute_reply": "2023-08-31T15:10:23.905515Z",
          "shell.execute_reply.started": "2023-08-31T15:10:23.900388Z"
        },
        "id": "h3SIlpy7DMAr",
        "trusted": true
      },
      "outputs": [],
      "source": [
        "def get_data(path):\n",
        "    df = pd.read_excel(path, sheet_name=None)['Sheet1']\n",
        "    df.columns = ['index', 'Emotion', 'Sentence']\n",
        "    # unused column\n",
        "    df.drop(columns=['index'], inplace=True)\n",
        "    return df"
      ]
    },
    {
      "cell_type": "code",
      "execution_count": 9,
      "metadata": {
        "colab": {
          "base_uri": "https://localhost:8080/"
        },
        "execution": {
          "iopub.execute_input": "2023-08-31T15:10:23.909039Z",
          "iopub.status.busy": "2023-08-31T15:10:23.908293Z",
          "iopub.status.idle": "2023-08-31T15:10:23.916292Z",
          "shell.execute_reply": "2023-08-31T15:10:23.915250Z",
          "shell.execute_reply.started": "2023-08-31T15:10:23.909005Z"
        },
        "id": "idOM6WoIqADy",
        "outputId": "5e3af301-0ec9-4e57-b2f5-4014fee8e954",
        "trusted": true
      },
      "outputs": [
        {
          "name": "stdout",
          "output_type": "stream",
          "text": [
            "Mounted at /content/drive\n"
          ]
        }
      ],
      "source": [
        "# Run on Colab\n",
        "from google.colab import drive\n",
        "drive.mount('/content/drive')\n",
        "\n",
        "train_df = get_data('/content/drive/My Drive/DATASET-UIT-VSMEC/train_nor_811.xlsx')\n",
        "valid_df = get_data('/content/drive/My Drive/DATASET-UIT-VSMEC/valid_nor_811.xlsx')\n",
        "test_df = get_data('/content/drive/My Drive/DATASET-UIT-VSMEC/test_nor_811.xlsx')"
      ]
    },
    {
      "cell_type": "markdown",
      "metadata": {
        "id": "stdBfFFopRsu"
      },
      "source": [
        "# Data analytics and preprocessing"
      ]
    },
    {
      "cell_type": "code",
      "execution_count": 10,
      "metadata": {
        "colab": {
          "base_uri": "https://localhost:8080/",
          "height": 206
        },
        "execution": {
          "iopub.execute_input": "2023-08-31T15:10:24.759005Z",
          "iopub.status.busy": "2023-08-31T15:10:24.758239Z",
          "iopub.status.idle": "2023-08-31T15:10:24.774637Z",
          "shell.execute_reply": "2023-08-31T15:10:24.773502Z",
          "shell.execute_reply.started": "2023-08-31T15:10:24.758967Z"
        },
        "id": "T5E-j8VBqdic",
        "outputId": "eda14b82-2d4a-4254-ac9d-004613096247",
        "trusted": true
      },
      "outputs": [
        {
          "data": {
            "text/html": [
              "\n",
              "  <div id=\"df-25c1eca2-160e-46f5-b44b-1977254bdbec\" class=\"colab-df-container\">\n",
              "    <div>\n",
              "<style scoped>\n",
              "    .dataframe tbody tr th:only-of-type {\n",
              "        vertical-align: middle;\n",
              "    }\n",
              "\n",
              "    .dataframe tbody tr th {\n",
              "        vertical-align: top;\n",
              "    }\n",
              "\n",
              "    .dataframe thead th {\n",
              "        text-align: right;\n",
              "    }\n",
              "</style>\n",
              "<table border=\"1\" class=\"dataframe\">\n",
              "  <thead>\n",
              "    <tr style=\"text-align: right;\">\n",
              "      <th></th>\n",
              "      <th>Emotion</th>\n",
              "      <th>Sentence</th>\n",
              "    </tr>\n",
              "  </thead>\n",
              "  <tbody>\n",
              "    <tr>\n",
              "      <th>0</th>\n",
              "      <td>Other</td>\n",
              "      <td>cho mình xin bài nhạc tên là gì với ạ</td>\n",
              "    </tr>\n",
              "    <tr>\n",
              "      <th>1</th>\n",
              "      <td>Disgust</td>\n",
              "      <td>cho đáng đời con quỷ . về nhà lôi con nhà mày ...</td>\n",
              "    </tr>\n",
              "    <tr>\n",
              "      <th>2</th>\n",
              "      <td>Disgust</td>\n",
              "      <td>lo học đi . yêu đương lol gì hay lại thích học...</td>\n",
              "    </tr>\n",
              "    <tr>\n",
              "      <th>3</th>\n",
              "      <td>Enjoyment</td>\n",
              "      <td>uớc gì sau này về già vẫn có thể như cụ này :))</td>\n",
              "    </tr>\n",
              "    <tr>\n",
              "      <th>4</th>\n",
              "      <td>Enjoyment</td>\n",
              "      <td>mỗi lần có video của con là cứ coi đi coi lại ...</td>\n",
              "    </tr>\n",
              "  </tbody>\n",
              "</table>\n",
              "</div>\n",
              "    <div class=\"colab-df-buttons\">\n",
              "\n",
              "  <div class=\"colab-df-container\">\n",
              "    <button class=\"colab-df-convert\" onclick=\"convertToInteractive('df-25c1eca2-160e-46f5-b44b-1977254bdbec')\"\n",
              "            title=\"Convert this dataframe to an interactive table.\"\n",
              "            style=\"display:none;\">\n",
              "\n",
              "  <svg xmlns=\"http://www.w3.org/2000/svg\" height=\"24px\" viewBox=\"0 -960 960 960\">\n",
              "    <path d=\"M120-120v-720h720v720H120Zm60-500h600v-160H180v160Zm220 220h160v-160H400v160Zm0 220h160v-160H400v160ZM180-400h160v-160H180v160Zm440 0h160v-160H620v160ZM180-180h160v-160H180v160Zm440 0h160v-160H620v160Z\"/>\n",
              "  </svg>\n",
              "    </button>\n",
              "\n",
              "  <style>\n",
              "    .colab-df-container {\n",
              "      display:flex;\n",
              "      gap: 12px;\n",
              "    }\n",
              "\n",
              "    .colab-df-convert {\n",
              "      background-color: #E8F0FE;\n",
              "      border: none;\n",
              "      border-radius: 50%;\n",
              "      cursor: pointer;\n",
              "      display: none;\n",
              "      fill: #1967D2;\n",
              "      height: 32px;\n",
              "      padding: 0 0 0 0;\n",
              "      width: 32px;\n",
              "    }\n",
              "\n",
              "    .colab-df-convert:hover {\n",
              "      background-color: #E2EBFA;\n",
              "      box-shadow: 0px 1px 2px rgba(60, 64, 67, 0.3), 0px 1px 3px 1px rgba(60, 64, 67, 0.15);\n",
              "      fill: #174EA6;\n",
              "    }\n",
              "\n",
              "    .colab-df-buttons div {\n",
              "      margin-bottom: 4px;\n",
              "    }\n",
              "\n",
              "    [theme=dark] .colab-df-convert {\n",
              "      background-color: #3B4455;\n",
              "      fill: #D2E3FC;\n",
              "    }\n",
              "\n",
              "    [theme=dark] .colab-df-convert:hover {\n",
              "      background-color: #434B5C;\n",
              "      box-shadow: 0px 1px 3px 1px rgba(0, 0, 0, 0.15);\n",
              "      filter: drop-shadow(0px 1px 2px rgba(0, 0, 0, 0.3));\n",
              "      fill: #FFFFFF;\n",
              "    }\n",
              "  </style>\n",
              "\n",
              "    <script>\n",
              "      const buttonEl =\n",
              "        document.querySelector('#df-25c1eca2-160e-46f5-b44b-1977254bdbec button.colab-df-convert');\n",
              "      buttonEl.style.display =\n",
              "        google.colab.kernel.accessAllowed ? 'block' : 'none';\n",
              "\n",
              "      async function convertToInteractive(key) {\n",
              "        const element = document.querySelector('#df-25c1eca2-160e-46f5-b44b-1977254bdbec');\n",
              "        const dataTable =\n",
              "          await google.colab.kernel.invokeFunction('convertToInteractive',\n",
              "                                                    [key], {});\n",
              "        if (!dataTable) return;\n",
              "\n",
              "        const docLinkHtml = 'Like what you see? Visit the ' +\n",
              "          '<a target=\"_blank\" href=https://colab.research.google.com/notebooks/data_table.ipynb>data table notebook</a>'\n",
              "          + ' to learn more about interactive tables.';\n",
              "        element.innerHTML = '';\n",
              "        dataTable['output_type'] = 'display_data';\n",
              "        await google.colab.output.renderOutput(dataTable, element);\n",
              "        const docLink = document.createElement('div');\n",
              "        docLink.innerHTML = docLinkHtml;\n",
              "        element.appendChild(docLink);\n",
              "      }\n",
              "    </script>\n",
              "  </div>\n",
              "\n",
              "\n",
              "<div id=\"df-aef0b3f7-7aa4-473d-ba63-45820f540407\">\n",
              "  <button class=\"colab-df-quickchart\" onclick=\"quickchart('df-aef0b3f7-7aa4-473d-ba63-45820f540407')\"\n",
              "            title=\"Suggest charts.\"\n",
              "            style=\"display:none;\">\n",
              "\n",
              "<svg xmlns=\"http://www.w3.org/2000/svg\" height=\"24px\"viewBox=\"0 0 24 24\"\n",
              "     width=\"24px\">\n",
              "    <g>\n",
              "        <path d=\"M19 3H5c-1.1 0-2 .9-2 2v14c0 1.1.9 2 2 2h14c1.1 0 2-.9 2-2V5c0-1.1-.9-2-2-2zM9 17H7v-7h2v7zm4 0h-2V7h2v10zm4 0h-2v-4h2v4z\"/>\n",
              "    </g>\n",
              "</svg>\n",
              "  </button>\n",
              "\n",
              "<style>\n",
              "  .colab-df-quickchart {\n",
              "    background-color: #E8F0FE;\n",
              "    border: none;\n",
              "    border-radius: 50%;\n",
              "    cursor: pointer;\n",
              "    display: none;\n",
              "    fill: #1967D2;\n",
              "    height: 32px;\n",
              "    padding: 0 0 0 0;\n",
              "    width: 32px;\n",
              "  }\n",
              "\n",
              "  .colab-df-quickchart:hover {\n",
              "    background-color: #E2EBFA;\n",
              "    box-shadow: 0px 1px 2px rgba(60, 64, 67, 0.3), 0px 1px 3px 1px rgba(60, 64, 67, 0.15);\n",
              "    fill: #174EA6;\n",
              "  }\n",
              "\n",
              "  [theme=dark] .colab-df-quickchart {\n",
              "    background-color: #3B4455;\n",
              "    fill: #D2E3FC;\n",
              "  }\n",
              "\n",
              "  [theme=dark] .colab-df-quickchart:hover {\n",
              "    background-color: #434B5C;\n",
              "    box-shadow: 0px 1px 3px 1px rgba(0, 0, 0, 0.15);\n",
              "    filter: drop-shadow(0px 1px 2px rgba(0, 0, 0, 0.3));\n",
              "    fill: #FFFFFF;\n",
              "  }\n",
              "</style>\n",
              "\n",
              "  <script>\n",
              "    async function quickchart(key) {\n",
              "      const charts = await google.colab.kernel.invokeFunction(\n",
              "          'suggestCharts', [key], {});\n",
              "    }\n",
              "    (() => {\n",
              "      let quickchartButtonEl =\n",
              "        document.querySelector('#df-aef0b3f7-7aa4-473d-ba63-45820f540407 button');\n",
              "      quickchartButtonEl.style.display =\n",
              "        google.colab.kernel.accessAllowed ? 'block' : 'none';\n",
              "    })();\n",
              "  </script>\n",
              "</div>\n",
              "    </div>\n",
              "  </div>\n"
            ],
            "text/plain": [
              "     Emotion                                           Sentence\n",
              "0      Other              cho mình xin bài nhạc tên là gì với ạ\n",
              "1    Disgust  cho đáng đời con quỷ . về nhà lôi con nhà mày ...\n",
              "2    Disgust  lo học đi . yêu đương lol gì hay lại thích học...\n",
              "3  Enjoyment    uớc gì sau này về già vẫn có thể như cụ này :))\n",
              "4  Enjoyment  mỗi lần có video của con là cứ coi đi coi lại ..."
            ]
          },
          "execution_count": 10,
          "metadata": {},
          "output_type": "execute_result"
        }
      ],
      "source": [
        "train_df.head()"
      ]
    },
    {
      "cell_type": "markdown",
      "metadata": {
        "id": "PsVvkZVQBQY1"
      },
      "source": [
        "## Dataset info"
      ]
    },
    {
      "cell_type": "code",
      "execution_count": 11,
      "metadata": {
        "colab": {
          "base_uri": "https://localhost:8080/"
        },
        "execution": {
          "iopub.execute_input": "2023-08-31T15:10:24.778504Z",
          "iopub.status.busy": "2023-08-31T15:10:24.777549Z",
          "iopub.status.idle": "2023-08-31T15:10:24.784844Z",
          "shell.execute_reply": "2023-08-31T15:10:24.783586Z",
          "shell.execute_reply.started": "2023-08-31T15:10:24.778468Z"
        },
        "id": "p892agBSqovN",
        "outputId": "aba6294f-a761-4d74-d926-612bda0d7646",
        "trusted": true
      },
      "outputs": [
        {
          "name": "stdout",
          "output_type": "stream",
          "text": [
            "Train shape = (5548, 2)\n",
            "Valid shape = (686, 2)\n",
            "Test shape = (693, 2)\n"
          ]
        }
      ],
      "source": [
        "print(\"Train shape = {}\".format(train_df.shape))\n",
        "print(\"Valid shape = {}\".format(valid_df.shape))\n",
        "print(\"Test shape = {}\".format(test_df.shape))"
      ]
    },
    {
      "cell_type": "code",
      "execution_count": 12,
      "metadata": {
        "colab": {
          "base_uri": "https://localhost:8080/"
        },
        "execution": {
          "iopub.execute_input": "2023-08-31T15:10:24.786876Z",
          "iopub.status.busy": "2023-08-31T15:10:24.786407Z",
          "iopub.status.idle": "2023-08-31T15:10:24.818879Z",
          "shell.execute_reply": "2023-08-31T15:10:24.817565Z",
          "shell.execute_reply.started": "2023-08-31T15:10:24.786841Z"
        },
        "id": "PQ3ckxuYBXW_",
        "outputId": "fb184393-a837-41a2-b17b-44d9407ab7d9",
        "trusted": true
      },
      "outputs": [
        {
          "name": "stdout",
          "output_type": "stream",
          "text": [
            "<class 'pandas.core.frame.DataFrame'>\n",
            "RangeIndex: 5548 entries, 0 to 5547\n",
            "Data columns (total 2 columns):\n",
            " #   Column    Non-Null Count  Dtype \n",
            "---  ------    --------------  ----- \n",
            " 0   Emotion   5548 non-null   object\n",
            " 1   Sentence  5548 non-null   object\n",
            "dtypes: object(2)\n",
            "memory usage: 86.8+ KB\n",
            "<class 'pandas.core.frame.DataFrame'>\n",
            "RangeIndex: 686 entries, 0 to 685\n",
            "Data columns (total 2 columns):\n",
            " #   Column    Non-Null Count  Dtype \n",
            "---  ------    --------------  ----- \n",
            " 0   Emotion   686 non-null    object\n",
            " 1   Sentence  686 non-null    object\n",
            "dtypes: object(2)\n",
            "memory usage: 10.8+ KB\n",
            "<class 'pandas.core.frame.DataFrame'>\n",
            "RangeIndex: 693 entries, 0 to 692\n",
            "Data columns (total 2 columns):\n",
            " #   Column    Non-Null Count  Dtype \n",
            "---  ------    --------------  ----- \n",
            " 0   Emotion   693 non-null    object\n",
            " 1   Sentence  693 non-null    object\n",
            "dtypes: object(2)\n",
            "memory usage: 11.0+ KB\n"
          ]
        },
        {
          "data": {
            "text/plain": [
              "(None, None, None)"
            ]
          },
          "execution_count": 12,
          "metadata": {},
          "output_type": "execute_result"
        }
      ],
      "source": [
        "train_df.info(), valid_df.info(), test_df.info()"
      ]
    },
    {
      "cell_type": "markdown",
      "metadata": {
        "id": "-RIchdeRBjoZ"
      },
      "source": [
        "===> Not found missing value"
      ]
    },
    {
      "cell_type": "code",
      "execution_count": 13,
      "metadata": {
        "colab": {
          "base_uri": "https://localhost:8080/",
          "height": 300
        },
        "execution": {
          "iopub.execute_input": "2023-08-31T15:10:24.821287Z",
          "iopub.status.busy": "2023-08-31T15:10:24.820771Z",
          "iopub.status.idle": "2023-08-31T15:10:25.513484Z",
          "shell.execute_reply": "2023-08-31T15:10:25.512363Z",
          "shell.execute_reply.started": "2023-08-31T15:10:24.821190Z"
        },
        "id": "zMIr5IkLBxIo",
        "outputId": "84384395-26b5-49c0-dcba-dee2d85a14a4",
        "trusted": true
      },
      "outputs": [
        {
          "data": {
            "image/png": "[encoded data removed]",
            "text/plain": [
              "<Figure size 2000x400 with 3 Axes>"
            ]
          },
          "metadata": {},
          "output_type": "display_data"
        }
      ],
      "source": [
        "# Emotional distribution of dataset\n",
        "emotional_labels = sorted(train_df['Emotion'].unique())\n",
        "fig, axes = plt.subplots(nrows=1, ncols=3, figsize=(20, 4))\n",
        "sns.countplot(x='Emotion', data=train_df, order=emotional_labels, ax=axes[0])\n",
        "axes[0].set_xticklabels(axes[0].get_xticklabels(), rotation=45, ha='right')\n",
        "axes[0].set_title('Emotional distribution (Train)')\n",
        "\n",
        "sns.countplot(x='Emotion', data=valid_df, order=emotional_labels, ax=axes[1])\n",
        "axes[1].set_xticklabels(axes[1].get_xticklabels(), rotation=45, ha='right')\n",
        "axes[1].set_title('Emotional distribution (Valid)')\n",
        "\n",
        "sns.countplot(x='Emotion', data=test_df, order=emotional_labels, ax=axes[2])\n",
        "axes[2].set_xticklabels(axes[2].get_xticklabels(), rotation=45, ha='right')\n",
        "axes[2].set_title('Emotional distribution (Test)')\n",
        "\n",
        "plt.show()"
      ]
    },
    {
      "cell_type": "markdown",
      "metadata": {
        "id": "YGSgX48sD__7"
      },
      "source": [
        "===> Imbalanced. Weights should be added to the model"
      ]
    },
    {
      "cell_type": "markdown",
      "metadata": {
        "id": "mY0C0g9zEv5A"
      },
      "source": [
        "## Pre-processing text"
      ]
    },
    {
      "cell_type": "markdown",
      "metadata": {
        "id": "ZAxPCcjSpRsv"
      },
      "source": [
        "Reference: https://github.com/nguyenvanhieuvn/text-classification-tutorial/blob/master/text_classification_tutorial.ipynb"
      ]
    },
    {
      "cell_type": "code",
      "execution_count": 14,
      "metadata": {
        "execution": {
          "iopub.execute_input": "2023-08-31T15:10:25.519775Z",
          "iopub.status.busy": "2023-08-31T15:10:25.519485Z",
          "iopub.status.idle": "2023-08-31T15:10:25.524652Z",
          "shell.execute_reply": "2023-08-31T15:10:25.523544Z",
          "shell.execute_reply.started": "2023-08-31T15:10:25.519749Z"
        },
        "id": "gznnIhirpRsw",
        "trusted": true
      },
      "outputs": [],
      "source": [
        "# Remove HTML code\n",
        "def remove_HTML(text):\n",
        "    return re.sub(r'<[^>]*>', '', text)"
      ]
    },
    {
      "cell_type": "code",
      "execution_count": 15,
      "metadata": {
        "execution": {
          "iopub.execute_input": "2023-08-31T15:10:25.526831Z",
          "iopub.status.busy": "2023-08-31T15:10:25.526272Z",
          "iopub.status.idle": "2023-08-31T15:10:25.535913Z",
          "shell.execute_reply": "2023-08-31T15:10:25.534924Z",
          "shell.execute_reply.started": "2023-08-31T15:10:25.526794Z"
        },
        "id": "PvjVGQzlpRsw",
        "trusted": true
      },
      "outputs": [],
      "source": [
        "# Standardize unicode\n",
        "def convert_unicode(text):\n",
        "    char1252 = 'à|á|ả|ã|ạ|ầ|ấ|ẩ|ẫ|ậ|ằ|ắ|ẳ|ẵ|ặ|è|é|ẻ|ẽ|ẹ|ề|ế|ể|ễ|ệ|ì|í|ỉ|ĩ|ị|ò|ó|ỏ|õ|ọ|ồ|ố|ổ|ỗ|ộ|ờ|ớ|ở|ỡ|ợ|ù|ú|ủ|ũ|ụ|ừ|ứ|ử|ữ|ự|ỳ|ý|ỷ|ỹ|ỵ|À|Á|Ả|Ã|Ạ|Ầ|Ấ|Ẩ|Ẫ|Ậ|Ằ|Ắ|Ẳ|Ẵ|Ặ|È|É|Ẻ|Ẽ|Ẹ|Ề|Ế|Ể|Ễ|Ệ|Ì|Í|Ỉ|Ĩ|Ị|Ò|Ó|Ỏ|Õ|Ọ|Ồ|Ố|Ổ|Ỗ|Ộ|Ờ|Ớ|Ở|Ỡ|Ợ|Ù|Ú|Ủ|Ũ|Ụ|Ừ|Ứ|Ử|Ữ|Ự|Ỳ|Ý|Ỷ|Ỹ|Ỵ'\n",
        "    charutf8 = 'à|á|ả|ã|ạ|ầ|ấ|ẩ|ẫ|ậ|ằ|ắ|ẳ|ẵ|ặ|è|é|ẻ|ẽ|ẹ|ề|ế|ể|ễ|ệ|ì|í|ỉ|ĩ|ị|ò|ó|ỏ|õ|ọ|ồ|ố|ổ|ỗ|ộ|ờ|ớ|ở|ỡ|ợ|ù|ú|ủ|ũ|ụ|ừ|ứ|ử|ữ|ự|ỳ|ý|ỷ|ỹ|ỵ|À|Á|Ả|Ã|Ạ|Ầ|Ấ|Ẩ|Ẫ|Ậ|Ằ|Ắ|Ẳ|Ẵ|Ặ|È|É|Ẻ|Ẽ|Ẹ|Ề|Ế|Ể|Ễ|Ệ|Ì|Í|Ỉ|Ĩ|Ị|Ò|Ó|Ỏ|Õ|Ọ|Ồ|Ố|Ổ|Ỗ|Ộ|Ờ|Ớ|Ở|Ỡ|Ợ|Ù|Ú|Ủ|Ũ|Ụ|Ừ|Ứ|Ử|Ữ|Ự|Ỳ|Ý|Ỷ|Ỹ|Ỵ'\n",
        "    char1252 = char1252.split('|')\n",
        "    charutf8 = charutf8.split('|')\n",
        "\n",
        "    dic = {}\n",
        "    for i in range(len(char1252)): dic[char1252[i]] = charutf8[i]\n",
        "    return re.sub(\n",
        "        r'à|á|ả|ã|ạ|ầ|ấ|ẩ|ẫ|ậ|ằ|ắ|ẳ|ẵ|ặ|è|é|ẻ|ẽ|ẹ|ề|ế|ể|ễ|ệ|ì|í|ỉ|ĩ|ị|ò|ó|ỏ|õ|ọ|ồ|ố|ổ|ỗ|ộ|ờ|ớ|ở|ỡ|ợ|ù|ú|ủ|ũ|ụ|ừ|ứ|ử|ữ|ự|ỳ|ý|ỷ|ỹ|ỵ|À|Á|Ả|Ã|Ạ|Ầ|Ấ|Ẩ|Ẫ|Ậ|Ằ|Ắ|Ẳ|Ẵ|Ặ|È|É|Ẻ|Ẽ|Ẹ|Ề|Ế|Ể|Ễ|Ệ|Ì|Í|Ỉ|Ĩ|Ị|Ò|Ó|Ỏ|Õ|Ọ|Ồ|Ố|Ổ|Ỗ|Ộ|Ờ|Ớ|Ở|Ỡ|Ợ|Ù|Ú|Ủ|Ũ|Ụ|Ừ|Ứ|Ử|Ữ|Ự|Ỳ|Ý|Ỷ|Ỹ|Ỵ',\n",
        "        lambda x: dic[x.group()], text\n",
        "    )"
      ]
    },
    {
      "cell_type": "code",
      "execution_count": 16,
      "metadata": {
        "execution": {
          "iopub.execute_input": "2023-08-31T15:10:25.539166Z",
          "iopub.status.busy": "2023-08-31T15:10:25.538498Z",
          "iopub.status.idle": "2023-08-31T15:10:25.563040Z",
          "shell.execute_reply": "2023-08-31T15:10:25.561816Z",
          "shell.execute_reply.started": "2023-08-31T15:10:25.539133Z"
        },
        "id": "fS9WOIdqpRsx",
        "trusted": true
      },
      "outputs": [],
      "source": [
        "# Standardize accent typing\n",
        "vowels_to_ids = {}\n",
        "vowels_table = [\n",
        "    ['a', 'à', 'á', 'ả', 'ã', 'ạ', 'a' ],\n",
        "    ['ă', 'ằ', 'ắ', 'ẳ', 'ẵ', 'ặ', 'aw'],\n",
        "    ['â', 'ầ', 'ấ', 'ẩ', 'ẫ', 'ậ', 'aa'],\n",
        "    ['e', 'è', 'é', 'ẻ', 'ẽ', 'ẹ', 'e' ],\n",
        "    ['ê', 'ề', 'ế', 'ể', 'ễ', 'ệ', 'ee'],\n",
        "    ['i', 'ì', 'í', 'ỉ', 'ĩ', 'ị', 'i' ],\n",
        "    ['o', 'ò', 'ó', 'ỏ', 'õ', 'ọ', 'o' ],\n",
        "    ['ô', 'ồ', 'ố', 'ổ', 'ỗ', 'ộ', 'oo'],\n",
        "    ['ơ', 'ờ', 'ớ', 'ở', 'ỡ', 'ợ', 'ow'],\n",
        "    ['u', 'ù', 'ú', 'ủ', 'ũ', 'ụ', 'u' ],\n",
        "    ['ư', 'ừ', 'ứ', 'ử', 'ữ', 'ự', 'uw'],\n",
        "    ['y', 'ỳ', 'ý', 'ỷ', 'ỹ', 'ỵ', 'y' ]\n",
        "]\n",
        "\n",
        "for i in range(len(vowels_table)):\n",
        "    for j in range(len(vowels_table[i]) - 1):\n",
        "        vowels_to_ids[vowels_table[i][j]] = (i, j)\n",
        "\n",
        "\n",
        "def is_valid_vietnamese_word(word):\n",
        "    chars = list(word)\n",
        "    vowel_indexes = -1\n",
        "    for index, char in enumerate(chars):\n",
        "        x, y = vowels_to_ids.get(char, (-1, -1))\n",
        "        if x != -1:\n",
        "            if vowel_indexes == -1: vowel_indexes = index\n",
        "            else:\n",
        "                if index - vowel_indexes != 1: return False\n",
        "                vowel_indexes = index\n",
        "    return True\n",
        "\n",
        "\n",
        "def standardize_word_typing(word):\n",
        "    if not is_valid_vietnamese_word(word): return word\n",
        "    chars = list(word)\n",
        "    dau_cau = 0\n",
        "    vowel_indexes = []\n",
        "    qu_or_gi = False\n",
        "\n",
        "    for index, char in enumerate(chars):\n",
        "        x, y = vowels_to_ids.get(char, (-1, -1))\n",
        "        if x == -1: continue\n",
        "        elif x == 9:  # check qu\n",
        "            if index != 0 and chars[index - 1] == 'q':\n",
        "                chars[index] = 'u'\n",
        "                qu_or_gi = True\n",
        "        elif x == 5:  # check gi\n",
        "            if index != 0 and chars[index - 1] == 'g':\n",
        "                chars[index] = 'i'\n",
        "                qu_or_gi = True\n",
        "\n",
        "        if y != 0:\n",
        "            dau_cau = y\n",
        "            chars[index] = vowels_table[x][0]\n",
        "\n",
        "        if not qu_or_gi or index != 1:\n",
        "            vowel_indexes.append(index)\n",
        "\n",
        "    if len(vowel_indexes) < 2:\n",
        "        if qu_or_gi:\n",
        "            if len(chars) == 2:\n",
        "                x, y = vowels_to_ids.get(chars[1])\n",
        "                chars[1] = vowels_table[x][dau_cau]\n",
        "            else:\n",
        "                x, y = vowels_to_ids.get(chars[2], (-1, -1))\n",
        "                if x != -1: chars[2] = vowels_table[x][dau_cau]\n",
        "                else: chars[1] = vowels_table[5][dau_cau] if chars[1] == 'i' else vowels_table[9][dau_cau]\n",
        "            return ''.join(chars)\n",
        "        return word\n",
        "\n",
        "    for index in vowel_indexes:\n",
        "        x, y = vowels_to_ids[chars[index]]\n",
        "        if x == 4 or x == 8:  # ê, ơ\n",
        "            chars[index] = vowels_table[x][dau_cau]\n",
        "            return ''.join(chars)\n",
        "\n",
        "    if len(vowel_indexes) == 2:\n",
        "        if vowel_indexes[-1] == len(chars) - 1:\n",
        "            x, y = vowels_to_ids[chars[vowel_indexes[0]]]\n",
        "            chars[vowel_indexes[0]] = vowels_table[x][dau_cau]\n",
        "        else:\n",
        "            x, y = vowels_to_ids[chars[vowel_indexes[1]]]\n",
        "            chars[vowel_indexes[1]] = vowels_table[x][dau_cau]\n",
        "    else:\n",
        "        x, y = vowels_to_ids[chars[vowel_indexes[1]]]\n",
        "        chars[vowel_indexes[1]] = vowels_table[x][dau_cau]\n",
        "    return ''.join(chars)\n",
        "\n",
        "\n",
        "def standardize_sentence_typing(text):\n",
        "    words = text.lower().split()\n",
        "    for index, word in enumerate(words):\n",
        "        cw = re.sub(r'(^\\p{P}*)([p{L}.]*\\p{L}+)(\\p{P}*$)', r'\\1/\\2/\\3', word).split('/')\n",
        "        if len(cw) == 3: cw[1] = standardize_word_typing(cw[1])\n",
        "        words[index] = ''.join(cw)\n",
        "    return ' '.join(words)"
      ]
    },
    {
      "cell_type": "code",
      "execution_count": 17,
      "metadata": {
        "colab": {
          "base_uri": "https://localhost:8080/"
        },
        "execution": {
          "iopub.execute_input": "2023-08-31T15:10:25.566824Z",
          "iopub.status.busy": "2023-08-31T15:10:25.566518Z",
          "iopub.status.idle": "2023-08-31T15:10:27.765810Z",
          "shell.execute_reply": "2023-08-31T15:10:27.764597Z",
          "shell.execute_reply.started": "2023-08-31T15:10:25.566799Z"
        },
        "id": "eVqTeaXlpRsy",
        "outputId": "13034b19-3c15-45e4-805b-ae563f952dcd",
        "trusted": true
      },
      "outputs": [
        {
          "name": "stdout",
          "output_type": "stream",
          "text": [
            "--2023-08-31 15:50:22--  https://gist.githubusercontent.com/nguyenvanhieuvn/7d9441c10b3c2739499fc5a4d9ea06fb/raw/df939245b3e841b62af115be4dcb3516dadc9fc5/teencode.txt\n",
            "Resolving gist.githubusercontent.com (gist.githubusercontent.com)... 185.199.108.133, 185.199.111.133, 185.199.109.133, ...\n",
            "Connecting to gist.githubusercontent.com (gist.githubusercontent.com)|185.199.108.133|:443... connected.\n",
            "HTTP request sent, awaiting response... 200 OK\n",
            "Length: 5656 (5.5K) [text/plain]\n",
            "Saving to: ‘teencode.txt’\n",
            "\n",
            "teencode.txt        100%[===================>]   5.52K  --.-KB/s    in 0s      \n",
            "\n",
            "2023-08-31 15:50:22 (66.4 MB/s) - ‘teencode.txt’ saved [5656/5656]\n",
            "\n"
          ]
        }
      ],
      "source": [
        "# Normalize acronyms\n",
        "!rm -rf teencode.txt\n",
        "!wget https://gist.githubusercontent.com/nguyenvanhieuvn/7d9441c10b3c2739499fc5a4d9ea06fb/raw/df939245b3e841b62af115be4dcb3516dadc9fc5/teencode.txt\n",
        "\n",
        "replace_list = {\n",
        "    'ô kêi': 'ok', 'okie': 'ok', 'o kê': 'ok', 'okey': 'ok', 'ôkê': 'ok', 'ô kê': 'ok', 'oki': 'ok', 'oke': 'ok', 'okay': 'ok', 'okê': 'ok',\n",
        "    'tks': 'cảm ơn', 'thks': 'cảm ơn', 'thanks': 'cảm ơn', 'ths': 'cảm ơn', 'thank': 'cảm ơn',\n",
        "    'kg': 'không', 'not': 'không', 'k': 'không', 'kh': 'không', 'kô': 'không', 'hok': 'không', 'ko': 'không', 'khong': 'không', 'kp': 'không phải',\n",
        "    'he he': 'cười', 'hehe': 'cười', 'hihi': 'cười', 'haha': 'cười', 'hjhj': 'cười', 'thick': 'thích',\n",
        "    'cc': 'chửi tục', 'huhu': 'khóc', 'cute': 'dễ thương', 'cặc':'chửi tục', 'dm':'chửi tục', 'dmm':'chửi tục', 'dume':'chửi tục',\n",
        "\n",
        "    'sz': 'cỡ', 'size': 'cỡ',\n",
        "    'wa': 'quá', 'wá': 'quá', 'qá': 'quá',\n",
        "    'đx': 'được', 'dk': 'được', 'dc': 'được', 'đk': 'được', 'đc': 'được',\n",
        "    'vs': 'với', 'j': 'gì', '“': ' ', 'time': 'thời gian', 'm': 'mình', 'mik': 'mình', 'r': 'rồi', 'bjo': 'bao giờ', 'very': 'rất',\n",
        "\n",
        "    'authentic': 'chuẩn chính hãng', 'aut': 'chuẩn chính hãng', 'auth': 'chuẩn chính hãng', 'date': 'hạn sử dụng', 'hsd': 'hạn sử dụng',\n",
        "    'store': 'cửa hàng', 'sop': 'cửa hàng', 'sốp': 'cửa hàng', 'shop': 'cửa hàng',\n",
        "    'sp': 'sản phẩm', 'product': 'sản phẩm', 'hàg': 'hàng',\n",
        "    'sgk':'sách giáo khoa', 'cv':'công việc',\n",
        "    'ship': 'giao hàng', 'delivery': 'giao hàng', 'síp': 'giao hàng', 'order': 'đặt hàng',\n",
        "\n",
        "    'gud': 'tốt', 'wel done': 'tốt', 'good': 'tốt', 'gút': 'tốt', 'tot': 'tốt', 'nice': 'tốt', 'perfect': 'rất tốt',\n",
        "    'quality': 'chất lượng', 'chất lg': 'chất lượng', 'excelent': 'hoàn hảo', 'bt': 'bình thường', 'bth': 'bình thường',\n",
        "    'sad': 'tệ', 'por': 'tệ', 'poor': 'tệ', 'bad': 'tệ',\n",
        "    'beautiful': 'đẹp tuyệt vời', 'dep': 'đẹp',\n",
        "    'xau': 'xấu', 'sấu': 'xấu',\n",
        "\n",
        "    'thik': 'thích', 'iu': 'yêu', 'fake': 'giả mạo',\n",
        "    'quickly': 'nhanh', 'quick': 'nhanh', 'fast': 'nhanh',\n",
        "    'fresh': 'tươi', 'delicious': 'ngon',\n",
        "\n",
        "    'dt': 'điện thoại', 'fb': 'facebook', 'face': 'facebook', 'ks': 'khách sạn', 'nv': 'nhân viên',\n",
        "    'nt': 'nhắn tin', 'ib': 'nhắn tin', 'tl': 'trả lời', 'trl': 'trả lời', 'rep': 'trả lời',\n",
        "    'fback': 'feedback', 'fedback': 'feedback',\n",
        "    'sd': 'sử dụng', 'sài': 'xài',\n",
        "\n",
        "    '^_^': 'cười', ':)': 'mỉm cười', ':(': 'buồn', '=))': 'cười',\n",
        "    '❤️': 'yêu thích', '👍': 'thích', '🎉': 'chúc mừng', '😀': 'cười', '😍': 'yêu thích', '😂': 'cười chảy nước mắt', '🤗': 'vỗ tay', '😙': 'cười', '🙂': 'mỉm cười',\n",
        "    '😔': 'buồn', '😓': 'buồn', 'T_T': 'khóc', '😭': 'khóc lớn',\n",
        "    '⭐': 'star', '*': 'star', '🌟': 'star',\n",
        "}\n",
        "\n",
        "with open('teencode.txt', encoding='utf-8') as f:\n",
        "    for pair in f.readlines():\n",
        "        key, value = pair.split('\\t')\n",
        "        replace_list[key] = value.strip()\n",
        "\n",
        "\n",
        "def normalize_acronyms(text):\n",
        "    words = []\n",
        "    for word in text.strip().split():\n",
        "        if word.lower() not in replace_list.keys(): words.append(word)\n",
        "        else: words.append(replace_list[word.lower()])\n",
        "    return emoji.demojize(' '.join(words)) # Remove Emojis"
      ]
    },
    {
      "cell_type": "code",
      "execution_count": 18,
      "metadata": {
        "execution": {
          "iopub.execute_input": "2023-08-31T15:10:27.770085Z",
          "iopub.status.busy": "2023-08-31T15:10:27.769744Z",
          "iopub.status.idle": "2023-08-31T15:10:27.777920Z",
          "shell.execute_reply": "2023-08-31T15:10:27.776909Z",
          "shell.execute_reply.started": "2023-08-31T15:10:27.770054Z"
        },
        "id": "-W8iuPK_pRsz",
        "trusted": true
      },
      "outputs": [],
      "source": [
        "# Remove unnecessary characters\n",
        "def remove_unnecessary_characters(text):\n",
        "    text = re.sub(r'[^\\s\\wáàảãạăắằẳẵặâấầẩẫậéèẻẽẹêếềểễệóòỏõọôốồổỗộơớờởỡợíìỉĩịúùủũụưứừửữựýỳỷỹỵđÁÀẢÃẠĂẮẰẲẴẶÂẤẦẨẪẬÉÈẺẼẸÊẾỀỂỄỆÓÒỎÕỌÔỐỒỔỖỘƠỚỜỞỠỢÍÌỈĨỊÚÙỦŨỤƯỨỪỬỮỰÝỲỶỸỴĐ_]', ' ', text)\n",
        "    text = re.sub(r\"[\\.,\\?]+$-\", \"\", text)\n",
        "    text = text.replace(\",\", \" \").replace(\".\", \" \") \\\n",
        "        .replace(\";\", \" \").replace(\"“\", \" \") \\\n",
        "        .replace(\":\", \" \").replace(\"”\", \" \") \\\n",
        "        .replace('\"', \" \").replace(\"'\", \" \") \\\n",
        "        .replace(\"!\", \" \").replace(\"?\", \" \") \\\n",
        "        .replace(\"-\", \" \").replace(\"?\", \" \")\n",
        "    text = re.sub(r'\\s+', ' ', text).strip() # Remove extra whitespace\n",
        "    return text"
      ]
    },
    {
      "cell_type": "code",
      "execution_count": 19,
      "metadata": {
        "execution": {
          "iopub.execute_input": "2023-08-31T15:10:27.779573Z",
          "iopub.status.busy": "2023-08-31T15:10:27.778963Z",
          "iopub.status.idle": "2023-08-31T15:10:27.790103Z",
          "shell.execute_reply": "2023-08-31T15:10:27.789132Z",
          "shell.execute_reply.started": "2023-08-31T15:10:27.779540Z"
        },
        "id": "nJBD2ZwvpRsz",
        "trusted": true
      },
      "outputs": [],
      "source": [
        "# Word segmentation & Tokenize\n",
        "def word_segmentation(line):\n",
        "    return underthesea.word_tokenize(line, format=\"text\")"
      ]
    },
    {
      "cell_type": "code",
      "execution_count": 20,
      "metadata": {
        "execution": {
          "iopub.execute_input": "2023-08-31T15:10:27.792052Z",
          "iopub.status.busy": "2023-08-31T15:10:27.791532Z",
          "iopub.status.idle": "2023-08-31T15:10:27.800194Z",
          "shell.execute_reply": "2023-08-31T15:10:27.799295Z",
          "shell.execute_reply.started": "2023-08-31T15:10:27.792018Z"
        },
        "id": "pnpklFMf1G2D",
        "trusted": true
      },
      "outputs": [],
      "source": [
        "def text_preprocess(text):\n",
        "    text = remove_HTML(text)\n",
        "    text = convert_unicode(text)\n",
        "    text = standardize_sentence_typing(text)\n",
        "    text = normalize_acronyms(text)\n",
        "    text = word_segmentation(text) # required for PhoBERT\n",
        "    text = remove_unnecessary_characters(text)\n",
        "    return text"
      ]
    },
    {
      "cell_type": "code",
      "execution_count": 21,
      "metadata": {
        "colab": {
          "base_uri": "https://localhost:8080/"
        },
        "execution": {
          "iopub.execute_input": "2023-08-31T15:10:27.802232Z",
          "iopub.status.busy": "2023-08-31T15:10:27.801631Z",
          "iopub.status.idle": "2023-08-31T15:10:28.155798Z",
          "shell.execute_reply": "2023-08-31T15:10:28.154654Z",
          "shell.execute_reply.started": "2023-08-31T15:10:27.802200Z"
        },
        "id": "kid5LpRGW3VS",
        "outputId": "75ee0a06-60ad-4122-8c81-2f12f3e2247f",
        "trusted": true
      },
      "outputs": [
        {
          "name": "stdout",
          "output_type": "stream",
          "text": [
            "Before: hồi học lớp 5 bảo bố đi mua sgk cho , xong bố đi mua nguyên bộ lớp 4 đầy đủ từ sgk đến vở bài tập 😂\n",
            "After: hồi học lớp 5 bảo bố đi mua sách_giáo_khoa cho xong bố đi mua nguyên_bộ lớp 4 đầy_đủ từ sách_giáo_khoa đến vở bài_tập cười chảy nước_mắt\n"
          ]
        }
      ],
      "source": [
        "# Test function text_preprocess\n",
        "print(f\"Before: {train_df.iloc[32, 1]}\")\n",
        "print(f\"After: {text_preprocess(train_df.iloc[32, 1])}\")"
      ]
    },
    {
      "cell_type": "markdown",
      "metadata": {
        "id": "0MB-FrLgIzE6"
      },
      "source": [
        "# Prepare training data"
      ]
    },
    {
      "cell_type": "code",
      "execution_count": 22,
      "metadata": {
        "execution": {
          "iopub.execute_input": "2023-08-31T15:10:28.158444Z",
          "iopub.status.busy": "2023-08-31T15:10:28.157337Z",
          "iopub.status.idle": "2023-08-31T15:10:28.170882Z",
          "shell.execute_reply": "2023-08-31T15:10:28.169907Z",
          "shell.execute_reply.started": "2023-08-31T15:10:28.158407Z"
        },
        "id": "beF6BEO1j9mG",
        "trusted": true
      },
      "outputs": [],
      "source": [
        "class SentimentDataset(Dataset):\n",
        "    def __init__(self, df, tokenizer, max_len=MAX_LEN):\n",
        "        self.df = df\n",
        "        self.max_len = max_len\n",
        "        self.tokenizer = tokenizer\n",
        "\n",
        "    def __len__(self):\n",
        "        return len(self.df)\n",
        "\n",
        "    def __getitem__(self, index):\n",
        "        \"\"\"\n",
        "        To customize dataset, inherit from Dataset class and implement\n",
        "        __len__ & __getitem__\n",
        "        __getitem__ should return\n",
        "            data:\n",
        "                input_ids\n",
        "                attention_masks\n",
        "                text\n",
        "                targets\n",
        "        \"\"\"\n",
        "        row = self.df.iloc[index]\n",
        "        text, label = self.get_input_data(row)\n",
        "\n",
        "        # Encode_plus will:\n",
        "        # (1) split text into token\n",
        "        # (2) Add the '[CLS]' and '[SEP]' token to the start and end\n",
        "        # (3) Truncate/Pad sentence to max length\n",
        "        # (4) Map token to their IDS\n",
        "        # (5) Create attention mask\n",
        "        # (6) Return a dictionary of outputs\n",
        "        encoding = self.tokenizer.encode_plus(\n",
        "            text,\n",
        "            truncation=True,\n",
        "            add_special_tokens=True,\n",
        "            max_length=self.max_len,\n",
        "            padding='max_length',\n",
        "            return_attention_mask=True,\n",
        "            return_token_type_ids=False,\n",
        "            return_tensors='pt',\n",
        "        )\n",
        "\n",
        "        return {\n",
        "            'text': text,\n",
        "            'input_ids': encoding['input_ids'].flatten(),\n",
        "            'attention_masks': encoding['attention_mask'].flatten(),\n",
        "            'targets': torch.tensor(label, dtype=torch.long),\n",
        "        }\n",
        "\n",
        "\n",
        "    def labelencoder(self,text):\n",
        "        if text=='Enjoyment':\n",
        "            return 0\n",
        "        elif text=='Disgust':\n",
        "            return 1\n",
        "        elif text=='Sadness':\n",
        "            return 2\n",
        "        elif text=='Anger':\n",
        "            return 3\n",
        "        elif text=='Surprise':\n",
        "            return 4\n",
        "        elif text=='Fear':\n",
        "            return 5\n",
        "        else:\n",
        "            return 6\n",
        "\n",
        "    def get_input_data(self, row):\n",
        "        text = row['Sentence']\n",
        "        text = text_preprocess(text)\n",
        "        label = self.labelencoder(row['Emotion'])\n",
        "\n",
        "        return text, label"
      ]
    },
    {
      "cell_type": "markdown",
      "metadata": {
        "id": "aW24Lj4RP4vF"
      },
      "source": [
        "# Model"
      ]
    },
    {
      "cell_type": "code",
      "execution_count": 23,
      "metadata": {
        "execution": {
          "iopub.execute_input": "2023-08-31T15:10:28.172822Z",
          "iopub.status.busy": "2023-08-31T15:10:28.172446Z",
          "iopub.status.idle": "2023-08-31T15:10:28.185878Z",
          "shell.execute_reply": "2023-08-31T15:10:28.184965Z",
          "shell.execute_reply.started": "2023-08-31T15:10:28.172790Z"
        },
        "id": "cTS6tQ8344OM",
        "trusted": true
      },
      "outputs": [],
      "source": [
        "class SentimentClassifier(nn.Module):\n",
        "    def __init__(self, n_classes):\n",
        "        super(SentimentClassifier, self).__init__()\n",
        "        self.bert = phobert\n",
        "        self.drop = nn.Dropout(p=DROPOUT)\n",
        "        self.fc = nn.Linear(self.bert.config.hidden_size, n_classes)\n",
        "        nn.init.normal_(self.fc.weight, std=0.02)\n",
        "        nn.init.normal_(self.fc.bias, 0)\n",
        "\n",
        "    def forward(self, input_ids, attention_mask):\n",
        "        last_hidden_state, output = self.bert(\n",
        "            input_ids=input_ids,\n",
        "            attention_mask=attention_mask,\n",
        "            return_dict=False # Dropout will errors if without this\n",
        "        )\n",
        "\n",
        "        x = self.drop(output)\n",
        "        x = self.fc(x)\n",
        "        return x"
      ]
    },
    {
      "cell_type": "markdown",
      "metadata": {
        "id": "6bfdxxAf5C4q"
      },
      "source": [
        "## Train & Eval Function"
      ]
    },
    {
      "cell_type": "code",
      "execution_count": 24,
      "metadata": {
        "execution": {
          "iopub.execute_input": "2023-08-31T15:10:28.187661Z",
          "iopub.status.busy": "2023-08-31T15:10:28.187223Z",
          "iopub.status.idle": "2023-08-31T15:10:28.200362Z",
          "shell.execute_reply": "2023-08-31T15:10:28.199400Z",
          "shell.execute_reply.started": "2023-08-31T15:10:28.187627Z"
        },
        "id": "p2bNg4j44_W4",
        "trusted": true
      },
      "outputs": [],
      "source": [
        "def train(model, criterion, optimizer, train_loader):\n",
        "    model.train()\n",
        "    losses = []\n",
        "    correct = 0\n",
        "    all_preds = []\n",
        "    all_targets = []\n",
        "\n",
        "    loader_bar = tqdm(train_loader, desc='Train', position=0, leave=True)\n",
        "\n",
        "    for data in train_loader:\n",
        "        input_ids = data['input_ids'].to(device)\n",
        "        attention_mask = data['attention_masks'].to(device)\n",
        "        targets = data['targets'].to(device)\n",
        "\n",
        "        optimizer.zero_grad()\n",
        "        outputs = model(\n",
        "            input_ids=input_ids,\n",
        "            attention_mask=attention_mask\n",
        "        )\n",
        "\n",
        "        loss = criterion(outputs, targets)\n",
        "        _, pred = torch.max(outputs, dim=1)\n",
        "\n",
        "        correct += torch.sum(pred == targets)\n",
        "        losses.append(loss.item())\n",
        "        loss.backward()\n",
        "        nn.utils.clip_grad_norm_(model.parameters(), max_norm=1.0)\n",
        "        optimizer.step()\n",
        "        lr_scheduler.step()\n",
        "\n",
        "        all_preds.extend(pred.cpu().numpy())\n",
        "        all_targets.extend(targets.cpu().numpy())\n",
        "\n",
        "        loader_bar.set_postfix({'loss': np.mean(losses)})\n",
        "        loader_bar.update()\n",
        "\n",
        "    accuracy = correct.double() / len(train_loader.dataset)\n",
        "    f1 = f1_score(all_targets, all_preds, average='weighted')\n",
        "\n",
        "    print(f'Train Accuracy: {accuracy:.4f}  -  Loss: {np.mean(losses):.4f}  -  F1-Score: {f1:.4f}')\n",
        "\n",
        "    return accuracy, f1"
      ]
    },
    {
      "cell_type": "code",
      "execution_count": 25,
      "metadata": {
        "execution": {
          "iopub.execute_input": "2023-08-31T15:10:28.202339Z",
          "iopub.status.busy": "2023-08-31T15:10:28.201801Z",
          "iopub.status.idle": "2023-08-31T15:10:28.213364Z",
          "shell.execute_reply": "2023-08-31T15:10:28.212210Z",
          "shell.execute_reply.started": "2023-08-31T15:10:28.202304Z"
        },
        "id": "73peNlCoR4DV",
        "trusted": true
      },
      "outputs": [],
      "source": [
        "def eval(test_data=False):\n",
        "    model.eval()\n",
        "    losses = []\n",
        "    correct = 0\n",
        "    all_preds = []\n",
        "    all_targets = []\n",
        "\n",
        "    with torch.no_grad():\n",
        "        data_loader = test_loader if test_data else valid_loader\n",
        "        loader_bar = tqdm(data_loader, desc=('Test' if test_data else 'Valid'), position=0, leave=True)\n",
        "        for data in data_loader:\n",
        "            input_ids = data['input_ids'].to(device)\n",
        "            attention_mask = data['attention_masks'].to(device)\n",
        "            targets = data['targets'].to(device)\n",
        "\n",
        "            outputs = model(\n",
        "                input_ids=input_ids,\n",
        "                attention_mask=attention_mask\n",
        "            )\n",
        "\n",
        "            _, pred = torch.max(outputs, dim=1)\n",
        "\n",
        "            loss = criterion(outputs, targets)\n",
        "            correct += torch.sum(pred == targets)\n",
        "            losses.append(loss.item())\n",
        "\n",
        "            all_preds.extend(pred.cpu().numpy())\n",
        "            all_targets.extend(targets.cpu().numpy())\n",
        "\n",
        "            loader_bar.set_postfix({'loss': np.mean(losses)})\n",
        "            loader_bar.update()\n",
        "\n",
        "    accuracy = correct.double() / len(data_loader.dataset)\n",
        "    f1 = f1_score(all_targets, all_preds, average='weighted')\n",
        "\n",
        "    if test_data:\n",
        "        print(f'Test Accuracy: {accuracy:.4f}  -  Loss: {np.mean(losses):.4f}  -  F1-Score: {f1:.4f}')\n",
        "    else:\n",
        "        print(f'Valid Accuracy: {accuracy:.4f}  -  Loss: {np.mean(losses):.4f}  -  F1-Score: {f1:.4f}')\n",
        "\n",
        "    return accuracy, f1"
      ]
    },
    {
      "cell_type": "markdown",
      "metadata": {
        "id": "MhtIx0tFRliY"
      },
      "source": [
        "## Training k-fold"
      ]
    },
    {
      "cell_type": "code",
      "execution_count": 26,
      "metadata": {
        "colab": {
          "base_uri": "https://localhost:8080/"
        },
        "execution": {
          "iopub.execute_input": "2023-08-31T15:10:28.215673Z",
          "iopub.status.busy": "2023-08-31T15:10:28.214975Z",
          "iopub.status.idle": "2023-08-31T15:10:28.248976Z",
          "shell.execute_reply": "2023-08-31T15:10:28.247792Z",
          "shell.execute_reply.started": "2023-08-31T15:10:28.215640Z"
        },
        "id": "iR0Jodz4F_rJ",
        "outputId": "68ac8ac1-9f60-4de0-8dd6-5a000f484e3d",
        "trusted": true
      },
      "outputs": [
        {
          "name": "stdout",
          "output_type": "stream",
          "text": [
            "\n",
            "Fold 0 Training Set Shape = (2774,) - Validation Set Shape = (2774,)\n",
            "Fold 0 Training Set Unique Emotion Count = 7 - Validation Set Unique Emotion Count = 7\n",
            "\n",
            "Fold 1 Training Set Shape = (2774,) - Validation Set Shape = (2774,)\n",
            "Fold 1 Training Set Unique Emotion Count = 7 - Validation Set Unique Emotion Count = 7\n"
          ]
        }
      ],
      "source": [
        "# Use Kfold - Cross-validation for training model\n",
        "skf = StratifiedKFold(n_splits=N_SPLITS)\n",
        "\n",
        "for fold, (trn_idx, val_idx) in enumerate(skf.split(X=train_df, y=train_df.Emotion)):\n",
        "    train_df.loc[val_idx, \"kfold\"] = fold\n",
        "    print('\\nFold {} Training Set Shape = {} - Validation Set Shape = {}'.format(fold, train_df.loc[trn_idx, 'Sentence'].shape, train_df.loc[val_idx, 'Sentence'].shape))\n",
        "    print('Fold {} Training Set Unique Emotion Count = {} - Validation Set Unique Emotion Count = {}'.format(fold, train_df.loc[trn_idx, 'Emotion'].nunique(), train_df.loc[val_idx, 'Emotion'].nunique()))"
      ]
    },
    {
      "cell_type": "code",
      "execution_count": 27,
      "metadata": {
        "execution": {
          "iopub.execute_input": "2023-08-31T15:10:28.250822Z",
          "iopub.status.busy": "2023-08-31T15:10:28.250263Z",
          "iopub.status.idle": "2023-08-31T15:10:28.257771Z",
          "shell.execute_reply": "2023-08-31T15:10:28.256785Z",
          "shell.execute_reply.started": "2023-08-31T15:10:28.250790Z"
        },
        "id": "bSor1ckl5JO6",
        "trusted": true
      },
      "outputs": [],
      "source": [
        "def prepare_loaders(df, fold):\n",
        "    df_train = df[df.kfold != fold].reset_index(drop=True)\n",
        "    df_valid = df[df.kfold == fold].reset_index(drop=True)\n",
        "\n",
        "    train_dataset = SentimentDataset(df_train, tokenizer, max_len=MAX_LEN)\n",
        "    valid_dataset = SentimentDataset(df_valid, tokenizer, max_len=MAX_LEN)\n",
        "\n",
        "    train_loader = DataLoader(train_dataset, batch_size=BATCH_SIZE, shuffle=True, num_workers=2)\n",
        "    valid_loader = DataLoader(valid_dataset, batch_size=BATCH_SIZE, shuffle=True, num_workers=2)\n",
        "\n",
        "    return train_loader, valid_loader"
      ]
    },
    {
      "cell_type": "code",
      "execution_count": 28,
      "metadata": {
        "colab": {
          "base_uri": "https://localhost:8080/"
        },
        "execution": {
          "iopub.execute_input": "2023-08-31T15:10:28.259902Z",
          "iopub.status.busy": "2023-08-31T15:10:28.259235Z",
          "iopub.status.idle": "2023-08-31T15:10:28.275918Z",
          "shell.execute_reply": "2023-08-31T15:10:28.274396Z",
          "shell.execute_reply.started": "2023-08-31T15:10:28.259838Z"
        },
        "id": "N4GBur38R4DW",
        "outputId": "8a780b7e-a2be-4b0c-de39-beb17a55f8aa",
        "trusted": true
      },
      "outputs": [
        {
          "name": "stdout",
          "output_type": "stream",
          "text": [
            "tensor([0.5087, 0.7400, 0.8369, 2.0270, 3.2751, 2.4924, 0.7763])\n"
          ]
        }
      ],
      "source": [
        "# Class weight\n",
        "from sklearn.utils.class_weight import compute_class_weight\n",
        "class_weights = compute_class_weight(class_weight = \"balanced\",\n",
        "                                    classes = ['Enjoyment', 'Disgust', 'Sadness', 'Anger', 'Surprise', 'Fear', 'Other'],\n",
        "                                    y = train_df['Emotion'])\n",
        "class_weights = torch.tensor(class_weights, dtype=torch.float32)\n",
        "print(class_weights)"
      ]
    },
    {
      "cell_type": "code",
      "execution_count": 29,
      "metadata": {
        "colab": {
          "base_uri": "https://localhost:8080/"
        },
        "execution": {
          "iopub.execute_input": "2023-08-31T15:10:28.278083Z",
          "iopub.status.busy": "2023-08-31T15:10:28.277444Z",
          "iopub.status.idle": "2023-08-31T15:23:13.977197Z",
          "shell.execute_reply": "2023-08-31T15:23:13.975958Z",
          "shell.execute_reply.started": "2023-08-31T15:10:28.278050Z"
        },
        "id": "fcB7ioIx5L_3",
        "outputId": "994c3021-26ac-4c2e-c9b9-fd1278351e30",
        "trusted": true
      },
      "outputs": [
        {
          "name": "stdout",
          "output_type": "stream",
          "text": [
            "\n",
            "============ Fold: 1 ============\n",
            "\n",
            "Epoch 1/8\n",
            "--------------------------------------------------\n"
          ]
        },
        {
          "name": "stderr",
          "output_type": "stream",
          "text": [
            "Train: 100%|██████████| 174/174 [01:05<00:00,  2.66it/s, loss=2.03]\n"
          ]
        },
        {
          "name": "stdout",
          "output_type": "stream",
          "text": [
            "Train Accuracy: 0.2848  -  Loss: 2.0348  -  F1-Score: 0.1968\n"
          ]
        },
        {
          "name": "stderr",
          "output_type": "stream",
          "text": [
            "Valid: 100%|██████████| 174/174 [00:19<00:00,  8.82it/s, loss=1.78]\n"
          ]
        },
        {
          "name": "stdout",
          "output_type": "stream",
          "text": [
            "Valid Accuracy: 0.3554  -  Loss: 1.7815  -  F1-Score: 0.2566\n",
            "\n",
            "Epoch 2/8\n",
            "--------------------------------------------------\n"
          ]
        },
        {
          "name": "stderr",
          "output_type": "stream",
          "text": [
            "Train: 100%|██████████| 174/174 [01:02<00:00,  2.78it/s, loss=1.64]\n"
          ]
        },
        {
          "name": "stdout",
          "output_type": "stream",
          "text": [
            "Train Accuracy: 0.4189  -  Loss: 1.6401  -  F1-Score: 0.3971\n"
          ]
        },
        {
          "name": "stderr",
          "output_type": "stream",
          "text": [
            "Valid: 100%|██████████| 174/174 [00:19<00:00,  9.03it/s, loss=1.5]\n"
          ]
        },
        {
          "name": "stdout",
          "output_type": "stream",
          "text": [
            "Valid Accuracy: 0.4773  -  Loss: 1.5036  -  F1-Score: 0.4499\n",
            "\n",
            "Epoch 3/8\n",
            "--------------------------------------------------\n"
          ]
        },
        {
          "name": "stderr",
          "output_type": "stream",
          "text": [
            "Train: 100%|██████████| 174/174 [01:02<00:00,  2.76it/s, loss=1.31]\n"
          ]
        },
        {
          "name": "stdout",
          "output_type": "stream",
          "text": [
            "Train Accuracy: 0.5566  -  Loss: 1.3141  -  F1-Score: 0.5503\n"
          ]
        },
        {
          "name": "stderr",
          "output_type": "stream",
          "text": [
            "Valid: 100%|██████████| 174/174 [00:19<00:00,  9.11it/s, loss=1.29]\n"
          ]
        },
        {
          "name": "stdout",
          "output_type": "stream",
          "text": [
            "Valid Accuracy: 0.5671  -  Loss: 1.2889  -  F1-Score: 0.5705\n",
            "\n",
            "Epoch 4/8\n",
            "--------------------------------------------------\n"
          ]
        },
        {
          "name": "stderr",
          "output_type": "stream",
          "text": [
            "Train: 100%|██████████| 174/174 [01:03<00:00,  2.76it/s, loss=1.03]\n"
          ]
        },
        {
          "name": "stdout",
          "output_type": "stream",
          "text": [
            "Train Accuracy: 0.6590  -  Loss: 1.0291  -  F1-Score: 0.6568\n"
          ]
        },
        {
          "name": "stderr",
          "output_type": "stream",
          "text": [
            "Valid: 100%|██████████| 174/174 [00:18<00:00,  9.22it/s, loss=1.2]\n"
          ]
        },
        {
          "name": "stdout",
          "output_type": "stream",
          "text": [
            "Valid Accuracy: 0.5440  -  Loss: 1.2022  -  F1-Score: 0.5539\n",
            "\n",
            "Epoch 5/8\n",
            "--------------------------------------------------\n"
          ]
        },
        {
          "name": "stderr",
          "output_type": "stream",
          "text": [
            "Train: 100%|██████████| 174/174 [01:02<00:00,  2.77it/s, loss=0.831]\n"
          ]
        },
        {
          "name": "stdout",
          "output_type": "stream",
          "text": [
            "Train Accuracy: 0.7325  -  Loss: 0.8305  -  F1-Score: 0.7318\n"
          ]
        },
        {
          "name": "stderr",
          "output_type": "stream",
          "text": [
            "Valid: 100%|██████████| 174/174 [00:19<00:00,  9.13it/s, loss=1.21]\n"
          ]
        },
        {
          "name": "stdout",
          "output_type": "stream",
          "text": [
            "Valid Accuracy: 0.5959  -  Loss: 1.2092  -  F1-Score: 0.6001\n",
            "\n",
            "Epoch 6/8\n",
            "--------------------------------------------------\n"
          ]
        },
        {
          "name": "stderr",
          "output_type": "stream",
          "text": [
            "Train: 100%|██████████| 174/174 [01:03<00:00,  2.76it/s, loss=0.66]\n"
          ]
        },
        {
          "name": "stdout",
          "output_type": "stream",
          "text": [
            "Train Accuracy: 0.7934  -  Loss: 0.6603  -  F1-Score: 0.7920\n"
          ]
        },
        {
          "name": "stderr",
          "output_type": "stream",
          "text": [
            "Valid: 100%|██████████| 174/174 [00:19<00:00,  9.11it/s, loss=1.2]\n"
          ]
        },
        {
          "name": "stdout",
          "output_type": "stream",
          "text": [
            "Valid Accuracy: 0.6053  -  Loss: 1.1959  -  F1-Score: 0.6040\n",
            "\n",
            "Epoch 7/8\n",
            "--------------------------------------------------\n"
          ]
        },
        {
          "name": "stderr",
          "output_type": "stream",
          "text": [
            "Train: 100%|██████████| 174/174 [01:02<00:00,  2.77it/s, loss=0.56]\n"
          ]
        },
        {
          "name": "stdout",
          "output_type": "stream",
          "text": [
            "Train Accuracy: 0.8335  -  Loss: 0.5599  -  F1-Score: 0.8328\n"
          ]
        },
        {
          "name": "stderr",
          "output_type": "stream",
          "text": [
            "Valid: 100%|██████████| 174/174 [00:18<00:00,  9.21it/s, loss=1.27]\n"
          ]
        },
        {
          "name": "stdout",
          "output_type": "stream",
          "text": [
            "Valid Accuracy: 0.6121  -  Loss: 1.2687  -  F1-Score: 0.6101\n",
            "\n",
            "Epoch 8/8\n",
            "--------------------------------------------------\n"
          ]
        },
        {
          "name": "stderr",
          "output_type": "stream",
          "text": [
            "Train: 100%|██████████| 174/174 [01:02<00:00,  2.77it/s, loss=0.487]\n"
          ]
        },
        {
          "name": "stdout",
          "output_type": "stream",
          "text": [
            "Train Accuracy: 0.8673  -  Loss: 0.4874  -  F1-Score: 0.8666\n"
          ]
        },
        {
          "name": "stderr",
          "output_type": "stream",
          "text": [
            "Valid: 100%|██████████| 174/174 [00:18<00:00,  9.22it/s, loss=1.25]\n"
          ]
        },
        {
          "name": "stdout",
          "output_type": "stream",
          "text": [
            "Valid Accuracy: 0.6125  -  Loss: 1.2549  -  F1-Score: 0.6125\n",
            "\n",
            "Best accuracy: 0.6125\tBest F1-score: 0.6125\n",
            "\n",
            "============ Fold: 2 ============\n",
            "\n",
            "Epoch 1/8\n",
            "--------------------------------------------------\n"
          ]
        },
        {
          "name": "stderr",
          "output_type": "stream",
          "text": [
            "Train: 100%|██████████| 174/174 [01:03<00:00,  2.76it/s, loss=1.74]\n"
          ]
        },
        {
          "name": "stdout",
          "output_type": "stream",
          "text": [
            "Train Accuracy: 0.4041  -  Loss: 1.7388  -  F1-Score: 0.4169\n"
          ]
        },
        {
          "name": "stderr",
          "output_type": "stream",
          "text": [
            "Valid: 100%|██████████| 174/174 [00:19<00:00,  9.12it/s, loss=1.07]\n"
          ]
        },
        {
          "name": "stdout",
          "output_type": "stream",
          "text": [
            "Valid Accuracy: 0.7931  -  Loss: 1.0721  -  F1-Score: 0.8010\n",
            "\n",
            "Epoch 2/8\n",
            "--------------------------------------------------\n"
          ]
        },
        {
          "name": "stderr",
          "output_type": "stream",
          "text": [
            "Train: 100%|██████████| 174/174 [01:02<00:00,  2.77it/s, loss=1.24]\n"
          ]
        },
        {
          "name": "stdout",
          "output_type": "stream",
          "text": [
            "Train Accuracy: 0.6291  -  Loss: 1.2435  -  F1-Score: 0.6294\n"
          ]
        },
        {
          "name": "stderr",
          "output_type": "stream",
          "text": [
            "Valid: 100%|██████████| 174/174 [00:18<00:00,  9.25it/s, loss=0.758]\n"
          ]
        },
        {
          "name": "stdout",
          "output_type": "stream",
          "text": [
            "Valid Accuracy: 0.8053  -  Loss: 0.7576  -  F1-Score: 0.8066\n",
            "\n",
            "Epoch 3/8\n",
            "--------------------------------------------------\n"
          ]
        },
        {
          "name": "stderr",
          "output_type": "stream",
          "text": [
            "Train: 100%|██████████| 174/174 [01:02<00:00,  3.31it/s, loss=0.992]"
          ]
        },
        {
          "name": "stdout",
          "output_type": "stream",
          "text": [
            "Train Accuracy: 0.6975  -  Loss: 0.9922  -  F1-Score: 0.6982\n"
          ]
        },
        {
          "name": "stderr",
          "output_type": "stream",
          "text": [
            "Train: 100%|██████████| 174/174 [01:03<00:00,  2.76it/s, loss=0.992]\n",
            "Valid: 100%|██████████| 174/174 [00:18<00:00,  9.20it/s, loss=0.658]\n"
          ]
        },
        {
          "name": "stdout",
          "output_type": "stream",
          "text": [
            "Valid Accuracy: 0.8014  -  Loss: 0.6583  -  F1-Score: 0.8023\n",
            "\n",
            "Epoch 4/8\n",
            "--------------------------------------------------\n"
          ]
        },
        {
          "name": "stderr",
          "output_type": "stream",
          "text": [
            "Train: 100%|██████████| 174/174 [01:02<00:00,  2.77it/s, loss=0.761]\n"
          ]
        },
        {
          "name": "stdout",
          "output_type": "stream",
          "text": [
            "Train Accuracy: 0.7740  -  Loss: 0.7612  -  F1-Score: 0.7733\n"
          ]
        },
        {
          "name": "stderr",
          "output_type": "stream",
          "text": [
            "Valid: 100%|██████████| 174/174 [00:19<00:00,  9.10it/s, loss=0.557]\n"
          ]
        },
        {
          "name": "stdout",
          "output_type": "stream",
          "text": [
            "Valid Accuracy: 0.8180  -  Loss: 0.5569  -  F1-Score: 0.8177\n",
            "\n",
            "Epoch 5/8\n",
            "--------------------------------------------------\n"
          ]
        },
        {
          "name": "stderr",
          "output_type": "stream",
          "text": [
            "Train: 100%|██████████| 174/174 [01:02<00:00,  2.78it/s, loss=0.593]\n"
          ]
        },
        {
          "name": "stdout",
          "output_type": "stream",
          "text": [
            "Train Accuracy: 0.8374  -  Loss: 0.5932  -  F1-Score: 0.8374\n"
          ]
        },
        {
          "name": "stderr",
          "output_type": "stream",
          "text": [
            "Valid: 100%|██████████| 174/174 [00:18<00:00,  9.19it/s, loss=0.536]\n"
          ]
        },
        {
          "name": "stdout",
          "output_type": "stream",
          "text": [
            "Valid Accuracy: 0.8219  -  Loss: 0.5362  -  F1-Score: 0.8226\n",
            "\n",
            "Epoch 6/8\n",
            "--------------------------------------------------\n"
          ]
        },
        {
          "name": "stderr",
          "output_type": "stream",
          "text": [
            "Train: 100%|██████████| 174/174 [01:02<00:00,  2.77it/s, loss=0.47]\n"
          ]
        },
        {
          "name": "stdout",
          "output_type": "stream",
          "text": [
            "Train Accuracy: 0.8724  -  Loss: 0.4698  -  F1-Score: 0.8723\n"
          ]
        },
        {
          "name": "stderr",
          "output_type": "stream",
          "text": [
            "Valid: 100%|██████████| 174/174 [00:18<00:00,  9.17it/s, loss=0.514]\n"
          ]
        },
        {
          "name": "stdout",
          "output_type": "stream",
          "text": [
            "Valid Accuracy: 0.8320  -  Loss: 0.5141  -  F1-Score: 0.8317\n",
            "\n",
            "Epoch 7/8\n",
            "--------------------------------------------------\n"
          ]
        },
        {
          "name": "stderr",
          "output_type": "stream",
          "text": [
            "Train: 100%|██████████| 174/174 [01:04<00:00,  2.69it/s, loss=0.405]\n"
          ]
        },
        {
          "name": "stdout",
          "output_type": "stream",
          "text": [
            "Train Accuracy: 0.8987  -  Loss: 0.4049  -  F1-Score: 0.8986\n"
          ]
        },
        {
          "name": "stderr",
          "output_type": "stream",
          "text": [
            "Valid: 100%|██████████| 174/174 [00:18<00:00,  9.18it/s, loss=0.501]\n"
          ]
        },
        {
          "name": "stdout",
          "output_type": "stream",
          "text": [
            "Valid Accuracy: 0.8392  -  Loss: 0.5011  -  F1-Score: 0.8387\n",
            "\n",
            "Epoch 8/8\n",
            "--------------------------------------------------\n"
          ]
        },
        {
          "name": "stderr",
          "output_type": "stream",
          "text": [
            "Train: 100%|██████████| 174/174 [01:05<00:00,  2.67it/s, loss=0.341]\n"
          ]
        },
        {
          "name": "stdout",
          "output_type": "stream",
          "text": [
            "Train Accuracy: 0.9160  -  Loss: 0.3409  -  F1-Score: 0.9159\n"
          ]
        },
        {
          "name": "stderr",
          "output_type": "stream",
          "text": [
            "Valid: 100%|██████████| 174/174 [00:19<00:00,  9.15it/s, loss=0.507]"
          ]
        },
        {
          "name": "stdout",
          "output_type": "stream",
          "text": [
            "Valid Accuracy: 0.8363  -  Loss: 0.5073  -  F1-Score: 0.8361\n",
            "\n",
            "Best accuracy: 0.8392\tBest F1-score: 0.8387\n"
          ]
        },
        {
          "name": "stderr",
          "output_type": "stream",
          "text": [
            "\n"
          ]
        }
      ],
      "source": [
        "# Training:\n",
        "for fold in range(skf.n_splits):\n",
        "    print(f'\\n============ Fold: {fold+1} ============')\n",
        "    train_loader, valid_loader = prepare_loaders(train_df, fold=fold)\n",
        "    model = SentimentClassifier(n_classes=7).to(device)\n",
        "    class_weights = class_weights.to(device)\n",
        "    criterion = nn.CrossEntropyLoss(weight=class_weights)\n",
        "    optimizer = AdamW(model.parameters(), lr=LEARNING_RATE)\n",
        "\n",
        "    lr_scheduler = get_linear_schedule_with_warmup(\n",
        "                optimizer,\n",
        "                num_warmup_steps = (len(train_loader)*EPOCHS) // 10,\n",
        "                num_training_steps = len(train_loader)*EPOCHS\n",
        "            )\n",
        "    best_acc = 0\n",
        "    best_f1 = 0\n",
        "    for epoch in range(EPOCHS):\n",
        "        print(f'\\nEpoch {epoch+1}/{EPOCHS}')\n",
        "        print('-'*50)\n",
        "\n",
        "        train(model, criterion, optimizer, train_loader)\n",
        "        val_acc, val_f1 = eval()\n",
        "\n",
        "        if val_acc > best_acc and val_f1 > best_f1:\n",
        "            torch.save(model, 'weights.pt')\n",
        "            best_acc = val_acc\n",
        "            best_f1 = val_f1\n",
        "    print(f'\\nBest accuracy: {best_acc:.4f}\\tBest F1-score: {best_f1:.4f}')"
      ]
    },
    {
      "cell_type": "code",
      "execution_count": 30,
      "metadata": {
        "execution": {
          "iopub.execute_input": "2023-08-31T15:23:13.979573Z",
          "iopub.status.busy": "2023-08-31T15:23:13.979178Z",
          "iopub.status.idle": "2023-08-31T15:23:13.990597Z",
          "shell.execute_reply": "2023-08-31T15:23:13.989373Z",
          "shell.execute_reply.started": "2023-08-31T15:23:13.979532Z"
        },
        "id": "5wowL9U99jI2",
        "trusted": true
      },
      "outputs": [],
      "source": [
        "def test(data_loader, PATH):\n",
        "    model = torch.load(PATH)\n",
        "    texts = []\n",
        "    predicts = []\n",
        "    predict_probs = []\n",
        "    real_values = []\n",
        "\n",
        "    for data in data_loader:\n",
        "        text = data['text']\n",
        "        input_ids = data['input_ids'].to(device)\n",
        "        attention_mask = data['attention_masks'].to(device)\n",
        "        targets = data['targets'].to(device)\n",
        "\n",
        "        with torch.no_grad():\n",
        "            outputs = model(\n",
        "                input_ids=input_ids,\n",
        "                attention_mask=attention_mask\n",
        "            )\n",
        "\n",
        "        _, pred = torch.max(outputs, dim=1)\n",
        "        texts.extend(text)\n",
        "        predicts.extend(pred)\n",
        "        predict_probs.extend(outputs)\n",
        "        real_values.extend(targets)\n",
        "\n",
        "    predicts = torch.stack(predicts).cpu()\n",
        "    predict_probs = torch.stack(predict_probs).cpu()\n",
        "    real_values = torch.stack(real_values).cpu()\n",
        "\n",
        "    class_names = ['Enjoyment', 'Disgust', 'Sadness', 'Anger', 'Surprise', 'Fear', 'Other']\n",
        "    print(classification_report(real_values, predicts, target_names=class_names))\n",
        "    return real_values, predicts"
      ]
    },
    {
      "cell_type": "code",
      "execution_count": 31,
      "metadata": {
        "colab": {
          "base_uri": "https://localhost:8080/"
        },
        "execution": {
          "iopub.execute_input": "2023-08-31T15:23:13.992667Z",
          "iopub.status.busy": "2023-08-31T15:23:13.992150Z",
          "iopub.status.idle": "2023-08-31T15:23:17.398231Z",
          "shell.execute_reply": "2023-08-31T15:23:17.396076Z",
          "shell.execute_reply.started": "2023-08-31T15:23:13.992634Z"
        },
        "id": "Xsr2Zto_9nUY",
        "outputId": "6d30c955-c7dd-4282-a269-ac68d766181f",
        "trusted": true
      },
      "outputs": [
        {
          "name": "stdout",
          "output_type": "stream",
          "text": [
            "              precision    recall  f1-score   support\n",
            "\n",
            "   Enjoyment       0.73      0.69      0.71       193\n",
            "     Disgust       0.59      0.65      0.62       132\n",
            "     Sadness       0.72      0.72      0.72       116\n",
            "       Anger       0.41      0.47      0.44        40\n",
            "    Surprise       0.59      0.65      0.62        37\n",
            "        Fear       0.63      0.78      0.70        46\n",
            "       Other       0.58      0.47      0.52       129\n",
            "\n",
            "    accuracy                           0.64       693\n",
            "   macro avg       0.61      0.63      0.62       693\n",
            "weighted avg       0.64      0.64      0.64       693\n",
            "\n"
          ]
        }
      ],
      "source": [
        "test_dataset = SentimentDataset(test_df, tokenizer, max_len=MAX_LEN)\n",
        "test_loader = DataLoader(test_dataset, batch_size=BATCH_SIZE, shuffle=True, num_workers=2)\n",
        "real_values, predicts = test(test_loader, 'weights.pt')"
      ]
    },
    {
      "cell_type": "markdown",
      "metadata": {
        "id": "Xk_mbGHQ9oaq"
      },
      "source": [
        "## Heatmap between Predict and Ground Truth"
      ]
    },
    {
      "cell_type": "code",
      "execution_count": 32,
      "metadata": {
        "colab": {
          "base_uri": "https://localhost:8080/",
          "height": 490
        },
        "execution": {
          "iopub.execute_input": "2023-08-31T15:23:17.400388Z",
          "iopub.status.busy": "2023-08-31T15:23:17.399965Z",
          "iopub.status.idle": "2023-08-31T15:23:17.775693Z",
          "shell.execute_reply": "2023-08-31T15:23:17.774725Z",
          "shell.execute_reply.started": "2023-08-31T15:23:17.400321Z"
        },
        "id": "E89W2jkkTTC6",
        "outputId": "56a561d0-5634-45bf-870c-99729729ed0d",
        "trusted": true
      },
      "outputs": [
        {
          "data": {
            "image/png": "[encoded data removed]",
            "text/plain": [
              "<Figure size 640x480 with 2 Axes>"
            ]
          },
          "metadata": {},
          "output_type": "display_data"
        }
      ],
      "source": [
        "class_names = ['Enjoyment', 'Disgust', 'Sadness', 'Anger', 'Surprise', 'Fear', 'Other']\n",
        "sns.heatmap(confusion_matrix(real_values, predicts), annot=False, cmap=\"Blues\", xticklabels = class_names, yticklabels = class_names);"
      ]
    },
    {
      "cell_type": "markdown",
      "metadata": {
        "id": "XcTd5LRnTZ0i"
      },
      "source": [
        "## Wrong Predicted Label"
      ]
    },
    {
      "cell_type": "code",
      "execution_count": 33,
      "metadata": {
        "colab": {
          "base_uri": "https://localhost:8080/"
        },
        "execution": {
          "iopub.execute_input": "2023-08-31T15:23:17.777410Z",
          "iopub.status.busy": "2023-08-31T15:23:17.777022Z",
          "iopub.status.idle": "2023-08-31T15:23:17.798221Z",
          "shell.execute_reply": "2023-08-31T15:23:17.797310Z",
          "shell.execute_reply.started": "2023-08-31T15:23:17.777362Z"
        },
        "id": "r7FpjTbeTY4Z",
        "outputId": "48e80fd6-5076-440b-ef1f-7131a2b067c8",
        "trusted": true
      },
      "outputs": [
        {
          "name": "stdout",
          "output_type": "stream",
          "text": [
            "Total wrong: 251\n",
            "--------------------------------------------------\n",
            "xàm bà cố luôn ??????\n",
            "Predicted:  (Fear)\n",
            "Real label: (Enjoyment)\n",
            "--------------------------------------------------\n",
            "có ai như tao vô đọc bình luận 🤣 tao cười tao xĩu\n",
            "Predicted:  (Surprise)\n",
            "Real label: (Enjoyment)\n",
            "--------------------------------------------------\n",
            "bà mẹ nó giật mình\n",
            "Predicted:  (Disgust)\n",
            "Real label: (Other)\n",
            "--------------------------------------------------\n",
            "tinh trùng đâu lắm thế\n",
            "Predicted:  (Sadness)\n",
            "Real label: (Other)\n",
            "--------------------------------------------------\n",
            "per không lấy được vợ thì có thể đi tâp gym đêt lấy chồng 😁😁\n",
            "Predicted:  (Anger)\n",
            "Real label: (Disgust)\n",
            "--------------------------------------------------\n",
            "nhất định sẽ làm được\n",
            "Predicted:  (Enjoyment)\n",
            "Real label: (Other)\n",
            "--------------------------------------------------\n",
            "tao tát cho bây giờ đấy\n",
            "Predicted:  (Sadness)\n",
            "Real label: (Enjoyment)\n",
            "--------------------------------------------------\n",
            "nó cứ sai sai thế nào ấy\n",
            "Predicted:  (Other)\n",
            "Real label: (Surprise)\n",
            "--------------------------------------------------\n",
            "ổng quay thiệt mà sao chửi ổng thế . không quay sao máy bạn xem được đó :))\n",
            "Predicted:  (Anger)\n",
            "Real label: (Disgust)\n",
            "--------------------------------------------------\n",
            "per quan tâm per như là 1 đứa em gái thôi . đừng có mà ảo tưởng nha .\n",
            "Predicted:  (Disgust)\n",
            "Real label: (Surprise)\n",
            "--------------------------------------------------\n",
            "thua cả người ta 😞\n",
            "Predicted:  (Disgust)\n",
            "Real label: (Sadness)\n",
            "--------------------------------------------------\n",
            "đứa nào nhây hơn đứa đấy thắng\n",
            "Predicted:  (Fear)\n",
            "Real label: (Anger)\n",
            "--------------------------------------------------\n",
            "đau ghê\n",
            "Predicted:  (Fear)\n",
            "Real label: (Disgust)\n",
            "--------------------------------------------------\n",
            "đ biết tình yêu là gì mà ăn rồi cứ đi thả thính đậu má\n",
            "Predicted:  (Other)\n",
            "Real label: (Enjoyment)\n",
            "--------------------------------------------------\n",
            "lúc nó điên lên nó chã triệu hồi cả nhà mày ra ấy chứ nhổn\n",
            "Predicted:  (Sadness)\n",
            "Real label: (Other)\n"
          ]
        }
      ],
      "source": [
        "def check_wrong(real_values, predicts):\n",
        "    wrong_arr = []\n",
        "    wrong_label = []\n",
        "    for i in range(len(predicts)):\n",
        "        if predicts[i] != real_values[i]:\n",
        "            wrong_arr.append(i)\n",
        "            wrong_label.append(predicts[i])\n",
        "    return wrong_arr, wrong_label\n",
        "\n",
        "wrong_arr, wrong_label = check_wrong(real_values, predicts)\n",
        "print(f'Total wrong: {len(wrong_arr)}')\n",
        "a = np.arange(len(wrong_arr))\n",
        "np.random.shuffle(a)\n",
        "for i in range(15):\n",
        "    print('-'*50)\n",
        "    print(test_df.iloc[wrong_arr[a[i]]].Sentence)\n",
        "    print(f'Predicted:  ({class_names[wrong_label[a[i]]]})\\nReal label: ({class_names[real_values[wrong_arr[a[i]]]]})')"
      ]
    },
    {
      "cell_type": "markdown",
      "metadata": {
        "id": "eou3sYeyTitl"
      },
      "source": [
        "## Inference"
      ]
    },
    {
      "cell_type": "code",
      "execution_count": 44,
      "metadata": {
        "execution": {
          "iopub.execute_input": "2023-08-31T15:23:17.800371Z",
          "iopub.status.busy": "2023-08-31T15:23:17.799437Z",
          "iopub.status.idle": "2023-08-31T15:23:17.807593Z",
          "shell.execute_reply": "2023-08-31T15:23:17.806614Z",
          "shell.execute_reply.started": "2023-08-31T15:23:17.800337Z"
        },
        "id": "zrEbScXWThEF",
        "trusted": true
      },
      "outputs": [],
      "source": [
        "def infer(text, tokenizer, max_len=MAX_LEN):\n",
        "    clean_text = text_preprocess(text)\n",
        "    encoded_review = tokenizer.encode_plus(\n",
        "        clean_text,\n",
        "        max_length=max_len,\n",
        "        truncation=True,\n",
        "        add_special_tokens=True,\n",
        "        padding='max_length',\n",
        "        return_attention_mask=True,\n",
        "        return_token_type_ids=False,\n",
        "        return_tensors='pt',\n",
        "    )\n",
        "\n",
        "    input_ids = encoded_review['input_ids'].to(device)\n",
        "    attention_mask = encoded_review['attention_mask'].to(device)\n",
        "\n",
        "    output = model(input_ids, attention_mask)\n",
        "    _, y_pred = torch.max(output, dim=1)\n",
        "\n",
        "    print(f'Clean text: {clean_text}')\n",
        "    print(f'Sentiment: {class_names[y_pred]}')"
      ]
    }
  ],
  "metadata": {
    "accelerator": "GPU",
    "colab": {
      "gpuType": "T4",
      "provenance": []
    },
    "kernelspec": {
      "display_name": "Python 3",
      "name": "python3"
    },
    "language_info": {
      "codemirror_mode": {
        "name": "ipython",
        "version": 3
      },
      "file_extension": ".py",
      "mimetype": "text/x-python",
      "name": "python",
      "nbconvert_exporter": "python",
      "pygments_lexer": "ipython3",
      "version": "3.10.12"
    },
    "widgets": {
      "application/vnd.jupyter.widget-state+json": {
        "06dfd3e85da941f092d45a4d1cba8fd7": {
          "model_module": "@jupyter-widgets/controls",
          "model_module_version": "1.5.0",
          "model_name": "FloatProgressModel",
          "state": {
            "_dom_classes": [],
            "_model_module": "@jupyter-widgets/controls",
            "_model_module_version": "1.5.0",
            "_model_name": "FloatProgressModel",
            "_view_count": null,
            "_view_module": "@jupyter-widgets/controls",
            "_view_module_version": "1.5.0",
            "_view_name": "ProgressView",
            "bar_style": "success",
            "description": "",
            "description_tooltip": null,
            "layout": "IPY_MODEL_24a5bbb4ea964c05b9de0b68c28ef2e1",
            "max": 1135173,
            "min": 0,
            "orientation": "horizontal",
            "style": "IPY_MODEL_daa2941d5a1243b3951627d9510250b2",
            "value": 1135173
          }
        },
        "0c19f6566fc6410a898047866628d577": {
          "model_module": "@jupyter-widgets/base",
          "model_module_version": "1.2.0",
          "model_name": "LayoutModel",
          "state": {
            "_model_module": "@jupyter-widgets/base",
            "_model_module_version": "1.2.0",
            "_model_name": "LayoutModel",
            "_view_count": null,
            "_view_module": "@jupyter-widgets/base",
            "_view_module_version": "1.2.0",
            "_view_name": "LayoutView",
            "align_content": null,
            "align_items": null,
            "align_self": null,
            "border": null,
            "bottom": null,
            "display": null,
            "flex": null,
            "flex_flow": null,
            "grid_area": null,
            "grid_auto_columns": null,
            "grid_auto_flow": null,
            "grid_auto_rows": null,
            "grid_column": null,
            "grid_gap": null,
            "grid_row": null,
            "grid_template_areas": null,
            "grid_template_columns": null,
            "grid_template_rows": null,
            "height": null,
            "justify_content": null,
            "justify_items": null,
            "left": null,
            "margin": null,
            "max_height": null,
            "max_width": null,
            "min_height": null,
            "min_width": null,
            "object_fit": null,
            "object_position": null,
            "order": null,
            "overflow": null,
            "overflow_x": null,
            "overflow_y": null,
            "padding": null,
            "right": null,
            "top": null,
            "visibility": null,
            "width": null
          }
        },
        "16512a60a72043a2b07a26888465c955": {
          "model_module": "@jupyter-widgets/controls",
          "model_module_version": "1.5.0",
          "model_name": "HTMLModel",
          "state": {
            "_dom_classes": [],
            "_model_module": "@jupyter-widgets/controls",
            "_model_module_version": "1.5.0",
            "_model_name": "HTMLModel",
            "_view_count": null,
            "_view_module": "@jupyter-widgets/controls",
            "_view_module_version": "1.5.0",
            "_view_name": "HTMLView",
            "description": "",
            "description_tooltip": null,
            "layout": "IPY_MODEL_b7c797944ff145849fd20098d06da924",
            "placeholder": "​",
            "style": "IPY_MODEL_b42e065ad0b441ee9adab982aae6ac73",
            "value": "Downloading (…)solve/main/bpe.codes: 100%"
          }
        },
        "24a5bbb4ea964c05b9de0b68c28ef2e1": {
          "model_module": "@jupyter-widgets/base",
          "model_module_version": "1.2.0",
          "model_name": "LayoutModel",
          "state": {
            "_model_module": "@jupyter-widgets/base",
            "_model_module_version": "1.2.0",
            "_model_name": "LayoutModel",
            "_view_count": null,
            "_view_module": "@jupyter-widgets/base",
            "_view_module_version": "1.2.0",
            "_view_name": "LayoutView",
            "align_content": null,
            "align_items": null,
            "align_self": null,
            "border": null,
            "bottom": null,
            "display": null,
            "flex": null,
            "flex_flow": null,
            "grid_area": null,
            "grid_auto_columns": null,
            "grid_auto_flow": null,
            "grid_auto_rows": null,
            "grid_column": null,
            "grid_gap": null,
            "grid_row": null,
            "grid_template_areas": null,
            "grid_template_columns": null,
            "grid_template_rows": null,
            "height": null,
            "justify_content": null,
            "justify_items": null,
            "left": null,
            "margin": null,
            "max_height": null,
            "max_width": null,
            "min_height": null,
            "min_width": null,
            "object_fit": null,
            "object_position": null,
            "order": null,
            "overflow": null,
            "overflow_x": null,
            "overflow_y": null,
            "padding": null,
            "right": null,
            "top": null,
            "visibility": null,
            "width": null
          }
        },
        "2b14a65dbf6b4e26b1a08f346de210c7": {
          "model_module": "@jupyter-widgets/base",
          "model_module_version": "1.2.0",
          "model_name": "LayoutModel",
          "state": {
            "_model_module": "@jupyter-widgets/base",
            "_model_module_version": "1.2.0",
            "_model_name": "LayoutModel",
            "_view_count": null,
            "_view_module": "@jupyter-widgets/base",
            "_view_module_version": "1.2.0",
            "_view_name": "LayoutView",
            "align_content": null,
            "align_items": null,
            "align_self": null,
            "border": null,
            "bottom": null,
            "display": null,
            "flex": null,
            "flex_flow": null,
            "grid_area": null,
            "grid_auto_columns": null,
            "grid_auto_flow": null,
            "grid_auto_rows": null,
            "grid_column": null,
            "grid_gap": null,
            "grid_row": null,
            "grid_template_areas": null,
            "grid_template_columns": null,
            "grid_template_rows": null,
            "height": null,
            "justify_content": null,
            "justify_items": null,
            "left": null,
            "margin": null,
            "max_height": null,
            "max_width": null,
            "min_height": null,
            "min_width": null,
            "object_fit": null,
            "object_position": null,
            "order": null,
            "overflow": null,
            "overflow_x": null,
            "overflow_y": null,
            "padding": null,
            "right": null,
            "top": null,
            "visibility": null,
            "width": null
          }
        },
        "2e3dfa51ed324d82ad7d2416506a6d1c": {
          "model_module": "@jupyter-widgets/base",
          "model_module_version": "1.2.0",
          "model_name": "LayoutModel",
          "state": {
            "_model_module": "@jupyter-widgets/base",
            "_model_module_version": "1.2.0",
            "_model_name": "LayoutModel",
            "_view_count": null,
            "_view_module": "@jupyter-widgets/base",
            "_view_module_version": "1.2.0",
            "_view_name": "LayoutView",
            "align_content": null,
            "align_items": null,
            "align_self": null,
            "border": null,
            "bottom": null,
            "display": null,
            "flex": null,
            "flex_flow": null,
            "grid_area": null,
            "grid_auto_columns": null,
            "grid_auto_flow": null,
            "grid_auto_rows": null,
            "grid_column": null,
            "grid_gap": null,
            "grid_row": null,
            "grid_template_areas": null,
            "grid_template_columns": null,
            "grid_template_rows": null,
            "height": null,
            "justify_content": null,
            "justify_items": null,
            "left": null,
            "margin": null,
            "max_height": null,
            "max_width": null,
            "min_height": null,
            "min_width": null,
            "object_fit": null,
            "object_position": null,
            "order": null,
            "overflow": null,
            "overflow_x": null,
            "overflow_y": null,
            "padding": null,
            "right": null,
            "top": null,
            "visibility": null,
            "width": null
          }
        },
        "38c98348f6c842819e7ba8236e10bddd": {
          "model_module": "@jupyter-widgets/base",
          "model_module_version": "1.2.0",
          "model_name": "LayoutModel",
          "state": {
            "_model_module": "@jupyter-widgets/base",
            "_model_module_version": "1.2.0",
            "_model_name": "LayoutModel",
            "_view_count": null,
            "_view_module": "@jupyter-widgets/base",
            "_view_module_version": "1.2.0",
            "_view_name": "LayoutView",
            "align_content": null,
            "align_items": null,
            "align_self": null,
            "border": null,
            "bottom": null,
            "display": null,
            "flex": null,
            "flex_flow": null,
            "grid_area": null,
            "grid_auto_columns": null,
            "grid_auto_flow": null,
            "grid_auto_rows": null,
            "grid_column": null,
            "grid_gap": null,
            "grid_row": null,
            "grid_template_areas": null,
            "grid_template_columns": null,
            "grid_template_rows": null,
            "height": null,
            "justify_content": null,
            "justify_items": null,
            "left": null,
            "margin": null,
            "max_height": null,
            "max_width": null,
            "min_height": null,
            "min_width": null,
            "object_fit": null,
            "object_position": null,
            "order": null,
            "overflow": null,
            "overflow_x": null,
            "overflow_y": null,
            "padding": null,
            "right": null,
            "top": null,
            "visibility": null,
            "width": null
          }
        },
        "48e8ea96033d4ee69cf667eb51059b03": {
          "model_module": "@jupyter-widgets/base",
          "model_module_version": "1.2.0",
          "model_name": "LayoutModel",
          "state": {
            "_model_module": "@jupyter-widgets/base",
            "_model_module_version": "1.2.0",
            "_model_name": "LayoutModel",
            "_view_count": null,
            "_view_module": "@jupyter-widgets/base",
            "_view_module_version": "1.2.0",
            "_view_name": "LayoutView",
            "align_content": null,
            "align_items": null,
            "align_self": null,
            "border": null,
            "bottom": null,
            "display": null,
            "flex": null,
            "flex_flow": null,
            "grid_area": null,
            "grid_auto_columns": null,
            "grid_auto_flow": null,
            "grid_auto_rows": null,
            "grid_column": null,
            "grid_gap": null,
            "grid_row": null,
            "grid_template_areas": null,
            "grid_template_columns": null,
            "grid_template_rows": null,
            "height": null,
            "justify_content": null,
            "justify_items": null,
            "left": null,
            "margin": null,
            "max_height": null,
            "max_width": null,
            "min_height": null,
            "min_width": null,
            "object_fit": null,
            "object_position": null,
            "order": null,
            "overflow": null,
            "overflow_x": null,
            "overflow_y": null,
            "padding": null,
            "right": null,
            "top": null,
            "visibility": null,
            "width": null
          }
        },
        "4b671bd13fd54e8ba75310ad5a8c7bfe": {
          "model_module": "@jupyter-widgets/controls",
          "model_module_version": "1.5.0",
          "model_name": "HTMLModel",
          "state": {
            "_dom_classes": [],
            "_model_module": "@jupyter-widgets/controls",
            "_model_module_version": "1.5.0",
            "_model_name": "HTMLModel",
            "_view_count": null,
            "_view_module": "@jupyter-widgets/controls",
            "_view_module_version": "1.5.0",
            "_view_name": "HTMLView",
            "description": "",
            "description_tooltip": null,
            "layout": "IPY_MODEL_854091245b7845b9b0ddb9b7d974c660",
            "placeholder": "​",
            "style": "IPY_MODEL_8aeffd971ccb409796c6a3224c205dea",
            "value": "Downloading pytorch_model.bin: 100%"
          }
        },
        "4fd9874e809942029ecbb53dc5afe719": {
          "model_module": "@jupyter-widgets/base",
          "model_module_version": "1.2.0",
          "model_name": "LayoutModel",
          "state": {
            "_model_module": "@jupyter-widgets/base",
            "_model_module_version": "1.2.0",
            "_model_name": "LayoutModel",
            "_view_count": null,
            "_view_module": "@jupyter-widgets/base",
            "_view_module_version": "1.2.0",
            "_view_name": "LayoutView",
            "align_content": null,
            "align_items": null,
            "align_self": null,
            "border": null,
            "bottom": null,
            "display": null,
            "flex": null,
            "flex_flow": null,
            "grid_area": null,
            "grid_auto_columns": null,
            "grid_auto_flow": null,
            "grid_auto_rows": null,
            "grid_column": null,
            "grid_gap": null,
            "grid_row": null,
            "grid_template_areas": null,
            "grid_template_columns": null,
            "grid_template_rows": null,
            "height": null,
            "justify_content": null,
            "justify_items": null,
            "left": null,
            "margin": null,
            "max_height": null,
            "max_width": null,
            "min_height": null,
            "min_width": null,
            "object_fit": null,
            "object_position": null,
            "order": null,
            "overflow": null,
            "overflow_x": null,
            "overflow_y": null,
            "padding": null,
            "right": null,
            "top": null,
            "visibility": null,
            "width": null
          }
        },
        "6157e2926e274ccea56fdda48a6ab511": {
          "model_module": "@jupyter-widgets/controls",
          "model_module_version": "1.5.0",
          "model_name": "DescriptionStyleModel",
          "state": {
            "_model_module": "@jupyter-widgets/controls",
            "_model_module_version": "1.5.0",
            "_model_name": "DescriptionStyleModel",
            "_view_count": null,
            "_view_module": "@jupyter-widgets/base",
            "_view_module_version": "1.2.0",
            "_view_name": "StyleView",
            "description_width": ""
          }
        },
        "6a7a7fb44c954c87af4dd5a1b1098426": {
          "model_module": "@jupyter-widgets/controls",
          "model_module_version": "1.5.0",
          "model_name": "DescriptionStyleModel",
          "state": {
            "_model_module": "@jupyter-widgets/controls",
            "_model_module_version": "1.5.0",
            "_model_name": "DescriptionStyleModel",
            "_view_count": null,
            "_view_module": "@jupyter-widgets/base",
            "_view_module_version": "1.2.0",
            "_view_name": "StyleView",
            "description_width": ""
          }
        },
        "6df0796a5abc45689550b1f445c67fe9": {
          "model_module": "@jupyter-widgets/controls",
          "model_module_version": "1.5.0",
          "model_name": "HBoxModel",
          "state": {
            "_dom_classes": [],
            "_model_module": "@jupyter-widgets/controls",
            "_model_module_version": "1.5.0",
            "_model_name": "HBoxModel",
            "_view_count": null,
            "_view_module": "@jupyter-widgets/controls",
            "_view_module_version": "1.5.0",
            "_view_name": "HBoxView",
            "box_style": "",
            "children": [
              "IPY_MODEL_16512a60a72043a2b07a26888465c955",
              "IPY_MODEL_06dfd3e85da941f092d45a4d1cba8fd7",
              "IPY_MODEL_ef0a207737114d1d9abfa8c71b547a20"
            ],
            "layout": "IPY_MODEL_be6ded99a19e4640ae02dfc0b50d89f9"
          }
        },
        "6f7f6de542864e74bbb700d36df52924": {
          "model_module": "@jupyter-widgets/base",
          "model_module_version": "1.2.0",
          "model_name": "LayoutModel",
          "state": {
            "_model_module": "@jupyter-widgets/base",
            "_model_module_version": "1.2.0",
            "_model_name": "LayoutModel",
            "_view_count": null,
            "_view_module": "@jupyter-widgets/base",
            "_view_module_version": "1.2.0",
            "_view_name": "LayoutView",
            "align_content": null,
            "align_items": null,
            "align_self": null,
            "border": null,
            "bottom": null,
            "display": null,
            "flex": null,
            "flex_flow": null,
            "grid_area": null,
            "grid_auto_columns": null,
            "grid_auto_flow": null,
            "grid_auto_rows": null,
            "grid_column": null,
            "grid_gap": null,
            "grid_row": null,
            "grid_template_areas": null,
            "grid_template_columns": null,
            "grid_template_rows": null,
            "height": null,
            "justify_content": null,
            "justify_items": null,
            "left": null,
            "margin": null,
            "max_height": null,
            "max_width": null,
            "min_height": null,
            "min_width": null,
            "object_fit": null,
            "object_position": null,
            "order": null,
            "overflow": null,
            "overflow_x": null,
            "overflow_y": null,
            "padding": null,
            "right": null,
            "top": null,
            "visibility": null,
            "width": null
          }
        },
        "711c3a4b1380408a88773b8935aa8c49": {
          "model_module": "@jupyter-widgets/base",
          "model_module_version": "1.2.0",
          "model_name": "LayoutModel",
          "state": {
            "_model_module": "@jupyter-widgets/base",
            "_model_module_version": "1.2.0",
            "_model_name": "LayoutModel",
            "_view_count": null,
            "_view_module": "@jupyter-widgets/base",
            "_view_module_version": "1.2.0",
            "_view_name": "LayoutView",
            "align_content": null,
            "align_items": null,
            "align_self": null,
            "border": null,
            "bottom": null,
            "display": null,
            "flex": null,
            "flex_flow": null,
            "grid_area": null,
            "grid_auto_columns": null,
            "grid_auto_flow": null,
            "grid_auto_rows": null,
            "grid_column": null,
            "grid_gap": null,
            "grid_row": null,
            "grid_template_areas": null,
            "grid_template_columns": null,
            "grid_template_rows": null,
            "height": null,
            "justify_content": null,
            "justify_items": null,
            "left": null,
            "margin": null,
            "max_height": null,
            "max_width": null,
            "min_height": null,
            "min_width": null,
            "object_fit": null,
            "object_position": null,
            "order": null,
            "overflow": null,
            "overflow_x": null,
            "overflow_y": null,
            "padding": null,
            "right": null,
            "top": null,
            "visibility": null,
            "width": null
          }
        },
        "73a54430187d4be28db53bb84e436094": {
          "model_module": "@jupyter-widgets/base",
          "model_module_version": "1.2.0",
          "model_name": "LayoutModel",
          "state": {
            "_model_module": "@jupyter-widgets/base",
            "_model_module_version": "1.2.0",
            "_model_name": "LayoutModel",
            "_view_count": null,
            "_view_module": "@jupyter-widgets/base",
            "_view_module_version": "1.2.0",
            "_view_name": "LayoutView",
            "align_content": null,
            "align_items": null,
            "align_self": null,
            "border": null,
            "bottom": null,
            "display": null,
            "flex": null,
            "flex_flow": null,
            "grid_area": null,
            "grid_auto_columns": null,
            "grid_auto_flow": null,
            "grid_auto_rows": null,
            "grid_column": null,
            "grid_gap": null,
            "grid_row": null,
            "grid_template_areas": null,
            "grid_template_columns": null,
            "grid_template_rows": null,
            "height": null,
            "justify_content": null,
            "justify_items": null,
            "left": null,
            "margin": null,
            "max_height": null,
            "max_width": null,
            "min_height": null,
            "min_width": null,
            "object_fit": null,
            "object_position": null,
            "order": null,
            "overflow": null,
            "overflow_x": null,
            "overflow_y": null,
            "padding": null,
            "right": null,
            "top": null,
            "visibility": null,
            "width": null
          }
        },
        "75435c7ba06446ee97cb57a84221285c": {
          "model_module": "@jupyter-widgets/controls",
          "model_module_version": "1.5.0",
          "model_name": "HBoxModel",
          "state": {
            "_dom_classes": [],
            "_model_module": "@jupyter-widgets/controls",
            "_model_module_version": "1.5.0",
            "_model_name": "HBoxModel",
            "_view_count": null,
            "_view_module": "@jupyter-widgets/controls",
            "_view_module_version": "1.5.0",
            "_view_name": "HBoxView",
            "box_style": "",
            "children": [
              "IPY_MODEL_c8aeafffc9dc4a0aa95c46ed3bd88796",
              "IPY_MODEL_76f955dec72247bf853c33566ee86071",
              "IPY_MODEL_b5d6af3cc530403eb0d76c7541b67497"
            ],
            "layout": "IPY_MODEL_2e3dfa51ed324d82ad7d2416506a6d1c"
          }
        },
        "76f955dec72247bf853c33566ee86071": {
          "model_module": "@jupyter-widgets/controls",
          "model_module_version": "1.5.0",
          "model_name": "FloatProgressModel",
          "state": {
            "_dom_classes": [],
            "_model_module": "@jupyter-widgets/controls",
            "_model_module_version": "1.5.0",
            "_model_name": "FloatProgressModel",
            "_view_count": null,
            "_view_module": "@jupyter-widgets/controls",
            "_view_module_version": "1.5.0",
            "_view_name": "ProgressView",
            "bar_style": "success",
            "description": "",
            "description_tooltip": null,
            "layout": "IPY_MODEL_4fd9874e809942029ecbb53dc5afe719",
            "max": 678,
            "min": 0,
            "orientation": "horizontal",
            "style": "IPY_MODEL_b6356c021ab94647bd9fbb366a6be81a",
            "value": 678
          }
        },
        "77e2174d956b498f870588549b62c713": {
          "model_module": "@jupyter-widgets/controls",
          "model_module_version": "1.5.0",
          "model_name": "DescriptionStyleModel",
          "state": {
            "_model_module": "@jupyter-widgets/controls",
            "_model_module_version": "1.5.0",
            "_model_name": "DescriptionStyleModel",
            "_view_count": null,
            "_view_module": "@jupyter-widgets/base",
            "_view_module_version": "1.2.0",
            "_view_name": "StyleView",
            "description_width": ""
          }
        },
        "8107700a1aa34351a4020b39ad003f0d": {
          "model_module": "@jupyter-widgets/controls",
          "model_module_version": "1.5.0",
          "model_name": "HTMLModel",
          "state": {
            "_dom_classes": [],
            "_model_module": "@jupyter-widgets/controls",
            "_model_module_version": "1.5.0",
            "_model_name": "HTMLModel",
            "_view_count": null,
            "_view_module": "@jupyter-widgets/controls",
            "_view_module_version": "1.5.0",
            "_view_name": "HTMLView",
            "description": "",
            "description_tooltip": null,
            "layout": "IPY_MODEL_2b14a65dbf6b4e26b1a08f346de210c7",
            "placeholder": "​",
            "style": "IPY_MODEL_6157e2926e274ccea56fdda48a6ab511",
            "value": " 540M/540M [00:02&lt;00:00, 252MB/s]"
          }
        },
        "854091245b7845b9b0ddb9b7d974c660": {
          "model_module": "@jupyter-widgets/base",
          "model_module_version": "1.2.0",
          "model_name": "LayoutModel",
          "state": {
            "_model_module": "@jupyter-widgets/base",
            "_model_module_version": "1.2.0",
            "_model_name": "LayoutModel",
            "_view_count": null,
            "_view_module": "@jupyter-widgets/base",
            "_view_module_version": "1.2.0",
            "_view_name": "LayoutView",
            "align_content": null,
            "align_items": null,
            "align_self": null,
            "border": null,
            "bottom": null,
            "display": null,
            "flex": null,
            "flex_flow": null,
            "grid_area": null,
            "grid_auto_columns": null,
            "grid_auto_flow": null,
            "grid_auto_rows": null,
            "grid_column": null,
            "grid_gap": null,
            "grid_row": null,
            "grid_template_areas": null,
            "grid_template_columns": null,
            "grid_template_rows": null,
            "height": null,
            "justify_content": null,
            "justify_items": null,
            "left": null,
            "margin": null,
            "max_height": null,
            "max_width": null,
            "min_height": null,
            "min_width": null,
            "object_fit": null,
            "object_position": null,
            "order": null,
            "overflow": null,
            "overflow_x": null,
            "overflow_y": null,
            "padding": null,
            "right": null,
            "top": null,
            "visibility": null,
            "width": null
          }
        },
        "864da15edf4e49f58da3005ce0504b09": {
          "model_module": "@jupyter-widgets/controls",
          "model_module_version": "1.5.0",
          "model_name": "FloatProgressModel",
          "state": {
            "_dom_classes": [],
            "_model_module": "@jupyter-widgets/controls",
            "_model_module_version": "1.5.0",
            "_model_name": "FloatProgressModel",
            "_view_count": null,
            "_view_module": "@jupyter-widgets/controls",
            "_view_module_version": "1.5.0",
            "_view_name": "ProgressView",
            "bar_style": "success",
            "description": "",
            "description_tooltip": null,
            "layout": "IPY_MODEL_711c3a4b1380408a88773b8935aa8c49",
            "max": 540322347,
            "min": 0,
            "orientation": "horizontal",
            "style": "IPY_MODEL_a76046cf28074e9785b40e562ef4c415",
            "value": 540322347
          }
        },
        "8aeffd971ccb409796c6a3224c205dea": {
          "model_module": "@jupyter-widgets/controls",
          "model_module_version": "1.5.0",
          "model_name": "DescriptionStyleModel",
          "state": {
            "_model_module": "@jupyter-widgets/controls",
            "_model_module_version": "1.5.0",
            "_model_name": "DescriptionStyleModel",
            "_view_count": null,
            "_view_module": "@jupyter-widgets/base",
            "_view_module_version": "1.2.0",
            "_view_name": "StyleView",
            "description_width": ""
          }
        },
        "8da86c29499443c8a640a45dc0f29961": {
          "model_module": "@jupyter-widgets/controls",
          "model_module_version": "1.5.0",
          "model_name": "ProgressStyleModel",
          "state": {
            "_model_module": "@jupyter-widgets/controls",
            "_model_module_version": "1.5.0",
            "_model_name": "ProgressStyleModel",
            "_view_count": null,
            "_view_module": "@jupyter-widgets/base",
            "_view_module_version": "1.2.0",
            "_view_name": "StyleView",
            "bar_color": null,
            "description_width": ""
          }
        },
        "92b4fe39ea2847a88cfefdc11cfe3415": {
          "model_module": "@jupyter-widgets/base",
          "model_module_version": "1.2.0",
          "model_name": "LayoutModel",
          "state": {
            "_model_module": "@jupyter-widgets/base",
            "_model_module_version": "1.2.0",
            "_model_name": "LayoutModel",
            "_view_count": null,
            "_view_module": "@jupyter-widgets/base",
            "_view_module_version": "1.2.0",
            "_view_name": "LayoutView",
            "align_content": null,
            "align_items": null,
            "align_self": null,
            "border": null,
            "bottom": null,
            "display": null,
            "flex": null,
            "flex_flow": null,
            "grid_area": null,
            "grid_auto_columns": null,
            "grid_auto_flow": null,
            "grid_auto_rows": null,
            "grid_column": null,
            "grid_gap": null,
            "grid_row": null,
            "grid_template_areas": null,
            "grid_template_columns": null,
            "grid_template_rows": null,
            "height": null,
            "justify_content": null,
            "justify_items": null,
            "left": null,
            "margin": null,
            "max_height": null,
            "max_width": null,
            "min_height": null,
            "min_width": null,
            "object_fit": null,
            "object_position": null,
            "order": null,
            "overflow": null,
            "overflow_x": null,
            "overflow_y": null,
            "padding": null,
            "right": null,
            "top": null,
            "visibility": null,
            "width": null
          }
        },
        "a2c854eeb2a645a9bcd7f85d975c6808": {
          "model_module": "@jupyter-widgets/controls",
          "model_module_version": "1.5.0",
          "model_name": "HBoxModel",
          "state": {
            "_dom_classes": [],
            "_model_module": "@jupyter-widgets/controls",
            "_model_module_version": "1.5.0",
            "_model_name": "HBoxModel",
            "_view_count": null,
            "_view_module": "@jupyter-widgets/controls",
            "_view_module_version": "1.5.0",
            "_view_name": "HBoxView",
            "box_style": "",
            "children": [
              "IPY_MODEL_dfc663ff741d445daf870d1a9ba30be3",
              "IPY_MODEL_cb9197f0f1ab4726a827d95743ba2105",
              "IPY_MODEL_f57480c62b254788b27c747aa5eabe0c"
            ],
            "layout": "IPY_MODEL_38c98348f6c842819e7ba8236e10bddd"
          }
        },
        "a76046cf28074e9785b40e562ef4c415": {
          "model_module": "@jupyter-widgets/controls",
          "model_module_version": "1.5.0",
          "model_name": "ProgressStyleModel",
          "state": {
            "_model_module": "@jupyter-widgets/controls",
            "_model_module_version": "1.5.0",
            "_model_name": "ProgressStyleModel",
            "_view_count": null,
            "_view_module": "@jupyter-widgets/base",
            "_view_module_version": "1.2.0",
            "_view_name": "StyleView",
            "bar_color": null,
            "description_width": ""
          }
        },
        "b42e065ad0b441ee9adab982aae6ac73": {
          "model_module": "@jupyter-widgets/controls",
          "model_module_version": "1.5.0",
          "model_name": "DescriptionStyleModel",
          "state": {
            "_model_module": "@jupyter-widgets/controls",
            "_model_module_version": "1.5.0",
            "_model_name": "DescriptionStyleModel",
            "_view_count": null,
            "_view_module": "@jupyter-widgets/base",
            "_view_module_version": "1.2.0",
            "_view_name": "StyleView",
            "description_width": ""
          }
        },
        "b5d6af3cc530403eb0d76c7541b67497": {
          "model_module": "@jupyter-widgets/controls",
          "model_module_version": "1.5.0",
          "model_name": "HTMLModel",
          "state": {
            "_dom_classes": [],
            "_model_module": "@jupyter-widgets/controls",
            "_model_module_version": "1.5.0",
            "_model_name": "HTMLModel",
            "_view_count": null,
            "_view_module": "@jupyter-widgets/controls",
            "_view_module_version": "1.5.0",
            "_view_name": "HTMLView",
            "description": "",
            "description_tooltip": null,
            "layout": "IPY_MODEL_6f7f6de542864e74bbb700d36df52924",
            "placeholder": "​",
            "style": "IPY_MODEL_ec079d25231845b6b10a472cfe6f70cf",
            "value": " 678/678 [00:00&lt;00:00, 12.2kB/s]"
          }
        },
        "b6356c021ab94647bd9fbb366a6be81a": {
          "model_module": "@jupyter-widgets/controls",
          "model_module_version": "1.5.0",
          "model_name": "ProgressStyleModel",
          "state": {
            "_model_module": "@jupyter-widgets/controls",
            "_model_module_version": "1.5.0",
            "_model_name": "ProgressStyleModel",
            "_view_count": null,
            "_view_module": "@jupyter-widgets/base",
            "_view_module_version": "1.2.0",
            "_view_name": "StyleView",
            "bar_color": null,
            "description_width": ""
          }
        },
        "b783040735404d4b8f5943796e12d758": {
          "model_module": "@jupyter-widgets/controls",
          "model_module_version": "1.5.0",
          "model_name": "DescriptionStyleModel",
          "state": {
            "_model_module": "@jupyter-widgets/controls",
            "_model_module_version": "1.5.0",
            "_model_name": "DescriptionStyleModel",
            "_view_count": null,
            "_view_module": "@jupyter-widgets/base",
            "_view_module_version": "1.2.0",
            "_view_name": "StyleView",
            "description_width": ""
          }
        },
        "b7c797944ff145849fd20098d06da924": {
          "model_module": "@jupyter-widgets/base",
          "model_module_version": "1.2.0",
          "model_name": "LayoutModel",
          "state": {
            "_model_module": "@jupyter-widgets/base",
            "_model_module_version": "1.2.0",
            "_model_name": "LayoutModel",
            "_view_count": null,
            "_view_module": "@jupyter-widgets/base",
            "_view_module_version": "1.2.0",
            "_view_name": "LayoutView",
            "align_content": null,
            "align_items": null,
            "align_self": null,
            "border": null,
            "bottom": null,
            "display": null,
            "flex": null,
            "flex_flow": null,
            "grid_area": null,
            "grid_auto_columns": null,
            "grid_auto_flow": null,
            "grid_auto_rows": null,
            "grid_column": null,
            "grid_gap": null,
            "grid_row": null,
            "grid_template_areas": null,
            "grid_template_columns": null,
            "grid_template_rows": null,
            "height": null,
            "justify_content": null,
            "justify_items": null,
            "left": null,
            "margin": null,
            "max_height": null,
            "max_width": null,
            "min_height": null,
            "min_width": null,
            "object_fit": null,
            "object_position": null,
            "order": null,
            "overflow": null,
            "overflow_x": null,
            "overflow_y": null,
            "padding": null,
            "right": null,
            "top": null,
            "visibility": null,
            "width": null
          }
        },
        "be6ded99a19e4640ae02dfc0b50d89f9": {
          "model_module": "@jupyter-widgets/base",
          "model_module_version": "1.2.0",
          "model_name": "LayoutModel",
          "state": {
            "_model_module": "@jupyter-widgets/base",
            "_model_module_version": "1.2.0",
            "_model_name": "LayoutModel",
            "_view_count": null,
            "_view_module": "@jupyter-widgets/base",
            "_view_module_version": "1.2.0",
            "_view_name": "LayoutView",
            "align_content": null,
            "align_items": null,
            "align_self": null,
            "border": null,
            "bottom": null,
            "display": null,
            "flex": null,
            "flex_flow": null,
            "grid_area": null,
            "grid_auto_columns": null,
            "grid_auto_flow": null,
            "grid_auto_rows": null,
            "grid_column": null,
            "grid_gap": null,
            "grid_row": null,
            "grid_template_areas": null,
            "grid_template_columns": null,
            "grid_template_rows": null,
            "height": null,
            "justify_content": null,
            "justify_items": null,
            "left": null,
            "margin": null,
            "max_height": null,
            "max_width": null,
            "min_height": null,
            "min_width": null,
            "object_fit": null,
            "object_position": null,
            "order": null,
            "overflow": null,
            "overflow_x": null,
            "overflow_y": null,
            "padding": null,
            "right": null,
            "top": null,
            "visibility": null,
            "width": null
          }
        },
        "c078b02128284366a1dd11a5bd7b5bc5": {
          "model_module": "@jupyter-widgets/base",
          "model_module_version": "1.2.0",
          "model_name": "LayoutModel",
          "state": {
            "_model_module": "@jupyter-widgets/base",
            "_model_module_version": "1.2.0",
            "_model_name": "LayoutModel",
            "_view_count": null,
            "_view_module": "@jupyter-widgets/base",
            "_view_module_version": "1.2.0",
            "_view_name": "LayoutView",
            "align_content": null,
            "align_items": null,
            "align_self": null,
            "border": null,
            "bottom": null,
            "display": null,
            "flex": null,
            "flex_flow": null,
            "grid_area": null,
            "grid_auto_columns": null,
            "grid_auto_flow": null,
            "grid_auto_rows": null,
            "grid_column": null,
            "grid_gap": null,
            "grid_row": null,
            "grid_template_areas": null,
            "grid_template_columns": null,
            "grid_template_rows": null,
            "height": null,
            "justify_content": null,
            "justify_items": null,
            "left": null,
            "margin": null,
            "max_height": null,
            "max_width": null,
            "min_height": null,
            "min_width": null,
            "object_fit": null,
            "object_position": null,
            "order": null,
            "overflow": null,
            "overflow_x": null,
            "overflow_y": null,
            "padding": null,
            "right": null,
            "top": null,
            "visibility": null,
            "width": null
          }
        },
        "c8aeafffc9dc4a0aa95c46ed3bd88796": {
          "model_module": "@jupyter-widgets/controls",
          "model_module_version": "1.5.0",
          "model_name": "HTMLModel",
          "state": {
            "_dom_classes": [],
            "_model_module": "@jupyter-widgets/controls",
            "_model_module_version": "1.5.0",
            "_model_name": "HTMLModel",
            "_view_count": null,
            "_view_module": "@jupyter-widgets/controls",
            "_view_module_version": "1.5.0",
            "_view_name": "HTMLView",
            "description": "",
            "description_tooltip": null,
            "layout": "IPY_MODEL_0c19f6566fc6410a898047866628d577",
            "placeholder": "​",
            "style": "IPY_MODEL_e8d6d2fb42d74b09b2a1a70f241c2377",
            "value": "Downloading (…)lve/main/config.json: 100%"
          }
        },
        "cb9197f0f1ab4726a827d95743ba2105": {
          "model_module": "@jupyter-widgets/controls",
          "model_module_version": "1.5.0",
          "model_name": "FloatProgressModel",
          "state": {
            "_dom_classes": [],
            "_model_module": "@jupyter-widgets/controls",
            "_model_module_version": "1.5.0",
            "_model_name": "FloatProgressModel",
            "_view_count": null,
            "_view_module": "@jupyter-widgets/controls",
            "_view_module_version": "1.5.0",
            "_view_name": "ProgressView",
            "bar_style": "success",
            "description": "",
            "description_tooltip": null,
            "layout": "IPY_MODEL_48e8ea96033d4ee69cf667eb51059b03",
            "max": 895321,
            "min": 0,
            "orientation": "horizontal",
            "style": "IPY_MODEL_8da86c29499443c8a640a45dc0f29961",
            "value": 895321
          }
        },
        "daa2941d5a1243b3951627d9510250b2": {
          "model_module": "@jupyter-widgets/controls",
          "model_module_version": "1.5.0",
          "model_name": "ProgressStyleModel",
          "state": {
            "_model_module": "@jupyter-widgets/controls",
            "_model_module_version": "1.5.0",
            "_model_name": "ProgressStyleModel",
            "_view_count": null,
            "_view_module": "@jupyter-widgets/base",
            "_view_module_version": "1.2.0",
            "_view_name": "StyleView",
            "bar_color": null,
            "description_width": ""
          }
        },
        "dfc663ff741d445daf870d1a9ba30be3": {
          "model_module": "@jupyter-widgets/controls",
          "model_module_version": "1.5.0",
          "model_name": "HTMLModel",
          "state": {
            "_dom_classes": [],
            "_model_module": "@jupyter-widgets/controls",
            "_model_module_version": "1.5.0",
            "_model_name": "HTMLModel",
            "_view_count": null,
            "_view_module": "@jupyter-widgets/controls",
            "_view_module_version": "1.5.0",
            "_view_name": "HTMLView",
            "description": "",
            "description_tooltip": null,
            "layout": "IPY_MODEL_f4f1021d63a847b5a46ee1b6cdfc41d6",
            "placeholder": "​",
            "style": "IPY_MODEL_77e2174d956b498f870588549b62c713",
            "value": "Downloading (…)solve/main/vocab.txt: 100%"
          }
        },
        "e8d6d2fb42d74b09b2a1a70f241c2377": {
          "model_module": "@jupyter-widgets/controls",
          "model_module_version": "1.5.0",
          "model_name": "DescriptionStyleModel",
          "state": {
            "_model_module": "@jupyter-widgets/controls",
            "_model_module_version": "1.5.0",
            "_model_name": "DescriptionStyleModel",
            "_view_count": null,
            "_view_module": "@jupyter-widgets/base",
            "_view_module_version": "1.2.0",
            "_view_name": "StyleView",
            "description_width": ""
          }
        },
        "ec079d25231845b6b10a472cfe6f70cf": {
          "model_module": "@jupyter-widgets/controls",
          "model_module_version": "1.5.0",
          "model_name": "DescriptionStyleModel",
          "state": {
            "_model_module": "@jupyter-widgets/controls",
            "_model_module_version": "1.5.0",
            "_model_name": "DescriptionStyleModel",
            "_view_count": null,
            "_view_module": "@jupyter-widgets/base",
            "_view_module_version": "1.2.0",
            "_view_name": "StyleView",
            "description_width": ""
          }
        },
        "ef0a207737114d1d9abfa8c71b547a20": {
          "model_module": "@jupyter-widgets/controls",
          "model_module_version": "1.5.0",
          "model_name": "HTMLModel",
          "state": {
            "_dom_classes": [],
            "_model_module": "@jupyter-widgets/controls",
            "_model_module_version": "1.5.0",
            "_model_name": "HTMLModel",
            "_view_count": null,
            "_view_module": "@jupyter-widgets/controls",
            "_view_module_version": "1.5.0",
            "_view_name": "HTMLView",
            "description": "",
            "description_tooltip": null,
            "layout": "IPY_MODEL_c078b02128284366a1dd11a5bd7b5bc5",
            "placeholder": "​",
            "style": "IPY_MODEL_6a7a7fb44c954c87af4dd5a1b1098426",
            "value": " 1.14M/1.14M [00:00&lt;00:00, 4.34MB/s]"
          }
        },
        "f4c5f7c101be495faf98fd65ab9c5f9c": {
          "model_module": "@jupyter-widgets/controls",
          "model_module_version": "1.5.0",
          "model_name": "HBoxModel",
          "state": {
            "_dom_classes": [],
            "_model_module": "@jupyter-widgets/controls",
            "_model_module_version": "1.5.0",
            "_model_name": "HBoxModel",
            "_view_count": null,
            "_view_module": "@jupyter-widgets/controls",
            "_view_module_version": "1.5.0",
            "_view_name": "HBoxView",
            "box_style": "",
            "children": [
              "IPY_MODEL_4b671bd13fd54e8ba75310ad5a8c7bfe",
              "IPY_MODEL_864da15edf4e49f58da3005ce0504b09",
              "IPY_MODEL_8107700a1aa34351a4020b39ad003f0d"
            ],
            "layout": "IPY_MODEL_92b4fe39ea2847a88cfefdc11cfe3415"
          }
        },
        "f4f1021d63a847b5a46ee1b6cdfc41d6": {
          "model_module": "@jupyter-widgets/base",
          "model_module_version": "1.2.0",
          "model_name": "LayoutModel",
          "state": {
            "_model_module": "@jupyter-widgets/base",
            "_model_module_version": "1.2.0",
            "_model_name": "LayoutModel",
            "_view_count": null,
            "_view_module": "@jupyter-widgets/base",
            "_view_module_version": "1.2.0",
            "_view_name": "LayoutView",
            "align_content": null,
            "align_items": null,
            "align_self": null,
            "border": null,
            "bottom": null,
            "display": null,
            "flex": null,
            "flex_flow": null,
            "grid_area": null,
            "grid_auto_columns": null,
            "grid_auto_flow": null,
            "grid_auto_rows": null,
            "grid_column": null,
            "grid_gap": null,
            "grid_row": null,
            "grid_template_areas": null,
            "grid_template_columns": null,
            "grid_template_rows": null,
            "height": null,
            "justify_content": null,
            "justify_items": null,
            "left": null,
            "margin": null,
            "max_height": null,
            "max_width": null,
            "min_height": null,
            "min_width": null,
            "object_fit": null,
            "object_position": null,
            "order": null,
            "overflow": null,
            "overflow_x": null,
            "overflow_y": null,
            "padding": null,
            "right": null,
            "top": null,
            "visibility": null,
            "width": null
          }
        },
        "f57480c62b254788b27c747aa5eabe0c": {
          "model_module": "@jupyter-widgets/controls",
          "model_module_version": "1.5.0",
          "model_name": "HTMLModel",
          "state": {
            "_dom_classes": [],
            "_model_module": "@jupyter-widgets/controls",
            "_model_module_version": "1.5.0",
            "_model_name": "HTMLModel",
            "_view_count": null,
            "_view_module": "@jupyter-widgets/controls",
            "_view_module_version": "1.5.0",
            "_view_name": "HTMLView",
            "description": "",
            "description_tooltip": null,
            "layout": "IPY_MODEL_73a54430187d4be28db53bb84e436094",
            "placeholder": "​",
            "style": "IPY_MODEL_b783040735404d4b8f5943796e12d758",
            "value": " 895k/895k [00:00&lt;00:00, 1.16MB/s]"
          }
        }
      }
    }
  },
  "nbformat": 4,
  "nbformat_minor": 0
}
