{
  "cells": [
    {
      "cell_type": "markdown",
      "metadata": {
        "id": "eJ9jH0uzi2Bi"
      },
      "source": [
        "[![Open In Colab](https://colab.research.google.com/assets/colab-badge.svg)](https://colab.research.google.com/drive/1D8taxYhrg2QKNE7vRfM_xyn9mYmLi0UU?usp=sharing)"
      ]
    },
    {
      "cell_type": "code",
      "source": [
        "import gdown\n",
        "# UIT-VSMEC -  https://nlp.uit.edu.vn/datasets/#h.p_FxJKMfavctsJ\n",
        "gdown.download_folder('https://drive.google.com/drive/folders/1HooABJyrddVGzll7fgkJ6VzkG_XuWfRu', quiet=True)"
      ],
      "metadata": {
        "colab": {
          "base_uri": "https://localhost:8080/"
        },
        "id": "TNpDEFk9L6oH",
        "outputId": "a6f55058-cb1f-4122-84eb-b2cc97ef64bb"
      },
      "execution_count": null,
      "outputs": [
        {
          "output_type": "execute_result",
          "data": {
            "text/plain": [
              "['/content/UIT-VSMEC/test_nor_811.xlsx',\n",
              " '/content/UIT-VSMEC/train_nor_811.xlsx',\n",
              " '/content/UIT-VSMEC/valid_nor_811.xlsx']"
            ]
          },
          "metadata": {},
          "execution_count": 1
        }
      ]
    },
    {
      "cell_type": "code",
      "execution_count": null,
      "metadata": {
        "execution": {
          "iopub.execute_input": "2023-08-31T15:09:29.566499Z",
          "iopub.status.busy": "2023-08-31T15:09:29.566134Z",
          "iopub.status.idle": "2023-08-31T15:10:14.286791Z",
          "shell.execute_reply": "2023-08-31T15:10:14.285268Z",
          "shell.execute_reply.started": "2023-08-31T15:09:29.566461Z"
        },
        "id": "PSUZLTEHpRsn",
        "trusted": true,
        "colab": {
          "base_uri": "https://localhost:8080/"
        },
        "outputId": "bc4ab7a8-ec09-4f9c-d67b-69aa22eb0cd7"
      },
      "outputs": [
        {
          "output_type": "stream",
          "name": "stdout",
          "text": [
            "\u001b[2K     \u001b[90m━━━━━━━━━━━━━━━━━━━━━━━━━━━━━━━━━━━━━━━━\u001b[0m \u001b[32m421.5/421.5 kB\u001b[0m \u001b[31m1.4 MB/s\u001b[0m eta \u001b[36m0:00:00\u001b[0m\n",
            "\u001b[?25h  Preparing metadata (setup.py) ... \u001b[?25l\u001b[?25hdone\n",
            "\u001b[2K     \u001b[90m━━━━━━━━━━━━━━━━━━━━━━━━━━━━━━━━━━━━━━━━\u001b[0m \u001b[32m1.5/1.5 MB\u001b[0m \u001b[31m37.0 MB/s\u001b[0m eta \u001b[36m0:00:00\u001b[0m\n",
            "\u001b[?25h  Building wheel for py_vncorenlp (setup.py) ... \u001b[?25l\u001b[?25hdone\n"
          ]
        }
      ],
      "source": [
        "# Install nescessary library\n",
        "!pip install -q openpyxl emoji transformers torchinfo py_vncorenlp"
      ]
    },
    {
      "cell_type": "code",
      "source": [
        "# Install Java for py_vncorenlp\n",
        "import os\n",
        "def install_java():\n",
        "  !apt-get update -qq\n",
        "  !apt-get install -y openjdk-8-jdk-headless -qq > /dev/null\n",
        "  os.environ[\"JAVA_HOME\"] = \"/usr/lib/jvm/java-8-openjdk-amd64\"     #set environment variable\n",
        "  !java -version       #check java version\n",
        "install_java()"
      ],
      "metadata": {
        "colab": {
          "base_uri": "https://localhost:8080/"
        },
        "id": "CbD0fJ0zWhe9",
        "outputId": "c99fe006-acbc-40b9-bc29-41c8f009cc16"
      },
      "execution_count": null,
      "outputs": [
        {
          "output_type": "stream",
          "name": "stdout",
          "text": [
            "openjdk version \"11.0.21\" 2023-10-17\n",
            "OpenJDK Runtime Environment (build 11.0.21+9-post-Ubuntu-0ubuntu122.04)\n",
            "OpenJDK 64-Bit Server VM (build 11.0.21+9-post-Ubuntu-0ubuntu122.04, mixed mode, sharing)\n"
          ]
        }
      ]
    },
    {
      "cell_type": "code",
      "source": [
        "# Mount google drive\n",
        "from google.colab import drive\n",
        "drive.mount('/content/drive', force_remount=True)"
      ],
      "metadata": {
        "colab": {
          "base_uri": "https://localhost:8080/"
        },
        "id": "-wR0RdWPZJTb",
        "outputId": "33cda470-3b6f-4d8b-8607-8d9711dd5d68"
      },
      "execution_count": null,
      "outputs": [
        {
          "output_type": "stream",
          "name": "stdout",
          "text": [
            "Mounted at /content/drive\n"
          ]
        }
      ]
    },
    {
      "cell_type": "code",
      "execution_count": null,
      "metadata": {
        "execution": {
          "iopub.execute_input": "2023-08-31T15:10:14.289303Z",
          "iopub.status.busy": "2023-08-31T15:10:14.288901Z",
          "iopub.status.idle": "2023-08-31T15:10:20.539350Z",
          "shell.execute_reply": "2023-08-31T15:10:20.538330Z",
          "shell.execute_reply.started": "2023-08-31T15:10:14.289263Z"
        },
        "id": "q6-XK3oFpRst",
        "trusted": true
      },
      "outputs": [],
      "source": [
        "import os\n",
        "import shutil\n",
        "from tqdm import tqdm\n",
        "import regex as re\n",
        "import emoji\n",
        "import numpy as np\n",
        "import pandas as pd\n",
        "import seaborn as sns\n",
        "import matplotlib.pyplot as plt"
      ]
    },
    {
      "cell_type": "code",
      "execution_count": null,
      "metadata": {
        "execution": {
          "iopub.execute_input": "2023-08-31T15:10:23.900425Z",
          "iopub.status.busy": "2023-08-31T15:10:23.899963Z",
          "iopub.status.idle": "2023-08-31T15:10:23.906507Z",
          "shell.execute_reply": "2023-08-31T15:10:23.905515Z",
          "shell.execute_reply.started": "2023-08-31T15:10:23.900388Z"
        },
        "id": "h3SIlpy7DMAr",
        "trusted": true
      },
      "outputs": [],
      "source": [
        "def get_data(path):\n",
        "    df = pd.read_excel(path, sheet_name=None)['Sheet1']\n",
        "    df.columns = ['index', 'Emotion', 'Sentence']\n",
        "    # unused column\n",
        "    df.drop(columns=['index'], inplace=True)\n",
        "    return df"
      ]
    },
    {
      "cell_type": "code",
      "source": [
        "train_df = get_data('UIT-VSMEC/train_nor_811.xlsx')\n",
        "valid_df = get_data('UIT-VSMEC/valid_nor_811.xlsx')\n",
        "test_df = get_data('UIT-VSMEC/test_nor_811.xlsx')"
      ],
      "metadata": {
        "id": "bxDWSpbyPR2r"
      },
      "execution_count": null,
      "outputs": []
    },
    {
      "cell_type": "markdown",
      "metadata": {
        "id": "stdBfFFopRsu"
      },
      "source": [
        "# Data analytics and preprocessing"
      ]
    },
    {
      "cell_type": "code",
      "execution_count": null,
      "metadata": {
        "execution": {
          "iopub.execute_input": "2023-08-31T15:10:24.759005Z",
          "iopub.status.busy": "2023-08-31T15:10:24.758239Z",
          "iopub.status.idle": "2023-08-31T15:10:24.774637Z",
          "shell.execute_reply": "2023-08-31T15:10:24.773502Z",
          "shell.execute_reply.started": "2023-08-31T15:10:24.758967Z"
        },
        "id": "T5E-j8VBqdic",
        "trusted": true,
        "colab": {
          "base_uri": "https://localhost:8080/",
          "height": 206
        },
        "outputId": "ae93addb-bd14-4d84-aa1a-766c99f08b38"
      },
      "outputs": [
        {
          "output_type": "execute_result",
          "data": {
            "text/plain": [
              "     Emotion                                           Sentence\n",
              "0      Other              cho mình xin bài nhạc tên là gì với ạ\n",
              "1    Disgust  cho đáng đời con quỷ . về nhà lôi con nhà mày ...\n",
              "2    Disgust  lo học đi . yêu đương lol gì hay lại thích học...\n",
              "3  Enjoyment    uớc gì sau này về già vẫn có thể như cụ này :))\n",
              "4  Enjoyment  mỗi lần có video của con là cứ coi đi coi lại ..."
            ],
            "text/html": [
              "\n",
              "  <div id=\"df-9c9cad63-bf9a-49ca-ae73-b52bb949742f\" class=\"colab-df-container\">\n",
              "    <div>\n",
              "<style scoped>\n",
              "    .dataframe tbody tr th:only-of-type {\n",
              "        vertical-align: middle;\n",
              "    }\n",
              "\n",
              "    .dataframe tbody tr th {\n",
              "        vertical-align: top;\n",
              "    }\n",
              "\n",
              "    .dataframe thead th {\n",
              "        text-align: right;\n",
              "    }\n",
              "</style>\n",
              "<table border=\"1\" class=\"dataframe\">\n",
              "  <thead>\n",
              "    <tr style=\"text-align: right;\">\n",
              "      <th></th>\n",
              "      <th>Emotion</th>\n",
              "      <th>Sentence</th>\n",
              "    </tr>\n",
              "  </thead>\n",
              "  <tbody>\n",
              "    <tr>\n",
              "      <th>0</th>\n",
              "      <td>Other</td>\n",
              "      <td>cho mình xin bài nhạc tên là gì với ạ</td>\n",
              "    </tr>\n",
              "    <tr>\n",
              "      <th>1</th>\n",
              "      <td>Disgust</td>\n",
              "      <td>cho đáng đời con quỷ . về nhà lôi con nhà mày ...</td>\n",
              "    </tr>\n",
              "    <tr>\n",
              "      <th>2</th>\n",
              "      <td>Disgust</td>\n",
              "      <td>lo học đi . yêu đương lol gì hay lại thích học...</td>\n",
              "    </tr>\n",
              "    <tr>\n",
              "      <th>3</th>\n",
              "      <td>Enjoyment</td>\n",
              "      <td>uớc gì sau này về già vẫn có thể như cụ này :))</td>\n",
              "    </tr>\n",
              "    <tr>\n",
              "      <th>4</th>\n",
              "      <td>Enjoyment</td>\n",
              "      <td>mỗi lần có video của con là cứ coi đi coi lại ...</td>\n",
              "    </tr>\n",
              "  </tbody>\n",
              "</table>\n",
              "</div>\n",
              "    <div class=\"colab-df-buttons\">\n",
              "\n",
              "  <div class=\"colab-df-container\">\n",
              "    <button class=\"colab-df-convert\" onclick=\"convertToInteractive('df-9c9cad63-bf9a-49ca-ae73-b52bb949742f')\"\n",
              "            title=\"Convert this dataframe to an interactive table.\"\n",
              "            style=\"display:none;\">\n",
              "\n",
              "  <svg xmlns=\"http://www.w3.org/2000/svg\" height=\"24px\" viewBox=\"0 -960 960 960\">\n",
              "    <path d=\"M120-120v-720h720v720H120Zm60-500h600v-160H180v160Zm220 220h160v-160H400v160Zm0 220h160v-160H400v160ZM180-400h160v-160H180v160Zm440 0h160v-160H620v160ZM180-180h160v-160H180v160Zm440 0h160v-160H620v160Z\"/>\n",
              "  </svg>\n",
              "    </button>\n",
              "\n",
              "  <style>\n",
              "    .colab-df-container {\n",
              "      display:flex;\n",
              "      gap: 12px;\n",
              "    }\n",
              "\n",
              "    .colab-df-convert {\n",
              "      background-color: #E8F0FE;\n",
              "      border: none;\n",
              "      border-radius: 50%;\n",
              "      cursor: pointer;\n",
              "      display: none;\n",
              "      fill: #1967D2;\n",
              "      height: 32px;\n",
              "      padding: 0 0 0 0;\n",
              "      width: 32px;\n",
              "    }\n",
              "\n",
              "    .colab-df-convert:hover {\n",
              "      background-color: #E2EBFA;\n",
              "      box-shadow: 0px 1px 2px rgba(60, 64, 67, 0.3), 0px 1px 3px 1px rgba(60, 64, 67, 0.15);\n",
              "      fill: #174EA6;\n",
              "    }\n",
              "\n",
              "    .colab-df-buttons div {\n",
              "      margin-bottom: 4px;\n",
              "    }\n",
              "\n",
              "    [theme=dark] .colab-df-convert {\n",
              "      background-color: #3B4455;\n",
              "      fill: #D2E3FC;\n",
              "    }\n",
              "\n",
              "    [theme=dark] .colab-df-convert:hover {\n",
              "      background-color: #434B5C;\n",
              "      box-shadow: 0px 1px 3px 1px rgba(0, 0, 0, 0.15);\n",
              "      filter: drop-shadow(0px 1px 2px rgba(0, 0, 0, 0.3));\n",
              "      fill: #FFFFFF;\n",
              "    }\n",
              "  </style>\n",
              "\n",
              "    <script>\n",
              "      const buttonEl =\n",
              "        document.querySelector('#df-9c9cad63-bf9a-49ca-ae73-b52bb949742f button.colab-df-convert');\n",
              "      buttonEl.style.display =\n",
              "        google.colab.kernel.accessAllowed ? 'block' : 'none';\n",
              "\n",
              "      async function convertToInteractive(key) {\n",
              "        const element = document.querySelector('#df-9c9cad63-bf9a-49ca-ae73-b52bb949742f');\n",
              "        const dataTable =\n",
              "          await google.colab.kernel.invokeFunction('convertToInteractive',\n",
              "                                                    [key], {});\n",
              "        if (!dataTable) return;\n",
              "\n",
              "        const docLinkHtml = 'Like what you see? Visit the ' +\n",
              "          '<a target=\"_blank\" href=https://colab.research.google.com/notebooks/data_table.ipynb>data table notebook</a>'\n",
              "          + ' to learn more about interactive tables.';\n",
              "        element.innerHTML = '';\n",
              "        dataTable['output_type'] = 'display_data';\n",
              "        await google.colab.output.renderOutput(dataTable, element);\n",
              "        const docLink = document.createElement('div');\n",
              "        docLink.innerHTML = docLinkHtml;\n",
              "        element.appendChild(docLink);\n",
              "      }\n",
              "    </script>\n",
              "  </div>\n",
              "\n",
              "\n",
              "<div id=\"df-6d3ffbac-87ef-4934-aaf8-8b1ad6c12a0c\">\n",
              "  <button class=\"colab-df-quickchart\" onclick=\"quickchart('df-6d3ffbac-87ef-4934-aaf8-8b1ad6c12a0c')\"\n",
              "            title=\"Suggest charts\"\n",
              "            style=\"display:none;\">\n",
              "\n",
              "<svg xmlns=\"http://www.w3.org/2000/svg\" height=\"24px\"viewBox=\"0 0 24 24\"\n",
              "     width=\"24px\">\n",
              "    <g>\n",
              "        <path d=\"M19 3H5c-1.1 0-2 .9-2 2v14c0 1.1.9 2 2 2h14c1.1 0 2-.9 2-2V5c0-1.1-.9-2-2-2zM9 17H7v-7h2v7zm4 0h-2V7h2v10zm4 0h-2v-4h2v4z\"/>\n",
              "    </g>\n",
              "</svg>\n",
              "  </button>\n",
              "\n",
              "<style>\n",
              "  .colab-df-quickchart {\n",
              "      --bg-color: #E8F0FE;\n",
              "      --fill-color: #1967D2;\n",
              "      --hover-bg-color: #E2EBFA;\n",
              "      --hover-fill-color: #174EA6;\n",
              "      --disabled-fill-color: #AAA;\n",
              "      --disabled-bg-color: #DDD;\n",
              "  }\n",
              "\n",
              "  [theme=dark] .colab-df-quickchart {\n",
              "      --bg-color: #3B4455;\n",
              "      --fill-color: #D2E3FC;\n",
              "      --hover-bg-color: #434B5C;\n",
              "      --hover-fill-color: #FFFFFF;\n",
              "      --disabled-bg-color: #3B4455;\n",
              "      --disabled-fill-color: #666;\n",
              "  }\n",
              "\n",
              "  .colab-df-quickchart {\n",
              "    background-color: var(--bg-color);\n",
              "    border: none;\n",
              "    border-radius: 50%;\n",
              "    cursor: pointer;\n",
              "    display: none;\n",
              "    fill: var(--fill-color);\n",
              "    height: 32px;\n",
              "    padding: 0;\n",
              "    width: 32px;\n",
              "  }\n",
              "\n",
              "  .colab-df-quickchart:hover {\n",
              "    background-color: var(--hover-bg-color);\n",
              "    box-shadow: 0 1px 2px rgba(60, 64, 67, 0.3), 0 1px 3px 1px rgba(60, 64, 67, 0.15);\n",
              "    fill: var(--button-hover-fill-color);\n",
              "  }\n",
              "\n",
              "  .colab-df-quickchart-complete:disabled,\n",
              "  .colab-df-quickchart-complete:disabled:hover {\n",
              "    background-color: var(--disabled-bg-color);\n",
              "    fill: var(--disabled-fill-color);\n",
              "    box-shadow: none;\n",
              "  }\n",
              "\n",
              "  .colab-df-spinner {\n",
              "    border: 2px solid var(--fill-color);\n",
              "    border-color: transparent;\n",
              "    border-bottom-color: var(--fill-color);\n",
              "    animation:\n",
              "      spin 1s steps(1) infinite;\n",
              "  }\n",
              "\n",
              "  @keyframes spin {\n",
              "    0% {\n",
              "      border-color: transparent;\n",
              "      border-bottom-color: var(--fill-color);\n",
              "      border-left-color: var(--fill-color);\n",
              "    }\n",
              "    20% {\n",
              "      border-color: transparent;\n",
              "      border-left-color: var(--fill-color);\n",
              "      border-top-color: var(--fill-color);\n",
              "    }\n",
              "    30% {\n",
              "      border-color: transparent;\n",
              "      border-left-color: var(--fill-color);\n",
              "      border-top-color: var(--fill-color);\n",
              "      border-right-color: var(--fill-color);\n",
              "    }\n",
              "    40% {\n",
              "      border-color: transparent;\n",
              "      border-right-color: var(--fill-color);\n",
              "      border-top-color: var(--fill-color);\n",
              "    }\n",
              "    60% {\n",
              "      border-color: transparent;\n",
              "      border-right-color: var(--fill-color);\n",
              "    }\n",
              "    80% {\n",
              "      border-color: transparent;\n",
              "      border-right-color: var(--fill-color);\n",
              "      border-bottom-color: var(--fill-color);\n",
              "    }\n",
              "    90% {\n",
              "      border-color: transparent;\n",
              "      border-bottom-color: var(--fill-color);\n",
              "    }\n",
              "  }\n",
              "</style>\n",
              "\n",
              "  <script>\n",
              "    async function quickchart(key) {\n",
              "      const quickchartButtonEl =\n",
              "        document.querySelector('#' + key + ' button');\n",
              "      quickchartButtonEl.disabled = true;  // To prevent multiple clicks.\n",
              "      quickchartButtonEl.classList.add('colab-df-spinner');\n",
              "      try {\n",
              "        const charts = await google.colab.kernel.invokeFunction(\n",
              "            'suggestCharts', [key], {});\n",
              "      } catch (error) {\n",
              "        console.error('Error during call to suggestCharts:', error);\n",
              "      }\n",
              "      quickchartButtonEl.classList.remove('colab-df-spinner');\n",
              "      quickchartButtonEl.classList.add('colab-df-quickchart-complete');\n",
              "    }\n",
              "    (() => {\n",
              "      let quickchartButtonEl =\n",
              "        document.querySelector('#df-6d3ffbac-87ef-4934-aaf8-8b1ad6c12a0c button');\n",
              "      quickchartButtonEl.style.display =\n",
              "        google.colab.kernel.accessAllowed ? 'block' : 'none';\n",
              "    })();\n",
              "  </script>\n",
              "</div>\n",
              "\n",
              "    </div>\n",
              "  </div>\n"
            ]
          },
          "metadata": {},
          "execution_count": 8
        }
      ],
      "source": [
        "train_df.head()"
      ]
    },
    {
      "cell_type": "markdown",
      "metadata": {
        "id": "PsVvkZVQBQY1"
      },
      "source": [
        "## Dataset info"
      ]
    },
    {
      "cell_type": "code",
      "execution_count": null,
      "metadata": {
        "execution": {
          "iopub.execute_input": "2023-08-31T15:10:24.778504Z",
          "iopub.status.busy": "2023-08-31T15:10:24.777549Z",
          "iopub.status.idle": "2023-08-31T15:10:24.784844Z",
          "shell.execute_reply": "2023-08-31T15:10:24.783586Z",
          "shell.execute_reply.started": "2023-08-31T15:10:24.778468Z"
        },
        "id": "p892agBSqovN",
        "trusted": true,
        "colab": {
          "base_uri": "https://localhost:8080/"
        },
        "outputId": "eea14bde-9067-497b-a101-e669a06361dc"
      },
      "outputs": [
        {
          "output_type": "stream",
          "name": "stdout",
          "text": [
            "Train shape = (5548, 2)\n",
            "Valid shape = (686, 2)\n",
            "Test shape = (693, 2)\n"
          ]
        }
      ],
      "source": [
        "print(\"Train shape = {}\".format(train_df.shape))\n",
        "print(\"Valid shape = {}\".format(valid_df.shape))\n",
        "print(\"Test shape = {}\".format(test_df.shape))"
      ]
    },
    {
      "cell_type": "code",
      "execution_count": null,
      "metadata": {
        "execution": {
          "iopub.execute_input": "2023-08-31T15:10:24.786876Z",
          "iopub.status.busy": "2023-08-31T15:10:24.786407Z",
          "iopub.status.idle": "2023-08-31T15:10:24.818879Z",
          "shell.execute_reply": "2023-08-31T15:10:24.817565Z",
          "shell.execute_reply.started": "2023-08-31T15:10:24.786841Z"
        },
        "id": "PQ3ckxuYBXW_",
        "trusted": true,
        "colab": {
          "base_uri": "https://localhost:8080/"
        },
        "outputId": "3949d55a-4290-4453-bdbd-b58be9738a3a"
      },
      "outputs": [
        {
          "output_type": "stream",
          "name": "stdout",
          "text": [
            "Train dataset infor:\n",
            "<class 'pandas.core.frame.DataFrame'>\n",
            "RangeIndex: 5548 entries, 0 to 5547\n",
            "Data columns (total 2 columns):\n",
            " #   Column    Non-Null Count  Dtype \n",
            "---  ------    --------------  ----- \n",
            " 0   Emotion   5548 non-null   object\n",
            " 1   Sentence  5548 non-null   object\n",
            "dtypes: object(2)\n",
            "memory usage: 86.8+ KB\n",
            "\n",
            "Valid dataset infor:\n",
            "<class 'pandas.core.frame.DataFrame'>\n",
            "RangeIndex: 686 entries, 0 to 685\n",
            "Data columns (total 2 columns):\n",
            " #   Column    Non-Null Count  Dtype \n",
            "---  ------    --------------  ----- \n",
            " 0   Emotion   686 non-null    object\n",
            " 1   Sentence  686 non-null    object\n",
            "dtypes: object(2)\n",
            "memory usage: 10.8+ KB\n",
            "\n",
            "Test dataset infor:\n",
            "<class 'pandas.core.frame.DataFrame'>\n",
            "RangeIndex: 693 entries, 0 to 692\n",
            "Data columns (total 2 columns):\n",
            " #   Column    Non-Null Count  Dtype \n",
            "---  ------    --------------  ----- \n",
            " 0   Emotion   693 non-null    object\n",
            " 1   Sentence  693 non-null    object\n",
            "dtypes: object(2)\n",
            "memory usage: 11.0+ KB\n"
          ]
        }
      ],
      "source": [
        "print(\"Train dataset infor:\")\n",
        "train_df.info()\n",
        "\n",
        "print(\"\\nValid dataset infor:\")\n",
        "valid_df.info()\n",
        "\n",
        "print(\"\\nTest dataset infor:\")\n",
        "test_df.info()"
      ]
    },
    {
      "cell_type": "markdown",
      "metadata": {
        "id": "-RIchdeRBjoZ"
      },
      "source": [
        "===> Not found missing value"
      ]
    },
    {
      "cell_type": "code",
      "execution_count": null,
      "metadata": {
        "execution": {
          "iopub.execute_input": "2023-08-31T15:10:24.821287Z",
          "iopub.status.busy": "2023-08-31T15:10:24.820771Z",
          "iopub.status.idle": "2023-08-31T15:10:25.513484Z",
          "shell.execute_reply": "2023-08-31T15:10:25.512363Z",
          "shell.execute_reply.started": "2023-08-31T15:10:24.821190Z"
        },
        "id": "zMIr5IkLBxIo",
        "trusted": true,
        "colab": {
          "base_uri": "https://localhost:8080/",
          "height": 410
        },
        "outputId": "df8d6f47-2475-40ef-964b-a7445d1e4184"
      },
      "outputs": [
        {
          "output_type": "display_data",
          "data": {
            "text/plain": [
              "<Figure size 2000x400 with 3 Axes>"
            ],
            "image/png": "[encoded data removed]"
          },
          "metadata": {}
        }
      ],
      "source": [
        "# Emotional distribution of dataset\n",
        "emotional_labels = sorted(train_df['Emotion'].unique())\n",
        "fig, axes = plt.subplots(nrows=1, ncols=3, figsize=(20, 4))\n",
        "\n",
        "sns.countplot(x='Emotion', data=train_df, order=emotional_labels, ax=axes[0])\n",
        "axes[0].set_title('Emotional distribution (Train)')\n",
        "\n",
        "sns.countplot(x='Emotion', data=valid_df, order=emotional_labels, ax=axes[1])\n",
        "axes[1].set_title('Emotional distribution (Valid)')\n",
        "\n",
        "sns.countplot(x='Emotion', data=test_df, order=emotional_labels, ax=axes[2])\n",
        "axes[2].set_title('Emotional distribution (Test)')\n",
        "\n",
        "plt.show()"
      ]
    },
    {
      "cell_type": "markdown",
      "metadata": {
        "id": "YGSgX48sD__7"
      },
      "source": [
        "===> Imbalanced dataset -> using ImbalancedDataSampler"
      ]
    },
    {
      "cell_type": "markdown",
      "metadata": {
        "id": "mY0C0g9zEv5A"
      },
      "source": [
        "## Pre-processing text"
      ]
    },
    {
      "cell_type": "markdown",
      "metadata": {
        "id": "ZAxPCcjSpRsv"
      },
      "source": [
        "Reference: https://github.com/nguyenvanhieuvn/text-classification-tutorial/blob/master/text_classification_tutorial.ipynb"
      ]
    },
    {
      "cell_type": "code",
      "execution_count": null,
      "metadata": {
        "execution": {
          "iopub.execute_input": "2023-08-31T15:10:25.519775Z",
          "iopub.status.busy": "2023-08-31T15:10:25.519485Z",
          "iopub.status.idle": "2023-08-31T15:10:25.524652Z",
          "shell.execute_reply": "2023-08-31T15:10:25.523544Z",
          "shell.execute_reply.started": "2023-08-31T15:10:25.519749Z"
        },
        "id": "gznnIhirpRsw",
        "trusted": true
      },
      "outputs": [],
      "source": [
        "# Remove HTML code\n",
        "def remove_HTML(text):\n",
        "    return re.sub(r'<[^>]*>', '', text)"
      ]
    },
    {
      "cell_type": "code",
      "execution_count": null,
      "metadata": {
        "execution": {
          "iopub.execute_input": "2023-08-31T15:10:25.526831Z",
          "iopub.status.busy": "2023-08-31T15:10:25.526272Z",
          "iopub.status.idle": "2023-08-31T15:10:25.535913Z",
          "shell.execute_reply": "2023-08-31T15:10:25.534924Z",
          "shell.execute_reply.started": "2023-08-31T15:10:25.526794Z"
        },
        "id": "PvjVGQzlpRsw",
        "trusted": true
      },
      "outputs": [],
      "source": [
        "# Standardize unicode\n",
        "def convert_unicode(text):\n",
        "    char1252 = 'à|á|ả|ã|ạ|ầ|ấ|ẩ|ẫ|ậ|ằ|ắ|ẳ|ẵ|ặ|è|é|ẻ|ẽ|ẹ|ề|ế|ể|ễ|ệ|ì|í|ỉ|ĩ|ị|ò|ó|ỏ|õ|ọ|ồ|ố|ổ|ỗ|ộ|ờ|ớ|ở|ỡ|ợ|ù|ú|ủ|ũ|ụ|ừ|ứ|ử|ữ|ự|ỳ|ý|ỷ|ỹ|ỵ|À|Á|Ả|Ã|Ạ|Ầ|Ấ|Ẩ|Ẫ|Ậ|Ằ|Ắ|Ẳ|Ẵ|Ặ|È|É|Ẻ|Ẽ|Ẹ|Ề|Ế|Ể|Ễ|Ệ|Ì|Í|Ỉ|Ĩ|Ị|Ò|Ó|Ỏ|Õ|Ọ|Ồ|Ố|Ổ|Ỗ|Ộ|Ờ|Ớ|Ở|Ỡ|Ợ|Ù|Ú|Ủ|Ũ|Ụ|Ừ|Ứ|Ử|Ữ|Ự|Ỳ|Ý|Ỷ|Ỹ|Ỵ'\n",
        "    charutf8 = 'à|á|ả|ã|ạ|ầ|ấ|ẩ|ẫ|ậ|ằ|ắ|ẳ|ẵ|ặ|è|é|ẻ|ẽ|ẹ|ề|ế|ể|ễ|ệ|ì|í|ỉ|ĩ|ị|ò|ó|ỏ|õ|ọ|ồ|ố|ổ|ỗ|ộ|ờ|ớ|ở|ỡ|ợ|ù|ú|ủ|ũ|ụ|ừ|ứ|ử|ữ|ự|ỳ|ý|ỷ|ỹ|ỵ|À|Á|Ả|Ã|Ạ|Ầ|Ấ|Ẩ|Ẫ|Ậ|Ằ|Ắ|Ẳ|Ẵ|Ặ|È|É|Ẻ|Ẽ|Ẹ|Ề|Ế|Ể|Ễ|Ệ|Ì|Í|Ỉ|Ĩ|Ị|Ò|Ó|Ỏ|Õ|Ọ|Ồ|Ố|Ổ|Ỗ|Ộ|Ờ|Ớ|Ở|Ỡ|Ợ|Ù|Ú|Ủ|Ũ|Ụ|Ừ|Ứ|Ử|Ữ|Ự|Ỳ|Ý|Ỷ|Ỹ|Ỵ'\n",
        "    char1252 = char1252.split('|')\n",
        "    charutf8 = charutf8.split('|')\n",
        "\n",
        "    dic = {}\n",
        "    for i in range(len(char1252)): dic[char1252[i]] = charutf8[i]\n",
        "    return re.sub(\n",
        "        r'à|á|ả|ã|ạ|ầ|ấ|ẩ|ẫ|ậ|ằ|ắ|ẳ|ẵ|ặ|è|é|ẻ|ẽ|ẹ|ề|ế|ể|ễ|ệ|ì|í|ỉ|ĩ|ị|ò|ó|ỏ|õ|ọ|ồ|ố|ổ|ỗ|ộ|ờ|ớ|ở|ỡ|ợ|ù|ú|ủ|ũ|ụ|ừ|ứ|ử|ữ|ự|ỳ|ý|ỷ|ỹ|ỵ|À|Á|Ả|Ã|Ạ|Ầ|Ấ|Ẩ|Ẫ|Ậ|Ằ|Ắ|Ẳ|Ẵ|Ặ|È|É|Ẻ|Ẽ|Ẹ|Ề|Ế|Ể|Ễ|Ệ|Ì|Í|Ỉ|Ĩ|Ị|Ò|Ó|Ỏ|Õ|Ọ|Ồ|Ố|Ổ|Ỗ|Ộ|Ờ|Ớ|Ở|Ỡ|Ợ|Ù|Ú|Ủ|Ũ|Ụ|Ừ|Ứ|Ử|Ữ|Ự|Ỳ|Ý|Ỷ|Ỹ|Ỵ',\n",
        "        lambda x: dic[x.group()], text\n",
        "    )"
      ]
    },
    {
      "cell_type": "code",
      "execution_count": null,
      "metadata": {
        "execution": {
          "iopub.execute_input": "2023-08-31T15:10:25.539166Z",
          "iopub.status.busy": "2023-08-31T15:10:25.538498Z",
          "iopub.status.idle": "2023-08-31T15:10:25.563040Z",
          "shell.execute_reply": "2023-08-31T15:10:25.561816Z",
          "shell.execute_reply.started": "2023-08-31T15:10:25.539133Z"
        },
        "id": "fS9WOIdqpRsx",
        "trusted": true
      },
      "outputs": [],
      "source": [
        "# Standardize accent typing\n",
        "vowels_to_ids = {}\n",
        "vowels_table = [\n",
        "    ['a', 'à', 'á', 'ả', 'ã', 'ạ', 'a' ],\n",
        "    ['ă', 'ằ', 'ắ', 'ẳ', 'ẵ', 'ặ', 'aw'],\n",
        "    ['â', 'ầ', 'ấ', 'ẩ', 'ẫ', 'ậ', 'aa'],\n",
        "    ['e', 'è', 'é', 'ẻ', 'ẽ', 'ẹ', 'e' ],\n",
        "    ['ê', 'ề', 'ế', 'ể', 'ễ', 'ệ', 'ee'],\n",
        "    ['i', 'ì', 'í', 'ỉ', 'ĩ', 'ị', 'i' ],\n",
        "    ['o', 'ò', 'ó', 'ỏ', 'õ', 'ọ', 'o' ],\n",
        "    ['ô', 'ồ', 'ố', 'ổ', 'ỗ', 'ộ', 'oo'],\n",
        "    ['ơ', 'ờ', 'ớ', 'ở', 'ỡ', 'ợ', 'ow'],\n",
        "    ['u', 'ù', 'ú', 'ủ', 'ũ', 'ụ', 'u' ],\n",
        "    ['ư', 'ừ', 'ứ', 'ử', 'ữ', 'ự', 'uw'],\n",
        "    ['y', 'ỳ', 'ý', 'ỷ', 'ỹ', 'ỵ', 'y' ]\n",
        "]\n",
        "\n",
        "for i in range(len(vowels_table)):\n",
        "    for j in range(len(vowels_table[i]) - 1):\n",
        "        vowels_to_ids[vowels_table[i][j]] = (i, j)\n",
        "\n",
        "\n",
        "def is_valid_vietnamese_word(word):\n",
        "    chars = list(word)\n",
        "    vowel_indexes = -1\n",
        "    for index, char in enumerate(chars):\n",
        "        x, y = vowels_to_ids.get(char, (-1, -1))\n",
        "        if x != -1:\n",
        "            if vowel_indexes == -1: vowel_indexes = index\n",
        "            else:\n",
        "                if index - vowel_indexes != 1: return False\n",
        "                vowel_indexes = index\n",
        "    return True\n",
        "\n",
        "\n",
        "def standardize_word_typing(word):\n",
        "    if not is_valid_vietnamese_word(word): return word\n",
        "    chars = list(word)\n",
        "    dau_cau = 0\n",
        "    vowel_indexes = []\n",
        "    qu_or_gi = False\n",
        "\n",
        "    for index, char in enumerate(chars):\n",
        "        x, y = vowels_to_ids.get(char, (-1, -1))\n",
        "        if x == -1: continue\n",
        "        elif x == 9:  # check qu\n",
        "            if index != 0 and chars[index - 1] == 'q':\n",
        "                chars[index] = 'u'\n",
        "                qu_or_gi = True\n",
        "        elif x == 5:  # check gi\n",
        "            if index != 0 and chars[index - 1] == 'g':\n",
        "                chars[index] = 'i'\n",
        "                qu_or_gi = True\n",
        "\n",
        "        if y != 0:\n",
        "            dau_cau = y\n",
        "            chars[index] = vowels_table[x][0]\n",
        "\n",
        "        if not qu_or_gi or index != 1:\n",
        "            vowel_indexes.append(index)\n",
        "\n",
        "    if len(vowel_indexes) < 2:\n",
        "        if qu_or_gi:\n",
        "            if len(chars) == 2:\n",
        "                x, y = vowels_to_ids.get(chars[1])\n",
        "                chars[1] = vowels_table[x][dau_cau]\n",
        "            else:\n",
        "                x, y = vowels_to_ids.get(chars[2], (-1, -1))\n",
        "                if x != -1: chars[2] = vowels_table[x][dau_cau]\n",
        "                else: chars[1] = vowels_table[5][dau_cau] if chars[1] == 'i' else vowels_table[9][dau_cau]\n",
        "            return ''.join(chars)\n",
        "        return word\n",
        "\n",
        "    for index in vowel_indexes:\n",
        "        x, y = vowels_to_ids[chars[index]]\n",
        "        if x == 4 or x == 8:  # ê, ơ\n",
        "            chars[index] = vowels_table[x][dau_cau]\n",
        "            return ''.join(chars)\n",
        "\n",
        "    if len(vowel_indexes) == 2:\n",
        "        if vowel_indexes[-1] == len(chars) - 1:\n",
        "            x, y = vowels_to_ids[chars[vowel_indexes[0]]]\n",
        "            chars[vowel_indexes[0]] = vowels_table[x][dau_cau]\n",
        "        else:\n",
        "            x, y = vowels_to_ids[chars[vowel_indexes[1]]]\n",
        "            chars[vowel_indexes[1]] = vowels_table[x][dau_cau]\n",
        "    else:\n",
        "        x, y = vowels_to_ids[chars[vowel_indexes[1]]]\n",
        "        chars[vowel_indexes[1]] = vowels_table[x][dau_cau]\n",
        "    return ''.join(chars)\n",
        "\n",
        "\n",
        "def standardize_sentence_typing(text):\n",
        "    words = text.lower().split()\n",
        "    for index, word in enumerate(words):\n",
        "        cw = re.sub(r'(^\\p{P}*)([p{L}.]*\\p{L}+)(\\p{P}*$)', r'\\1/\\2/\\3', word).split('/')\n",
        "        if len(cw) == 3: cw[1] = standardize_word_typing(cw[1])\n",
        "        words[index] = ''.join(cw)\n",
        "    return ' '.join(words)"
      ]
    },
    {
      "cell_type": "code",
      "execution_count": null,
      "metadata": {
        "execution": {
          "iopub.execute_input": "2023-08-31T15:10:25.566824Z",
          "iopub.status.busy": "2023-08-31T15:10:25.566518Z",
          "iopub.status.idle": "2023-08-31T15:10:27.765810Z",
          "shell.execute_reply": "2023-08-31T15:10:27.764597Z",
          "shell.execute_reply.started": "2023-08-31T15:10:25.566799Z"
        },
        "id": "eVqTeaXlpRsy",
        "trusted": true,
        "colab": {
          "base_uri": "https://localhost:8080/"
        },
        "outputId": "8df5cbba-695d-45ab-a367-df23a84b027d"
      },
      "outputs": [
        {
          "output_type": "stream",
          "name": "stdout",
          "text": [
            "--2024-02-03 07:43:42--  https://gist.githubusercontent.com/nguyenvanhieuvn/7d9441c10b3c2739499fc5a4d9ea06fb/raw/df939245b3e841b62af115be4dcb3516dadc9fc5/teencode.txt\n",
            "Resolving gist.githubusercontent.com (gist.githubusercontent.com)... 185.199.108.133, 185.199.109.133, 185.199.110.133, ...\n",
            "Connecting to gist.githubusercontent.com (gist.githubusercontent.com)|185.199.108.133|:443... connected.\n",
            "HTTP request sent, awaiting response... 200 OK\n",
            "Length: 5656 (5.5K) [text/plain]\n",
            "Saving to: ‘teencode.txt’\n",
            "\n",
            "teencode.txt        100%[===================>]   5.52K  --.-KB/s    in 0s      \n",
            "\n",
            "2024-02-03 07:43:43 (41.1 MB/s) - ‘teencode.txt’ saved [5656/5656]\n",
            "\n"
          ]
        }
      ],
      "source": [
        "# Normalize acronyms\n",
        "!wget https://gist.githubusercontent.com/nguyenvanhieuvn/7d9441c10b3c2739499fc5a4d9ea06fb/raw/df939245b3e841b62af115be4dcb3516dadc9fc5/teencode.txt\n",
        "\n",
        "replace_list = {\n",
        "    'ô kêi': 'ok', 'okie': 'ok', 'o kê': 'ok', 'okey': 'ok', 'ôkê': 'ok', 'ô kê': 'ok', 'oki': 'ok', 'oke': 'ok', 'okay': 'ok', 'okê': 'ok',\n",
        "    'tks': 'cảm ơn', 'thks': 'cảm ơn', 'thanks': 'cảm ơn', 'ths': 'cảm ơn', 'thank': 'cảm ơn',\n",
        "    'kg': 'không', 'not': 'không', 'k': 'không', 'kh': 'không', 'kô': 'không', 'hok': 'không', 'ko': 'không', 'khong': 'không', 'kp': 'không phải',\n",
        "    'he he': 'cười', 'hehe': 'cười', 'hihi': 'cười', 'haha': 'cười', 'hjhj': 'cười', 'thick': 'thích',\n",
        "    'huhu': 'khóc', 'cute': 'dễ thương',\n",
        "    'cc': 'chửi tục', 'cặc':'chửi tục', 'dm':'chửi tục', 'dmm':'chửi tục', 'dume':'chửi tục', 'dma': 'chửi tục', 'vl': 'chửi tục',\n",
        "\n",
        "    'sz': 'cỡ', 'size': 'cỡ',\n",
        "    'wa': 'quá', 'wá': 'quá', 'qá': 'quá',\n",
        "    'đx': 'được', 'dk': 'được', 'dc': 'được', 'đk': 'được', 'đc': 'được',\n",
        "    'vs': 'với', 'j': 'gì', '“': ' ', 'time': 'thời gian', 'm': 'mình', 'mik': 'mình', 'r': 'rồi', 'bjo': 'bao giờ', 'very': 'rất',\n",
        "    'nk': 'nó',\n",
        "\n",
        "    'authentic': 'chuẩn chính hãng', 'aut': 'chuẩn chính hãng', 'auth': 'chuẩn chính hãng', 'date': 'hạn sử dụng', 'hsd': 'hạn sử dụng',\n",
        "    'store': 'cửa hàng', 'sop': 'cửa hàng', 'sốp': 'cửa hàng', 'shop': 'cửa hàng',\n",
        "    'sp': 'sản phẩm', 'product': 'sản phẩm', 'hàg': 'hàng',\n",
        "    'sgk':'sách giáo khoa', 'cv':'công việc',\n",
        "    'ship': 'giao hàng', 'delivery': 'giao hàng', 'síp': 'giao hàng', 'order': 'đặt hàng',\n",
        "\n",
        "    'gud': 'tốt', 'wel done': 'tốt', 'good': 'tốt', 'gút': 'tốt', 'tot': 'tốt', 'nice': 'tốt', 'perfect': 'rất tốt',\n",
        "    'quality': 'chất lượng', 'chất lg': 'chất lượng', 'excelent': 'hoàn hảo', 'bt': 'bình thường', 'bth': 'bình thường',\n",
        "    'sad': 'tệ', 'por': 'tệ', 'poor': 'tệ', 'bad': 'tệ',\n",
        "    'beautiful': 'đẹp tuyệt vời', 'dep': 'đẹp',\n",
        "    'xau': 'xấu', 'sấu': 'xấu',\n",
        "\n",
        "    'thik': 'thích', 'iu': 'yêu', 'fake': 'giả mạo',\n",
        "    'quickly': 'nhanh', 'quick': 'nhanh', 'fast': 'nhanh',\n",
        "    'fresh': 'tươi', 'delicious': 'ngon',\n",
        "\n",
        "    'dt': 'điện thoại', 'fb': 'facebook', 'face': 'facebook', 'ks': 'khách sạn', 'nv': 'nhân viên',\n",
        "    'nt': 'nhắn tin', 'ib': 'nhắn tin', 'tl': 'trả lời', 'trl': 'trả lời', 'rep': 'trả lời',\n",
        "    'fback': 'feedback', 'fedback': 'feedback',\n",
        "    'sd': 'sử dụng', 'sài': 'xài',\n",
        "\n",
        "    '^_^': 'cười', ':)': 'cười',  ':))': 'cười', ':)))': 'cười', '=))': 'cười', '=)))': 'cười', ':(': 'buồn', ':((': 'buồn', ':(((': 'buồn',\n",
        "    '❤️': 'yêu thích', '👍': 'thích', '🎉': 'chúc mừng', '😀': 'cười', '😍': 'yêu thích', '😂': 'cười lớn', '🤣':'cười lớn', '🤗': 'vỗ tay', '😙': 'cười', '🙂': 'cười',\n",
        "    '😔': 'buồn', '😓': 'buồn', 'T_T': 'khóc', '😭': 'khóc lớn',  '😡': 'giận dữ', '🤬': 'giận dữ', '🤡': 'mặt chú hề', '😩': 'thất vọng', '😞': 'thất vọng', '😢': 'xúc động',\n",
        "    '⭐': 'star', '*': 'star', '🌟': 'star',\n",
        "}\n",
        "\n",
        "with open('teencode.txt', encoding='utf-8') as f:\n",
        "    for pair in f.readlines():\n",
        "        key, value = pair.split('\\t')\n",
        "        replace_list[key] = value.strip()\n",
        "\n",
        "def normalize_acronyms(text):\n",
        "    words = []\n",
        "    for word in text.strip().split():\n",
        "      if word.lower() in replace_list.keys(): words.append(replace_list[word.lower()])\n",
        "      elif not emoji.is_emoji(word): words.append(word)\n",
        "\n",
        "    return ' '.join(words)"
      ]
    },
    {
      "cell_type": "code",
      "execution_count": null,
      "metadata": {
        "execution": {
          "iopub.execute_input": "2023-08-31T15:10:27.779573Z",
          "iopub.status.busy": "2023-08-31T15:10:27.778963Z",
          "iopub.status.idle": "2023-08-31T15:10:27.790103Z",
          "shell.execute_reply": "2023-08-31T15:10:27.789132Z",
          "shell.execute_reply.started": "2023-08-31T15:10:27.779540Z"
        },
        "id": "nJBD2ZwvpRsz",
        "trusted": true
      },
      "outputs": [],
      "source": [
        "import py_vncorenlp\n",
        "os.makedirs('vncorenlp', exist_ok=True)\n",
        "py_vncorenlp.download_model(save_dir='/content/vncorenlp')\n",
        "rdrsegmenter = py_vncorenlp.VnCoreNLP(annotators=[\"wseg\"], save_dir='/content/vncorenlp')\n",
        "\n",
        "# Word segmentation & Tokenize\n",
        "def word_segmentation(text):\n",
        "  return rdrsegmenter.word_segment(text)"
      ]
    },
    {
      "cell_type": "code",
      "execution_count": null,
      "metadata": {
        "execution": {
          "iopub.execute_input": "2023-08-31T15:10:27.792052Z",
          "iopub.status.busy": "2023-08-31T15:10:27.791532Z",
          "iopub.status.idle": "2023-08-31T15:10:27.800194Z",
          "shell.execute_reply": "2023-08-31T15:10:27.799295Z",
          "shell.execute_reply.started": "2023-08-31T15:10:27.792018Z"
        },
        "id": "pnpklFMf1G2D",
        "trusted": true
      },
      "outputs": [],
      "source": [
        "def text_preprocess(text):\n",
        "    text = remove_HTML(text)\n",
        "    text = convert_unicode(text)\n",
        "    text = standardize_sentence_typing(text)\n",
        "    text = normalize_acronyms(text)\n",
        "    text = re.sub(r'[^\\s\\wáàảãạăắằẳẵặâấầẩẫậéèẻẽẹêếềểễệóòỏõọôốồổỗộơớờởỡợíìỉĩịúùủũụưứừửữựýỳỷỹỵđ_]',' ', text) # Remove unnecessary character\n",
        "    text = re.sub(r'\\s+', ' ', text).strip() # Remove spacing > 1\n",
        "    text = word_segmentation(text) # required for PhoBERT\n",
        "    text = ' '.join(text) # return 1 string\n",
        "\n",
        "    return text"
      ]
    },
    {
      "cell_type": "code",
      "execution_count": null,
      "metadata": {
        "execution": {
          "iopub.execute_input": "2023-08-31T15:10:27.802232Z",
          "iopub.status.busy": "2023-08-31T15:10:27.801631Z",
          "iopub.status.idle": "2023-08-31T15:10:28.155798Z",
          "shell.execute_reply": "2023-08-31T15:10:28.154654Z",
          "shell.execute_reply.started": "2023-08-31T15:10:27.802200Z"
        },
        "id": "kid5LpRGW3VS",
        "trusted": true,
        "colab": {
          "base_uri": "https://localhost:8080/"
        },
        "outputId": "22dacabd-64dc-4e15-b4b1-2318338ca588"
      },
      "outputs": [
        {
          "output_type": "stream",
          "name": "stdout",
          "text": [
            "4106. Before: per làm ở đâu không quan trọng , quan trọng là vẫn buôn chuyện đều 😂😂😂\n",
            "4106. After: per làm ở đâu không quan_trọng quan_trọng là vẫn buôn chuyện đều\n",
            "\n",
            "2247. Before: thế này lại thành xây nhà cho nhà hàng xóm rồi 😰\n",
            "2247. After: thế_này lại thành xây nhà cho nhà hàng_xóm rồi\n",
            "\n",
            "4703. Before: có bài hát \" cuộc đời vẫn đẹp sao , tình yêu vẫn đẹp sao \"\n",
            "4703. After: có bài hát cuộc_đời vẫn đẹp sao tình_yêu vẫn đẹp sao\n",
            "\n",
            "1488. Before: mua thuốc ngoài thú y sức vào vài ngày nó không bám nữa\n",
            "1488. After: mua thuốc ngoài thú_y sức vào vài ngày nó không bám nữa\n",
            "\n",
            "3081. Before: per cho vợ đi cầu này để giảm cân nhá 🤣🤣\n",
            "3081. After: per cho vợ đi_cầu này để giảm cân nhá\n",
            "\n"
          ]
        }
      ],
      "source": [
        "# Test function text_preprocess\n",
        "rand_idx = np.random.randint(len(train_df), size=5)\n",
        "for i in range(5):\n",
        "  print(f\"{rand_idx[i]}. Before: {train_df.iloc[rand_idx[i], 1]}\")\n",
        "  print(f\"{rand_idx[i]}. After: {text_preprocess(train_df.iloc[rand_idx[i], 1])}\")\n",
        "  print(\"\")"
      ]
    },
    {
      "cell_type": "markdown",
      "metadata": {
        "id": "aW24Lj4RP4vF"
      },
      "source": [
        "# Model"
      ]
    },
    {
      "cell_type": "code",
      "source": [
        "from sklearn.metrics import classification_report, confusion_matrix, accuracy_score, f1_score\n",
        "\n",
        "import torch\n",
        "import torch.nn as nn\n",
        "from torch import optim\n",
        "from torch.utils.data import Dataset, DataLoader\n",
        "from transformers import AutoTokenizer, AutoModel\n",
        "\n",
        "from torchinfo import summary"
      ],
      "metadata": {
        "id": "ypxElsOUNqW4"
      },
      "execution_count": null,
      "outputs": []
    },
    {
      "cell_type": "code",
      "execution_count": null,
      "metadata": {
        "execution": {
          "iopub.execute_input": "2023-08-31T15:10:20.581253Z",
          "iopub.status.busy": "2023-08-31T15:10:20.580203Z",
          "iopub.status.idle": "2023-08-31T15:10:20.592650Z",
          "shell.execute_reply": "2023-08-31T15:10:20.591727Z",
          "shell.execute_reply.started": "2023-08-31T15:10:20.581218Z"
        },
        "trusted": true,
        "id": "y0M-EoFeR4DO"
      },
      "outputs": [],
      "source": [
        "def seed_everything(seed_value):\n",
        "    np.random.seed(seed_value)\n",
        "    torch.manual_seed(seed_value)\n",
        "\n",
        "    if torch.cuda.is_available():\n",
        "        torch.cuda.manual_seed(seed_value)\n",
        "        torch.cuda.manual_seed_all(seed_value)\n",
        "        torch.backends.cudnn.deterministic = True\n",
        "        torch.backends.cudnn.benchmark = True\n",
        "\n",
        "seed_everything(42)"
      ]
    },
    {
      "cell_type": "code",
      "source": [
        "config = {\n",
        "    'DEVICE': torch.device(\"cuda\" if torch.cuda.is_available() else \"cpu\"),\n",
        "    'MODEL_NAME': 'PhoBERT-Sentiment',\n",
        "    'PRETRAINED_NAME': 'vinai/phobert-base-v2',\n",
        "    'NUM_CLASSES': 7,\n",
        "    'DROPOUT': 0.5,\n",
        "\n",
        "    'TRAINING': {\n",
        "        'N_EPOCHS': 20,\n",
        "        'INIT_LR': 1e-5,\n",
        "        'WEIGHT_DECAY': 1e-2,\n",
        "        'BATCH_SIZE': 8,\n",
        "        'WORKERS': 0,\n",
        "        'METRIC_SAVE_BEST': 'f1_score',\n",
        "        'PATIENCE': 3\n",
        "    },\n",
        "\n",
        "    'TOKENIZER': {\n",
        "      'PADDING': 'max_length',\n",
        "      'MAX_INPUT_LENGTH': 200,\n",
        "      'TRUNCATION': True,\n",
        "      'RETURN_ATTENTION_MASK': True,\n",
        "      'ADD_SPECIAL_TOKENS': True,\n",
        "    },\n",
        "}\n",
        "\n",
        "label2id = {\n",
        "  'Anger': 0,\n",
        "  'Disgust': 1,\n",
        "  'Enjoyment': 2,\n",
        "  'Fear': 3,\n",
        "  'Other': 4,\n",
        "  'Sadness': 5,\n",
        "  'Surprise': 6,\n",
        "}\n",
        "\n",
        "id2label = {\n",
        "  0:'Anger',\n",
        "  1:'Disgust',\n",
        "  2:'Enjoyment',\n",
        "  3:'Fear',\n",
        "  4:'Other',\n",
        "  5:'Sadness',\n",
        "  6:'Surprise',\n",
        "}"
      ],
      "metadata": {
        "id": "ERY-f-_G5Iaw"
      },
      "execution_count": null,
      "outputs": []
    },
    {
      "cell_type": "code",
      "execution_count": null,
      "metadata": {
        "execution": {
          "iopub.execute_input": "2023-08-31T15:10:28.158444Z",
          "iopub.status.busy": "2023-08-31T15:10:28.157337Z",
          "iopub.status.idle": "2023-08-31T15:10:28.170882Z",
          "shell.execute_reply": "2023-08-31T15:10:28.169907Z",
          "shell.execute_reply.started": "2023-08-31T15:10:28.158407Z"
        },
        "id": "beF6BEO1j9mG",
        "trusted": true
      },
      "outputs": [],
      "source": [
        "class SentimentDataset(Dataset):\n",
        "    def __init__(self, df, tokenizer, config):\n",
        "        self.df = df\n",
        "        self.tokenizer = tokenizer\n",
        "        self.config = config\n",
        "\n",
        "    def __len__(self):\n",
        "        return len(self.df)\n",
        "\n",
        "    def __getitem__(self, index):\n",
        "        \"\"\"\n",
        "        To customize dataset, inherit from Dataset class and implement\n",
        "        __len__ & __getitem__\n",
        "        __getitem__ should return\n",
        "            data:\n",
        "                input_ids\n",
        "                attention_masks\n",
        "                text\n",
        "                targets\n",
        "        \"\"\"\n",
        "        row = self.df.iloc[index]\n",
        "        text, label = self.get_input_data(row)\n",
        "\n",
        "        # Encode_plus will:\n",
        "        # (1) split text into token\n",
        "        # (2) Add the '[CLS]' and '[SEP]' token to the start and end\n",
        "        # (3) Truncate/Pad sentence to max length\n",
        "        # (4) Map token to their IDS\n",
        "        # (5) Create attention mask\n",
        "        # (6) Return a dictionary of outputs\n",
        "        encoding = self.tokenizer.encode_plus(\n",
        "            text,\n",
        "            truncation=self.config['TRUNCATION'],\n",
        "            add_special_tokens=self.config['ADD_SPECIAL_TOKENS'],\n",
        "            max_length=self.config['MAX_INPUT_LENGTH'],\n",
        "            padding=self.config['PADDING'],\n",
        "            return_attention_mask=self.config['RETURN_ATTENTION_MASK'],\n",
        "            return_tensors='pt',\n",
        "        )\n",
        "\n",
        "        return {\n",
        "            'text': text,\n",
        "            'input_ids': encoding['input_ids'].flatten(),\n",
        "            'attention_masks': encoding['attention_mask'].flatten(),\n",
        "            'targets': torch.tensor(label, dtype=torch.long),\n",
        "        }\n",
        "\n",
        "    def get_input_data(self, row):\n",
        "        text = row['Sentence']\n",
        "        text = text_preprocess(text)\n",
        "        label = label2id[row['Emotion']]\n",
        "\n",
        "        return text, label"
      ]
    },
    {
      "cell_type": "code",
      "source": [
        "class ImbalancedDatasetSampler(torch.utils.data.sampler.Sampler):\n",
        "    \"\"\"Samples elements randomly from a given list of indices for imbalanced dataset\n",
        "    Arguments:\n",
        "        indices (list, optional): a list of indices\n",
        "        num_samples (int, optional): number of samples to draw\n",
        "        callback_get_label func: a callback-like function which takes two arguments - dataset and index\n",
        "    \"\"\"\n",
        "\n",
        "    def __init__(self, dataset, indices=None, num_samples=None, callback_get_label=None):\n",
        "\n",
        "        # if indices is not provided,\n",
        "        # all elements in the dataset will be considered\n",
        "        self.indices = list(range(len(dataset))) \\\n",
        "            if indices is None else indices\n",
        "\n",
        "        # define custom callback\n",
        "        self.callback_get_label = callback_get_label\n",
        "\n",
        "        # if num_samples is not provided,\n",
        "        # draw `len(indices)` samples in each iteration\n",
        "        self.num_samples = len(self.indices) \\\n",
        "            if num_samples is None else num_samples\n",
        "\n",
        "        # distribution of classes in the dataset\n",
        "        label_to_count = {}\n",
        "        for idx in self.indices:\n",
        "            label = self._get_label(dataset, idx)\n",
        "            if label in label_to_count:\n",
        "                label_to_count[label] += 1\n",
        "            else:\n",
        "                label_to_count[label] = 1\n",
        "\n",
        "        # weight for each sample\n",
        "        weights = [1.0 / label_to_count[self._get_label(dataset, idx)]\n",
        "                   for idx in self.indices]\n",
        "        self.weights = torch.DoubleTensor(weights)\n",
        "\n",
        "    def _get_label(self, dataset, idx):\n",
        "        row = dataset.df.iloc[idx]\n",
        "        return label2id[row['Emotion']]\n",
        "\n",
        "    def __iter__(self):\n",
        "        return (self.indices[i] for i in torch.multinomial(\n",
        "            self.weights, self.num_samples, replacement=True))\n",
        "\n",
        "    def __len__(self):\n",
        "        return self.num_samples"
      ],
      "metadata": {
        "id": "S7YjDsRrlMTm"
      },
      "execution_count": null,
      "outputs": []
    },
    {
      "cell_type": "code",
      "execution_count": null,
      "metadata": {
        "execution": {
          "iopub.execute_input": "2023-08-31T15:10:28.172822Z",
          "iopub.status.busy": "2023-08-31T15:10:28.172446Z",
          "iopub.status.idle": "2023-08-31T15:10:28.185878Z",
          "shell.execute_reply": "2023-08-31T15:10:28.184965Z",
          "shell.execute_reply.started": "2023-08-31T15:10:28.172790Z"
        },
        "id": "cTS6tQ8344OM",
        "trusted": true
      },
      "outputs": [],
      "source": [
        "class SentimentClassifier(nn.Module):\n",
        "    def __init__(self, config):\n",
        "        super(SentimentClassifier, self).__init__()\n",
        "        self.basemodel = AutoModel.from_pretrained(config['PRETRAINED_NAME'])\n",
        "        self.drop1 = nn.Dropout(p=config['DROPOUT'])\n",
        "        self.fc1 = nn.Linear(self.basemodel.config.hidden_size, 256)\n",
        "        self.drop2 = nn.Dropout(p=config['DROPOUT'])\n",
        "        self.fc2 = nn.Linear(256, config['NUM_CLASSES'])\n",
        "\n",
        "    def forward(self, input_ids, attention_mask):\n",
        "        last_hidden_state, output = self.basemodel(\n",
        "            input_ids=input_ids,\n",
        "            attention_mask=attention_mask,\n",
        "            return_dict=False\n",
        "        )\n",
        "\n",
        "        x = self.drop1(output)\n",
        "        x = self.fc1(x)\n",
        "        x = self.drop2(x)\n",
        "        x = self.fc2(x)\n",
        "        return x"
      ]
    },
    {
      "cell_type": "code",
      "source": [
        "class Task():\n",
        "  def __init__(self, config):\n",
        "    self.config = config\n",
        "    self.save_path = os.path.join('/content/drive/MyDrive',config['MODEL_NAME'])\n",
        "    self.device = config['DEVICE']\n",
        "\n",
        "    self.num_epochs = config['TRAINING']['N_EPOCHS']\n",
        "    self.patience = config['TRAINING']['PATIENCE']\n",
        "    self.best_metric= config['TRAINING']['METRIC_SAVE_BEST']\n",
        "    self.learning_rate = config['TRAINING']['INIT_LR']\n",
        "    self.weight_decay = config['TRAINING']['WEIGHT_DECAY']\n",
        "    self.batch_size = config['TRAINING']['BATCH_SIZE']\n",
        "    self.num_workers = config['TRAINING']['WORKERS']\n",
        "\n",
        "    self.tokenizer = AutoTokenizer.from_pretrained(config['PRETRAINED_NAME'])\n",
        "    self.model = SentimentClassifier(config).to(self.device)\n",
        "\n",
        "    # Create Dataloader\n",
        "    trainDataset = SentimentDataset(train_df, self.tokenizer, config['TOKENIZER'])\n",
        "    validDataset = SentimentDataset(valid_df, self.tokenizer, config['TOKENIZER'])\n",
        "    testDataset = SentimentDataset(test_df, self.tokenizer, config['TOKENIZER'])\n",
        "    self.train_loader = DataLoader(trainDataset, batch_size=self.batch_size, num_workers=self.num_workers, sampler=ImbalancedDatasetSampler(trainDataset))\n",
        "    self.valid_loader = DataLoader(validDataset, batch_size=self.batch_size, num_workers=self.num_workers, shuffle=False)\n",
        "    self.test_loader = DataLoader(testDataset, batch_size=self.batch_size, num_workers=self.num_workers, shuffle=False)\n",
        "\n",
        "    # Create optimizer & scheduler\n",
        "    self.optimizer = optim.AdamW(self.model.parameters(), lr=self.learning_rate, weight_decay=self.weight_decay)\n",
        "    #self.scheduler = optim.lr_scheduler.OneCycleLR(self.optimizer, max_lr=self.learning_rate*5, steps_per_epoch=len(self.train_loader), epochs=self.num_epochs)\n",
        "    self.scheduler = optim.lr_scheduler.ReduceLROnPlateau(self.optimizer, mode='min', factor=0.1, patience=1, threshold=0.001, threshold_mode='abs')\n",
        "    # Create criterion\n",
        "    self.criterion = nn.CrossEntropyLoss()\n",
        "\n",
        "  def print_summary(self):\n",
        "    sample = next(iter(self.train_loader))\n",
        "    input_ids = sample['input_ids'].to(self.device)\n",
        "    attention_masks = sample['attention_masks'].to(self.device)\n",
        "    print(summary(self.model, input_data=[input_ids, attention_masks], dtypes=[torch.int64]))\n",
        "\n",
        "  def training(self):\n",
        "    if not os.path.exists(self.save_path):\n",
        "      os.makedirs(self.save_path)\n",
        "\n",
        "    if os.path.exists(os.path.join(self.save_path, 'last_model.pth')):\n",
        "      checkpoint = torch.load(os.path.join(self.save_path, 'last_model.pth'))\n",
        "      self.model.load_state_dict(checkpoint['model_state_dict'])\n",
        "      self.optimizer.load_state_dict(checkpoint['optimizer_state_dict'])\n",
        "      initial_epoch = checkpoint['epoch'] + 1\n",
        "      print(f\"Continue training from epoch {initial_epoch}\")\n",
        "    else:\n",
        "      initial_epoch = 0\n",
        "      print(\"First time training!!!\")\n",
        "\n",
        "    if os.path.exists(os.path.join(self.save_path, 'best_model.pth')):\n",
        "        checkpoint = torch.load(os.path.join(self.save_path, 'best_model.pth'))\n",
        "        best_score = checkpoint['score']\n",
        "        print(f\"Current best score: {best_score}\")\n",
        "    else:\n",
        "        best_score = 0.\n",
        "\n",
        "    threshold = 0\n",
        "    self.model.train()\n",
        "    for epoch in range(initial_epoch, self.num_epochs + initial_epoch):\n",
        "      # Train\n",
        "      correct = 0\n",
        "      all_preds = []\n",
        "      all_targets = []\n",
        "      train_loss = 0.\n",
        "      with tqdm(desc=f'Epoch {epoch + 1:2d} - Training  ', unit='it', total=len(self.train_loader)) as pbar:\n",
        "        for it, data in enumerate(self.train_loader):\n",
        "          input_ids = data['input_ids'].to(self.device)\n",
        "          attention_masks = data['attention_masks'].to(self.device)\n",
        "          targets = data['targets'].to(self.device)\n",
        "          self.optimizer.zero_grad()\n",
        "          outputs = self.model(input_ids, attention_masks)\n",
        "          loss = self.criterion(outputs, targets)\n",
        "          _, pred = torch.max(outputs, dim=1)\n",
        "          correct += torch.sum(pred == targets)\n",
        "          train_loss += loss\n",
        "          loss.backward()\n",
        "          self.optimizer.step()\n",
        "\n",
        "          cur_loss = train_loss.detach().cpu().numpy() / (it + 1)\n",
        "          all_preds.extend(pred.cpu().numpy())\n",
        "          all_targets.extend(targets.cpu().numpy())\n",
        "          pbar.set_postfix({'loss': f\"{cur_loss:.4f}\", 'lr':self.optimizer.param_groups[0]['lr']})\n",
        "          pbar.update()\n",
        "\n",
        "      train_loss /= len(self.train_loader)\n",
        "      acc_train = correct.double() / len(self.train_loader.dataset)\n",
        "      f1_train = f1_score(all_targets, all_preds, average='weighted')\n",
        "\n",
        "      # Valid\n",
        "      correct = 0\n",
        "      all_preds = []\n",
        "      all_targets = []\n",
        "      valid_loss = 0.\n",
        "      self.model.eval()\n",
        "      with tqdm(desc=f'Epoch {epoch + 1:2d} - Evaluation', unit='it', total=len(self.valid_loader)) as pbar:\n",
        "        for it, data in enumerate(self.valid_loader):\n",
        "          input_ids = data['input_ids'].to(self.device)\n",
        "          attention_masks = data['attention_masks'].to(self.device)\n",
        "          targets = data['targets'].to(self.device)\n",
        "          with torch.no_grad():\n",
        "            outputs = self.model(input_ids, attention_masks)\n",
        "          loss = self.criterion(outputs, targets)\n",
        "          _, pred = torch.max(outputs, dim=1)\n",
        "\n",
        "          correct += torch.sum(pred == targets)\n",
        "          valid_loss += loss\n",
        "          all_preds.extend(pred.cpu().numpy())\n",
        "          all_targets.extend(targets.cpu().numpy())\n",
        "          pbar.update()\n",
        "\n",
        "      valid_loss /= len(self.valid_loader)\n",
        "      acc_valid = correct.double() / len(self.valid_loader.dataset)\n",
        "      f1_valid = f1_score(all_targets, all_preds, average='weighted')\n",
        "      content = f\"Epoch {epoch + 1:2d} - Train loss: {train_loss:.4f} - acc: {acc_train:.4f} - f1: {f1_train:.4f} - Valid loss: {valid_loss:.4f} - val_acc: {acc_valid:.4f} - val_f1: {f1_valid:.4f} - lr: {self.optimizer.param_groups[0]['lr']:1.2e}\\n\"\n",
        "      self.scheduler.step(valid_loss)\n",
        "      print(content)\n",
        "      with open(os.path.join(self.save_path, 'log.txt'), 'a') as file:\n",
        "        file.write(content)\n",
        "\n",
        "      if self.best_metric ==\"f1_score\":\n",
        "        score = f1_valid\n",
        "      else:\n",
        "        score = acc_valid\n",
        "\n",
        "      # Save the last model\n",
        "      torch.save({\n",
        "          'epoch': epoch,\n",
        "          'model_state_dict': self.model.state_dict(),\n",
        "          'optimizer_state_dict': self.optimizer.state_dict(),\n",
        "          'score': score}, os.path.join(self.save_path, 'last_model.pth'))\n",
        "\n",
        "      if epoch > 0 and score <= best_score:\n",
        "        threshold += 1\n",
        "      else:\n",
        "        threshold = 0\n",
        "\n",
        "      # Save the best model\n",
        "      if score > best_score:\n",
        "        best_score = score\n",
        "        shutil.copyfile(os.path.join(self.save_path, 'last_model.pth'), os.path.join(self.save_path, 'best_model.pth'))\n",
        "\n",
        "      # early stopping\n",
        "      if threshold >= self.patience:\n",
        "          print(f\"Early stopping after epoch {epoch + 1}\")\n",
        "          break\n",
        "\n",
        "\n",
        "  def get_predict(self):\n",
        "    # Load the model\n",
        "    print(\"Loadding best model...\")\n",
        "    if os.path.exists(os.path.join(self.save_path, 'best_model.pth')):\n",
        "      checkpoint = torch.load(os.path.join(self.save_path, 'best_model.pth'))\n",
        "      self.model.load_state_dict(checkpoint['model_state_dict'])\n",
        "      self.model.eval()\n",
        "    else:\n",
        "      print(\"Prediction require the model must be trained. There is no weights to load for model prediction!\")\n",
        "      raise FileNotFoundError(\"Make sure your checkpoint path is correct or the best_model.pth is available in your checkpoint path\")\n",
        "    clean_texts = []\n",
        "    predicts = []\n",
        "    targets = []\n",
        "\n",
        "    with tqdm(desc='Predicting', unit='it', total=len(self.test_loader)) as pbar:\n",
        "      for it, data in enumerate(self.test_loader):\n",
        "        text = data['text']\n",
        "        input_ids = data['input_ids'].to(self.device)\n",
        "        attention_masks = data['attention_masks'].to(self.device)\n",
        "        data_targets = data['targets'].to(self.device)\n",
        "\n",
        "        with torch.no_grad():\n",
        "          outputs = self.model(input_ids, attention_masks)\n",
        "\n",
        "        _, pred = torch.max(outputs, dim=1)\n",
        "        clean_texts.extend(text)\n",
        "        predicts.extend(pred)\n",
        "        targets.extend(data_targets)\n",
        "        pbar.update()\n",
        "\n",
        "    predicts = torch.stack(predicts).cpu().tolist()\n",
        "    targets = torch.stack(targets).cpu()\n",
        "\n",
        "    result_df = test_df.copy()\n",
        "    result_df['clean_text'] = clean_texts\n",
        "    result_df['predicts'] = [ id2label[p] for p in predicts ]\n",
        "\n",
        "    result_df.to_excel(os.path.join(self.save_path, 'test_result.xlsx'), sheet_name='Result', index=False)\n",
        "    print(f\"Save test result to: {os.path.join(self.save_path, 'test_result.xlsx')}\")\n",
        "\n",
        "    return targets, predicts\n"
      ],
      "metadata": {
        "id": "rdur6-YRX3A4"
      },
      "execution_count": null,
      "outputs": []
    },
    {
      "cell_type": "code",
      "source": [
        "task = Task(config)"
      ],
      "metadata": {
        "colab": {
          "base_uri": "https://localhost:8080/",
          "height": 316,
          "referenced_widgets": [
            "edf5e0aabf0d44d2b75ab7fe49360be0",
            "dc9bef66383e4fb98fc46d9b83b34263",
            "7a69e3f435594a74944afee8553be942",
            "36c3d5e183a64403b5a67be06729b57f",
            "87f9d5c42b6a4ea7ad6d59f5ca72e813",
            "1999f7fc19a84c58a9085ac6ce925638",
            "1a314dfe30474e6688fca92ac3130fed",
            "a98cb9b1f8ba43b0af8e4173ddcbcbf7",
            "a08342510ea2456d973d11d0f711ed7d",
            "a06ef065ca3146eab401fec02ffff866",
            "33fda08ab6ab43b1a3bb28faef3a17a8",
            "e3027cc5a77d44beb62c4f3cafd9e963",
            "769cf904787f478a9101acb9f7460235",
            "89120a072ee34859a7b1f2d3ba4c34c5",
            "7aa6af87ae5c4dca9c2ee40f59dc927c",
            "f13927255f8a40ac8c85b7fd28c7b4a4",
            "2f463ff25c4b4494828b6d0a4db261a8",
            "0a7f39cd1c1840de8b67349c09eb198b",
            "15c69d09160b4e83947df54e37e9cd75",
            "c57d8eabd2804d54ba57c285b3f64eae",
            "8b22fb2c68e542fca1b91ffd74de774e",
            "b42409a4431d4fbe8aeb50a10293f453",
            "2189c99f7ac241a9bdb852efb9b76d03",
            "1809292974d4424d9f6965c45b645b32",
            "b1e1cd41446f4a54a736f7f0de67ff1c",
            "b9a1055e854b4e14a921f83fc75b2514",
            "257405d0e0cf429baf4563fb91b26a67",
            "f116d0bfc3e84badb056b4d9e43e5e53",
            "3f00e015d9b1480a9cf36ae4a1cf6299",
            "1ad044d312d448a8b882984e614643a8",
            "df1faeb1f533431693f80221f3b6bb35",
            "9b3ce09995da498da292e8dd2e719d2b",
            "bc064ae221114b04a0650139f83d0384",
            "53097fdfa6444339850aedfab4ff1b81",
            "02cd2b9fde45444a9383e3eb61126f98",
            "f46f037437db47c38de4052dac687131",
            "f5d680b4a2ed406ba562aac7355da559",
            "fd669f2a44c84e01bef69d6d3bb3b866",
            "478d1214504348c38a93268c39923b78",
            "562e47dcebf343999d6107898215c108",
            "1b003100f35944648c433b128415a66a",
            "e81a220f49874bfab740c4359f3f0b25",
            "4a9b73dc9f104598a8cb7fd0c5445a49",
            "8b98463abd024024b6f1eb5d50234355",
            "c126df580c884d72a558fdda7bc56784",
            "98609be1588d4c75a4efbfd243c7f684",
            "394e7d232ecf484f99306001c92ed0f7",
            "58acb261d0104a459c1c44b1cc463e7b",
            "0e74c3b0e10444498208d429bd25d0b9",
            "7d11a1aab0f74943aa2659ac079a03e0",
            "025044c85b17495dba6e781abae1420e",
            "d470c7cf9a0c4bb09eb7665e3cb5aa19",
            "b00f00131a3f458198cc0ffccc1398e8",
            "e9270637f6724e7aad7ea88ac920ac38",
            "00658f764d53433190a4de808c657d63"
          ]
        },
        "id": "a5mawxHqi4Lp",
        "outputId": "be4f2ffd-caea-426a-8b4a-b8b8ca72f88b"
      },
      "execution_count": null,
      "outputs": [
        {
          "output_type": "stream",
          "name": "stderr",
          "text": [
            "/usr/local/lib/python3.10/dist-packages/huggingface_hub/utils/_token.py:88: UserWarning: \n",
            "The secret `HF_TOKEN` does not exist in your Colab secrets.\n",
            "To authenticate with the Hugging Face Hub, create a token in your settings tab (https://huggingface.co/settings/tokens), set it as secret in your Google Colab and restart your session.\n",
            "You will be able to reuse this secret in all of your notebooks.\n",
            "Please note that authentication is recommended but still optional to access public models or datasets.\n",
            "  warnings.warn(\n"
          ]
        },
        {
          "output_type": "display_data",
          "data": {
            "text/plain": [
              "config.json:   0%|          | 0.00/678 [00:00<?, ?B/s]"
            ],
            "application/vnd.jupyter.widget-view+json": {
              "version_major": 2,
              "version_minor": 0,
              "model_id": "edf5e0aabf0d44d2b75ab7fe49360be0"
            }
          },
          "metadata": {}
        },
        {
          "output_type": "display_data",
          "data": {
            "text/plain": [
              "vocab.txt:   0%|          | 0.00/895k [00:00<?, ?B/s]"
            ],
            "application/vnd.jupyter.widget-view+json": {
              "version_major": 2,
              "version_minor": 0,
              "model_id": "e3027cc5a77d44beb62c4f3cafd9e963"
            }
          },
          "metadata": {}
        },
        {
          "output_type": "display_data",
          "data": {
            "text/plain": [
              "bpe.codes:   0%|          | 0.00/1.14M [00:00<?, ?B/s]"
            ],
            "application/vnd.jupyter.widget-view+json": {
              "version_major": 2,
              "version_minor": 0,
              "model_id": "2189c99f7ac241a9bdb852efb9b76d03"
            }
          },
          "metadata": {}
        },
        {
          "output_type": "display_data",
          "data": {
            "text/plain": [
              "tokenizer.json:   0%|          | 0.00/3.13M [00:00<?, ?B/s]"
            ],
            "application/vnd.jupyter.widget-view+json": {
              "version_major": 2,
              "version_minor": 0,
              "model_id": "53097fdfa6444339850aedfab4ff1b81"
            }
          },
          "metadata": {}
        },
        {
          "output_type": "display_data",
          "data": {
            "text/plain": [
              "pytorch_model.bin:   0%|          | 0.00/540M [00:00<?, ?B/s]"
            ],
            "application/vnd.jupyter.widget-view+json": {
              "version_major": 2,
              "version_minor": 0,
              "model_id": "c126df580c884d72a558fdda7bc56784"
            }
          },
          "metadata": {}
        },
        {
          "output_type": "stream",
          "name": "stderr",
          "text": [
            "Some weights of RobertaModel were not initialized from the model checkpoint at vinai/phobert-base-v2 and are newly initialized: ['roberta.pooler.dense.bias', 'roberta.pooler.dense.weight']\n",
            "You should probably TRAIN this model on a down-stream task to be able to use it for predictions and inference.\n"
          ]
        }
      ]
    },
    {
      "cell_type": "code",
      "source": [
        "task.print_summary()"
      ],
      "metadata": {
        "colab": {
          "base_uri": "https://localhost:8080/"
        },
        "id": "IUXxlRT8gPGA",
        "outputId": "20469fcb-387b-4df8-a4cf-1ef04bda83f9"
      },
      "execution_count": null,
      "outputs": [
        {
          "output_type": "stream",
          "name": "stdout",
          "text": [
            "==============================================================================================================\n",
            "Layer (type:depth-idx)                                       Output Shape              Param #\n",
            "==============================================================================================================\n",
            "SentimentClassifier                                          [8, 7]                    --\n",
            "├─RobertaModel: 1-1                                          [8, 200, 768]             --\n",
            "│    └─RobertaEmbeddings: 2-1                                [8, 200, 768]             --\n",
            "│    │    └─Embedding: 3-1                                   [8, 200, 768]             49,152,768\n",
            "│    │    └─Embedding: 3-2                                   [8, 200, 768]             768\n",
            "│    │    └─Embedding: 3-3                                   [8, 200, 768]             198,144\n",
            "│    │    └─LayerNorm: 3-4                                   [8, 200, 768]             1,536\n",
            "│    │    └─Dropout: 3-5                                     [8, 200, 768]             --\n",
            "│    └─RobertaEncoder: 2-2                                   [8, 200, 768]             --\n",
            "│    │    └─ModuleList: 3-6                                  --                        85,054,464\n",
            "│    └─RobertaPooler: 2-3                                    [8, 768]                  --\n",
            "│    │    └─Linear: 3-7                                      [8, 768]                  590,592\n",
            "│    │    └─Tanh: 3-8                                        [8, 768]                  --\n",
            "├─Dropout: 1-2                                               [8, 768]                  --\n",
            "├─Linear: 1-3                                                [8, 256]                  196,864\n",
            "├─Dropout: 1-4                                               [8, 256]                  --\n",
            "├─Linear: 1-5                                                [8, 7]                    1,799\n",
            "==============================================================================================================\n",
            "Total params: 135,196,935\n",
            "Trainable params: 135,196,935\n",
            "Non-trainable params: 0\n",
            "Total mult-adds (G): 1.08\n",
            "==============================================================================================================\n",
            "Input size (MB): 0.03\n",
            "Forward/backward pass size (MB): 1337.00\n",
            "Params size (MB): 540.79\n",
            "Estimated Total Size (MB): 1877.81\n",
            "==============================================================================================================\n"
          ]
        }
      ]
    },
    {
      "cell_type": "code",
      "source": [
        "task.training()"
      ],
      "metadata": {
        "colab": {
          "base_uri": "https://localhost:8080/"
        },
        "id": "TGOUkJXmyEnd",
        "outputId": "f554ce07-bcb8-4637-863d-278a5dc1b79e"
      },
      "execution_count": null,
      "outputs": [
        {
          "output_type": "stream",
          "name": "stdout",
          "text": [
            "Continue training from epoch 12\n",
            "Current best score: 0.6284379820315755\n"
          ]
        },
        {
          "output_type": "stream",
          "name": "stderr",
          "text": [
            "Epoch 13 - Training  : 100%|██████████| 694/694 [03:15<00:00,  3.55it/s, loss=0.3175, lr=1e-8]\n",
            "Epoch 13 - Evaluation: 100%|██████████| 86/86 [00:07<00:00, 11.69it/s]\n"
          ]
        },
        {
          "output_type": "stream",
          "name": "stdout",
          "text": [
            "Epoch 13 - Train loss: 0.3175 - acc: 0.9061 - f1: 0.9075 - Valid loss: 1.2549 - val_acc: 0.6239 - val_f1: 0.6229 - lr: 1.00e-08\n",
            "\n"
          ]
        },
        {
          "output_type": "stream",
          "name": "stderr",
          "text": [
            "Epoch 14 - Training  : 100%|██████████| 694/694 [03:10<00:00,  3.64it/s, loss=0.1068, lr=1e-8]\n",
            "Epoch 14 - Evaluation: 100%|██████████| 86/86 [00:07<00:00, 11.57it/s]\n"
          ]
        },
        {
          "output_type": "stream",
          "name": "stdout",
          "text": [
            "Epoch 14 - Train loss: 0.1068 - acc: 0.9778 - f1: 0.9778 - Valid loss: 1.2550 - val_acc: 0.6239 - val_f1: 0.6231 - lr: 1.00e-08\n",
            "\n"
          ]
        },
        {
          "output_type": "stream",
          "name": "stderr",
          "text": [
            "Epoch 15 - Training  : 100%|██████████| 694/694 [03:11<00:00,  3.62it/s, loss=0.0905, lr=1e-8]\n",
            "Epoch 15 - Evaluation: 100%|██████████| 86/86 [00:07<00:00, 11.44it/s]\n"
          ]
        },
        {
          "output_type": "stream",
          "name": "stdout",
          "text": [
            "Epoch 15 - Train loss: 0.0905 - acc: 0.9847 - f1: 0.9847 - Valid loss: 1.2551 - val_acc: 0.6254 - val_f1: 0.6244 - lr: 1.00e-08\n",
            "\n",
            "Early stopping after epoch 15\n"
          ]
        }
      ]
    },
    {
      "cell_type": "code",
      "source": [
        "targets, predicts = task.get_predict()"
      ],
      "metadata": {
        "id": "HIsugwhZ3GLG",
        "colab": {
          "base_uri": "https://localhost:8080/"
        },
        "outputId": "6bfd8e6e-aafe-4238-9d8a-62b899f81ead"
      },
      "execution_count": null,
      "outputs": [
        {
          "output_type": "stream",
          "name": "stdout",
          "text": [
            "Loadding best model...\n"
          ]
        },
        {
          "output_type": "stream",
          "name": "stderr",
          "text": [
            "Predicting: 100%|██████████| 87/87 [00:06<00:00, 12.92it/s]\n"
          ]
        },
        {
          "output_type": "stream",
          "name": "stdout",
          "text": [
            "Save test result to: /content/drive/MyDrive/PhoBERT-Sentiment/test_result.xlsx\n"
          ]
        }
      ]
    },
    {
      "cell_type": "code",
      "source": [
        "from sklearn.metrics import f1_score, accuracy_score\n",
        "print(f\"F1 score: {f1_score(targets, predicts, average='weighted'):.4f}\")\n",
        "print(f\"Accuracy: {accuracy_score(targets, predicts):.4f}\")"
      ],
      "metadata": {
        "id": "SXHf1E3jkgZa",
        "colab": {
          "base_uri": "https://localhost:8080/"
        },
        "outputId": "ac3eadea-04df-4c6c-deeb-08ff31f529ad"
      },
      "execution_count": null,
      "outputs": [
        {
          "output_type": "stream",
          "name": "stdout",
          "text": [
            "F1 score: 0.6396\n",
            "Accuracy: 0.6407\n"
          ]
        }
      ]
    },
    {
      "cell_type": "code",
      "source": [
        "print(\"\\nClassification Report\")\n",
        "class_names = ['Anger', 'Disgust', 'Enjoyment', 'Fear', 'Other', 'Sadness', 'Surprise']\n",
        "print(classification_report(targets, predicts, target_names=class_names))"
      ],
      "metadata": {
        "id": "07OIPjCI5Tcx",
        "colab": {
          "base_uri": "https://localhost:8080/"
        },
        "outputId": "7f8bd838-e1e7-4abf-ff57-03f95a5abde9"
      },
      "execution_count": null,
      "outputs": [
        {
          "output_type": "stream",
          "name": "stdout",
          "text": [
            "\n",
            "Classification Report\n",
            "              precision    recall  f1-score   support\n",
            "\n",
            "       Anger       0.56      0.35      0.43        40\n",
            "     Disgust       0.57      0.70      0.63       132\n",
            "   Enjoyment       0.72      0.71      0.72       193\n",
            "        Fear       0.67      0.72      0.69        46\n",
            "       Other       0.52      0.58      0.55       129\n",
            "     Sadness       0.75      0.66      0.71       116\n",
            "    Surprise       0.76      0.43      0.55        37\n",
            "\n",
            "    accuracy                           0.64       693\n",
            "   macro avg       0.65      0.59      0.61       693\n",
            "weighted avg       0.65      0.64      0.64       693\n",
            "\n"
          ]
        }
      ]
    },
    {
      "cell_type": "code",
      "source": [
        "sns.heatmap(confusion_matrix(targets, predicts), annot=True, fmt='d', cmap=\"Blues\", xticklabels = class_names, yticklabels = class_names);"
      ],
      "metadata": {
        "id": "0YyKsEh93Ssn",
        "colab": {
          "base_uri": "https://localhost:8080/",
          "height": 490
        },
        "outputId": "3a38379b-e3b8-41bd-a378-89c02851e202"
      },
      "execution_count": null,
      "outputs": [
        {
          "output_type": "display_data",
          "data": {
            "text/plain": [
              "<Figure size 640x480 with 2 Axes>"
            ],
            "image/png": "[encoded data removed]"
          },
          "metadata": {}
        }
      ]
    },
    {
      "cell_type": "code",
      "source": [
        "torch.save(task.model.state_dict(), os.path.join(task.save_path, 'sentiment-model.pth'))"
      ],
      "metadata": {
        "id": "GVF0MH1I3tfO"
      },
      "execution_count": null,
      "outputs": []
    },
    {
      "cell_type": "code",
      "source": [],
      "metadata": {
        "id": "uLB2s1a5-_jt"
      },
      "execution_count": null,
      "outputs": []
    }
  ],
  "metadata": {
    "accelerator": "GPU",
    "colab": {
      "gpuType": "T4",
      "provenance": [],
      "collapsed_sections": [
        "stdBfFFopRsu"
      ]
    },
    "kernelspec": {
      "display_name": "Python 3",
      "name": "python3"
    },
    "language_info": {
      "codemirror_mode": {
        "name": "ipython",
        "version": 3
      },
      "file_extension": ".py",
      "mimetype": "text/x-python",
      "name": "python",
      "nbconvert_exporter": "python",
      "pygments_lexer": "ipython3",
      "version": "3.10.12"
    },
    "widgets": {
      "application/vnd.jupyter.widget-state+json": {
        "edf5e0aabf0d44d2b75ab7fe49360be0": {
          "model_module": "@jupyter-widgets/controls",
          "model_name": "HBoxModel",
          "model_module_version": "1.5.0",
          "state": {
            "_dom_classes": [],
            "_model_module": "@jupyter-widgets/controls",
            "_model_module_version": "1.5.0",
            "_model_name": "HBoxModel",
            "_view_count": null,
            "_view_module": "@jupyter-widgets/controls",
            "_view_module_version": "1.5.0",
            "_view_name": "HBoxView",
            "box_style": "",
            "children": [
              "IPY_MODEL_dc9bef66383e4fb98fc46d9b83b34263",
              "IPY_MODEL_7a69e3f435594a74944afee8553be942",
              "IPY_MODEL_36c3d5e183a64403b5a67be06729b57f"
            ],
            "layout": "IPY_MODEL_87f9d5c42b6a4ea7ad6d59f5ca72e813"
          }
        },
        "dc9bef66383e4fb98fc46d9b83b34263": {
          "model_module": "@jupyter-widgets/controls",
          "model_name": "HTMLModel",
          "model_module_version": "1.5.0",
          "state": {
            "_dom_classes": [],
            "_model_module": "@jupyter-widgets/controls",
            "_model_module_version": "1.5.0",
            "_model_name": "HTMLModel",
            "_view_count": null,
            "_view_module": "@jupyter-widgets/controls",
            "_view_module_version": "1.5.0",
            "_view_name": "HTMLView",
            "description": "",
            "description_tooltip": null,
            "layout": "IPY_MODEL_1999f7fc19a84c58a9085ac6ce925638",
            "placeholder": "​",
            "style": "IPY_MODEL_1a314dfe30474e6688fca92ac3130fed",
            "value": "config.json: 100%"
          }
        },
        "7a69e3f435594a74944afee8553be942": {
          "model_module": "@jupyter-widgets/controls",
          "model_name": "FloatProgressModel",
          "model_module_version": "1.5.0",
          "state": {
            "_dom_classes": [],
            "_model_module": "@jupyter-widgets/controls",
            "_model_module_version": "1.5.0",
            "_model_name": "FloatProgressModel",
            "_view_count": null,
            "_view_module": "@jupyter-widgets/controls",
            "_view_module_version": "1.5.0",
            "_view_name": "ProgressView",
            "bar_style": "success",
            "description": "",
            "description_tooltip": null,
            "layout": "IPY_MODEL_a98cb9b1f8ba43b0af8e4173ddcbcbf7",
            "max": 678,
            "min": 0,
            "orientation": "horizontal",
            "style": "IPY_MODEL_a08342510ea2456d973d11d0f711ed7d",
            "value": 678
          }
        },
        "36c3d5e183a64403b5a67be06729b57f": {
          "model_module": "@jupyter-widgets/controls",
          "model_name": "HTMLModel",
          "model_module_version": "1.5.0",
          "state": {
            "_dom_classes": [],
            "_model_module": "@jupyter-widgets/controls",
            "_model_module_version": "1.5.0",
            "_model_name": "HTMLModel",
            "_view_count": null,
            "_view_module": "@jupyter-widgets/controls",
            "_view_module_version": "1.5.0",
            "_view_name": "HTMLView",
            "description": "",
            "description_tooltip": null,
            "layout": "IPY_MODEL_a06ef065ca3146eab401fec02ffff866",
            "placeholder": "​",
            "style": "IPY_MODEL_33fda08ab6ab43b1a3bb28faef3a17a8",
            "value": " 678/678 [00:00&lt;00:00, 21.2kB/s]"
          }
        },
        "87f9d5c42b6a4ea7ad6d59f5ca72e813": {
          "model_module": "@jupyter-widgets/base",
          "model_name": "LayoutModel",
          "model_module_version": "1.2.0",
          "state": {
            "_model_module": "@jupyter-widgets/base",
            "_model_module_version": "1.2.0",
            "_model_name": "LayoutModel",
            "_view_count": null,
            "_view_module": "@jupyter-widgets/base",
            "_view_module_version": "1.2.0",
            "_view_name": "LayoutView",
            "align_content": null,
            "align_items": null,
            "align_self": null,
            "border": null,
            "bottom": null,
            "display": null,
            "flex": null,
            "flex_flow": null,
            "grid_area": null,
            "grid_auto_columns": null,
            "grid_auto_flow": null,
            "grid_auto_rows": null,
            "grid_column": null,
            "grid_gap": null,
            "grid_row": null,
            "grid_template_areas": null,
            "grid_template_columns": null,
            "grid_template_rows": null,
            "height": null,
            "justify_content": null,
            "justify_items": null,
            "left": null,
            "margin": null,
            "max_height": null,
            "max_width": null,
            "min_height": null,
            "min_width": null,
            "object_fit": null,
            "object_position": null,
            "order": null,
            "overflow": null,
            "overflow_x": null,
            "overflow_y": null,
            "padding": null,
            "right": null,
            "top": null,
            "visibility": null,
            "width": null
          }
        },
        "1999f7fc19a84c58a9085ac6ce925638": {
          "model_module": "@jupyter-widgets/base",
          "model_name": "LayoutModel",
          "model_module_version": "1.2.0",
          "state": {
            "_model_module": "@jupyter-widgets/base",
            "_model_module_version": "1.2.0",
            "_model_name": "LayoutModel",
            "_view_count": null,
            "_view_module": "@jupyter-widgets/base",
            "_view_module_version": "1.2.0",
            "_view_name": "LayoutView",
            "align_content": null,
            "align_items": null,
            "align_self": null,
            "border": null,
            "bottom": null,
            "display": null,
            "flex": null,
            "flex_flow": null,
            "grid_area": null,
            "grid_auto_columns": null,
            "grid_auto_flow": null,
            "grid_auto_rows": null,
            "grid_column": null,
            "grid_gap": null,
            "grid_row": null,
            "grid_template_areas": null,
            "grid_template_columns": null,
            "grid_template_rows": null,
            "height": null,
            "justify_content": null,
            "justify_items": null,
            "left": null,
            "margin": null,
            "max_height": null,
            "max_width": null,
            "min_height": null,
            "min_width": null,
            "object_fit": null,
            "object_position": null,
            "order": null,
            "overflow": null,
            "overflow_x": null,
            "overflow_y": null,
            "padding": null,
            "right": null,
            "top": null,
            "visibility": null,
            "width": null
          }
        },
        "1a314dfe30474e6688fca92ac3130fed": {
          "model_module": "@jupyter-widgets/controls",
          "model_name": "DescriptionStyleModel",
          "model_module_version": "1.5.0",
          "state": {
            "_model_module": "@jupyter-widgets/controls",
            "_model_module_version": "1.5.0",
            "_model_name": "DescriptionStyleModel",
            "_view_count": null,
            "_view_module": "@jupyter-widgets/base",
            "_view_module_version": "1.2.0",
            "_view_name": "StyleView",
            "description_width": ""
          }
        },
        "a98cb9b1f8ba43b0af8e4173ddcbcbf7": {
          "model_module": "@jupyter-widgets/base",
          "model_name": "LayoutModel",
          "model_module_version": "1.2.0",
          "state": {
            "_model_module": "@jupyter-widgets/base",
            "_model_module_version": "1.2.0",
            "_model_name": "LayoutModel",
            "_view_count": null,
            "_view_module": "@jupyter-widgets/base",
            "_view_module_version": "1.2.0",
            "_view_name": "LayoutView",
            "align_content": null,
            "align_items": null,
            "align_self": null,
            "border": null,
            "bottom": null,
            "display": null,
            "flex": null,
            "flex_flow": null,
            "grid_area": null,
            "grid_auto_columns": null,
            "grid_auto_flow": null,
            "grid_auto_rows": null,
            "grid_column": null,
            "grid_gap": null,
            "grid_row": null,
            "grid_template_areas": null,
            "grid_template_columns": null,
            "grid_template_rows": null,
            "height": null,
            "justify_content": null,
            "justify_items": null,
            "left": null,
            "margin": null,
            "max_height": null,
            "max_width": null,
            "min_height": null,
            "min_width": null,
            "object_fit": null,
            "object_position": null,
            "order": null,
            "overflow": null,
            "overflow_x": null,
            "overflow_y": null,
            "padding": null,
            "right": null,
            "top": null,
            "visibility": null,
            "width": null
          }
        },
        "a08342510ea2456d973d11d0f711ed7d": {
          "model_module": "@jupyter-widgets/controls",
          "model_name": "ProgressStyleModel",
          "model_module_version": "1.5.0",
          "state": {
            "_model_module": "@jupyter-widgets/controls",
            "_model_module_version": "1.5.0",
            "_model_name": "ProgressStyleModel",
            "_view_count": null,
            "_view_module": "@jupyter-widgets/base",
            "_view_module_version": "1.2.0",
            "_view_name": "StyleView",
            "bar_color": null,
            "description_width": ""
          }
        },
        "a06ef065ca3146eab401fec02ffff866": {
          "model_module": "@jupyter-widgets/base",
          "model_name": "LayoutModel",
          "model_module_version": "1.2.0",
          "state": {
            "_model_module": "@jupyter-widgets/base",
            "_model_module_version": "1.2.0",
            "_model_name": "LayoutModel",
            "_view_count": null,
            "_view_module": "@jupyter-widgets/base",
            "_view_module_version": "1.2.0",
            "_view_name": "LayoutView",
            "align_content": null,
            "align_items": null,
            "align_self": null,
            "border": null,
            "bottom": null,
            "display": null,
            "flex": null,
            "flex_flow": null,
            "grid_area": null,
            "grid_auto_columns": null,
            "grid_auto_flow": null,
            "grid_auto_rows": null,
            "grid_column": null,
            "grid_gap": null,
            "grid_row": null,
            "grid_template_areas": null,
            "grid_template_columns": null,
            "grid_template_rows": null,
            "height": null,
            "justify_content": null,
            "justify_items": null,
            "left": null,
            "margin": null,
            "max_height": null,
            "max_width": null,
            "min_height": null,
            "min_width": null,
            "object_fit": null,
            "object_position": null,
            "order": null,
            "overflow": null,
            "overflow_x": null,
            "overflow_y": null,
            "padding": null,
            "right": null,
            "top": null,
            "visibility": null,
            "width": null
          }
        },
        "33fda08ab6ab43b1a3bb28faef3a17a8": {
          "model_module": "@jupyter-widgets/controls",
          "model_name": "DescriptionStyleModel",
          "model_module_version": "1.5.0",
          "state": {
            "_model_module": "@jupyter-widgets/controls",
            "_model_module_version": "1.5.0",
            "_model_name": "DescriptionStyleModel",
            "_view_count": null,
            "_view_module": "@jupyter-widgets/base",
            "_view_module_version": "1.2.0",
            "_view_name": "StyleView",
            "description_width": ""
          }
        },
        "e3027cc5a77d44beb62c4f3cafd9e963": {
          "model_module": "@jupyter-widgets/controls",
          "model_name": "HBoxModel",
          "model_module_version": "1.5.0",
          "state": {
            "_dom_classes": [],
            "_model_module": "@jupyter-widgets/controls",
            "_model_module_version": "1.5.0",
            "_model_name": "HBoxModel",
            "_view_count": null,
            "_view_module": "@jupyter-widgets/controls",
            "_view_module_version": "1.5.0",
            "_view_name": "HBoxView",
            "box_style": "",
            "children": [
              "IPY_MODEL_769cf904787f478a9101acb9f7460235",
              "IPY_MODEL_89120a072ee34859a7b1f2d3ba4c34c5",
              "IPY_MODEL_7aa6af87ae5c4dca9c2ee40f59dc927c"
            ],
            "layout": "IPY_MODEL_f13927255f8a40ac8c85b7fd28c7b4a4"
          }
        },
        "769cf904787f478a9101acb9f7460235": {
          "model_module": "@jupyter-widgets/controls",
          "model_name": "HTMLModel",
          "model_module_version": "1.5.0",
          "state": {
            "_dom_classes": [],
            "_model_module": "@jupyter-widgets/controls",
            "_model_module_version": "1.5.0",
            "_model_name": "HTMLModel",
            "_view_count": null,
            "_view_module": "@jupyter-widgets/controls",
            "_view_module_version": "1.5.0",
            "_view_name": "HTMLView",
            "description": "",
            "description_tooltip": null,
            "layout": "IPY_MODEL_2f463ff25c4b4494828b6d0a4db261a8",
            "placeholder": "​",
            "style": "IPY_MODEL_0a7f39cd1c1840de8b67349c09eb198b",
            "value": "vocab.txt: 100%"
          }
        },
        "89120a072ee34859a7b1f2d3ba4c34c5": {
          "model_module": "@jupyter-widgets/controls",
          "model_name": "FloatProgressModel",
          "model_module_version": "1.5.0",
          "state": {
            "_dom_classes": [],
            "_model_module": "@jupyter-widgets/controls",
            "_model_module_version": "1.5.0",
            "_model_name": "FloatProgressModel",
            "_view_count": null,
            "_view_module": "@jupyter-widgets/controls",
            "_view_module_version": "1.5.0",
            "_view_name": "ProgressView",
            "bar_style": "success",
            "description": "",
            "description_tooltip": null,
            "layout": "IPY_MODEL_15c69d09160b4e83947df54e37e9cd75",
            "max": 895321,
            "min": 0,
            "orientation": "horizontal",
            "style": "IPY_MODEL_c57d8eabd2804d54ba57c285b3f64eae",
            "value": 895321
          }
        },
        "7aa6af87ae5c4dca9c2ee40f59dc927c": {
          "model_module": "@jupyter-widgets/controls",
          "model_name": "HTMLModel",
          "model_module_version": "1.5.0",
          "state": {
            "_dom_classes": [],
            "_model_module": "@jupyter-widgets/controls",
            "_model_module_version": "1.5.0",
            "_model_name": "HTMLModel",
            "_view_count": null,
            "_view_module": "@jupyter-widgets/controls",
            "_view_module_version": "1.5.0",
            "_view_name": "HTMLView",
            "description": "",
            "description_tooltip": null,
            "layout": "IPY_MODEL_8b22fb2c68e542fca1b91ffd74de774e",
            "placeholder": "​",
            "style": "IPY_MODEL_b42409a4431d4fbe8aeb50a10293f453",
            "value": " 895k/895k [00:00&lt;00:00, 31.4MB/s]"
          }
        },
        "f13927255f8a40ac8c85b7fd28c7b4a4": {
          "model_module": "@jupyter-widgets/base",
          "model_name": "LayoutModel",
          "model_module_version": "1.2.0",
          "state": {
            "_model_module": "@jupyter-widgets/base",
            "_model_module_version": "1.2.0",
            "_model_name": "LayoutModel",
            "_view_count": null,
            "_view_module": "@jupyter-widgets/base",
            "_view_module_version": "1.2.0",
            "_view_name": "LayoutView",
            "align_content": null,
            "align_items": null,
            "align_self": null,
            "border": null,
            "bottom": null,
            "display": null,
            "flex": null,
            "flex_flow": null,
            "grid_area": null,
            "grid_auto_columns": null,
            "grid_auto_flow": null,
            "grid_auto_rows": null,
            "grid_column": null,
            "grid_gap": null,
            "grid_row": null,
            "grid_template_areas": null,
            "grid_template_columns": null,
            "grid_template_rows": null,
            "height": null,
            "justify_content": null,
            "justify_items": null,
            "left": null,
            "margin": null,
            "max_height": null,
            "max_width": null,
            "min_height": null,
            "min_width": null,
            "object_fit": null,
            "object_position": null,
            "order": null,
            "overflow": null,
            "overflow_x": null,
            "overflow_y": null,
            "padding": null,
            "right": null,
            "top": null,
            "visibility": null,
            "width": null
          }
        },
        "2f463ff25c4b4494828b6d0a4db261a8": {
          "model_module": "@jupyter-widgets/base",
          "model_name": "LayoutModel",
          "model_module_version": "1.2.0",
          "state": {
            "_model_module": "@jupyter-widgets/base",
            "_model_module_version": "1.2.0",
            "_model_name": "LayoutModel",
            "_view_count": null,
            "_view_module": "@jupyter-widgets/base",
            "_view_module_version": "1.2.0",
            "_view_name": "LayoutView",
            "align_content": null,
            "align_items": null,
            "align_self": null,
            "border": null,
            "bottom": null,
            "display": null,
            "flex": null,
            "flex_flow": null,
            "grid_area": null,
            "grid_auto_columns": null,
            "grid_auto_flow": null,
            "grid_auto_rows": null,
            "grid_column": null,
            "grid_gap": null,
            "grid_row": null,
            "grid_template_areas": null,
            "grid_template_columns": null,
            "grid_template_rows": null,
            "height": null,
            "justify_content": null,
            "justify_items": null,
            "left": null,
            "margin": null,
            "max_height": null,
            "max_width": null,
            "min_height": null,
            "min_width": null,
            "object_fit": null,
            "object_position": null,
            "order": null,
            "overflow": null,
            "overflow_x": null,
            "overflow_y": null,
            "padding": null,
            "right": null,
            "top": null,
            "visibility": null,
            "width": null
          }
        },
        "0a7f39cd1c1840de8b67349c09eb198b": {
          "model_module": "@jupyter-widgets/controls",
          "model_name": "DescriptionStyleModel",
          "model_module_version": "1.5.0",
          "state": {
            "_model_module": "@jupyter-widgets/controls",
            "_model_module_version": "1.5.0",
            "_model_name": "DescriptionStyleModel",
            "_view_count": null,
            "_view_module": "@jupyter-widgets/base",
            "_view_module_version": "1.2.0",
            "_view_name": "StyleView",
            "description_width": ""
          }
        },
        "15c69d09160b4e83947df54e37e9cd75": {
          "model_module": "@jupyter-widgets/base",
          "model_name": "LayoutModel",
          "model_module_version": "1.2.0",
          "state": {
            "_model_module": "@jupyter-widgets/base",
            "_model_module_version": "1.2.0",
            "_model_name": "LayoutModel",
            "_view_count": null,
            "_view_module": "@jupyter-widgets/base",
            "_view_module_version": "1.2.0",
            "_view_name": "LayoutView",
            "align_content": null,
            "align_items": null,
            "align_self": null,
            "border": null,
            "bottom": null,
            "display": null,
            "flex": null,
            "flex_flow": null,
            "grid_area": null,
            "grid_auto_columns": null,
            "grid_auto_flow": null,
            "grid_auto_rows": null,
            "grid_column": null,
            "grid_gap": null,
            "grid_row": null,
            "grid_template_areas": null,
            "grid_template_columns": null,
            "grid_template_rows": null,
            "height": null,
            "justify_content": null,
            "justify_items": null,
            "left": null,
            "margin": null,
            "max_height": null,
            "max_width": null,
            "min_height": null,
            "min_width": null,
            "object_fit": null,
            "object_position": null,
            "order": null,
            "overflow": null,
            "overflow_x": null,
            "overflow_y": null,
            "padding": null,
            "right": null,
            "top": null,
            "visibility": null,
            "width": null
          }
        },
        "c57d8eabd2804d54ba57c285b3f64eae": {
          "model_module": "@jupyter-widgets/controls",
          "model_name": "ProgressStyleModel",
          "model_module_version": "1.5.0",
          "state": {
            "_model_module": "@jupyter-widgets/controls",
            "_model_module_version": "1.5.0",
            "_model_name": "ProgressStyleModel",
            "_view_count": null,
            "_view_module": "@jupyter-widgets/base",
            "_view_module_version": "1.2.0",
            "_view_name": "StyleView",
            "bar_color": null,
            "description_width": ""
          }
        },
        "8b22fb2c68e542fca1b91ffd74de774e": {
          "model_module": "@jupyter-widgets/base",
          "model_name": "LayoutModel",
          "model_module_version": "1.2.0",
          "state": {
            "_model_module": "@jupyter-widgets/base",
            "_model_module_version": "1.2.0",
            "_model_name": "LayoutModel",
            "_view_count": null,
            "_view_module": "@jupyter-widgets/base",
            "_view_module_version": "1.2.0",
            "_view_name": "LayoutView",
            "align_content": null,
            "align_items": null,
            "align_self": null,
            "border": null,
            "bottom": null,
            "display": null,
            "flex": null,
            "flex_flow": null,
            "grid_area": null,
            "grid_auto_columns": null,
            "grid_auto_flow": null,
            "grid_auto_rows": null,
            "grid_column": null,
            "grid_gap": null,
            "grid_row": null,
            "grid_template_areas": null,
            "grid_template_columns": null,
            "grid_template_rows": null,
            "height": null,
            "justify_content": null,
            "justify_items": null,
            "left": null,
            "margin": null,
            "max_height": null,
            "max_width": null,
            "min_height": null,
            "min_width": null,
            "object_fit": null,
            "object_position": null,
            "order": null,
            "overflow": null,
            "overflow_x": null,
            "overflow_y": null,
            "padding": null,
            "right": null,
            "top": null,
            "visibility": null,
            "width": null
          }
        },
        "b42409a4431d4fbe8aeb50a10293f453": {
          "model_module": "@jupyter-widgets/controls",
          "model_name": "DescriptionStyleModel",
          "model_module_version": "1.5.0",
          "state": {
            "_model_module": "@jupyter-widgets/controls",
            "_model_module_version": "1.5.0",
            "_model_name": "DescriptionStyleModel",
            "_view_count": null,
            "_view_module": "@jupyter-widgets/base",
            "_view_module_version": "1.2.0",
            "_view_name": "StyleView",
            "description_width": ""
          }
        },
        "2189c99f7ac241a9bdb852efb9b76d03": {
          "model_module": "@jupyter-widgets/controls",
          "model_name": "HBoxModel",
          "model_module_version": "1.5.0",
          "state": {
            "_dom_classes": [],
            "_model_module": "@jupyter-widgets/controls",
            "_model_module_version": "1.5.0",
            "_model_name": "HBoxModel",
            "_view_count": null,
            "_view_module": "@jupyter-widgets/controls",
            "_view_module_version": "1.5.0",
            "_view_name": "HBoxView",
            "box_style": "",
            "children": [
              "IPY_MODEL_1809292974d4424d9f6965c45b645b32",
              "IPY_MODEL_b1e1cd41446f4a54a736f7f0de67ff1c",
              "IPY_MODEL_b9a1055e854b4e14a921f83fc75b2514"
            ],
            "layout": "IPY_MODEL_257405d0e0cf429baf4563fb91b26a67"
          }
        },
        "1809292974d4424d9f6965c45b645b32": {
          "model_module": "@jupyter-widgets/controls",
          "model_name": "HTMLModel",
          "model_module_version": "1.5.0",
          "state": {
            "_dom_classes": [],
            "_model_module": "@jupyter-widgets/controls",
            "_model_module_version": "1.5.0",
            "_model_name": "HTMLModel",
            "_view_count": null,
            "_view_module": "@jupyter-widgets/controls",
            "_view_module_version": "1.5.0",
            "_view_name": "HTMLView",
            "description": "",
            "description_tooltip": null,
            "layout": "IPY_MODEL_f116d0bfc3e84badb056b4d9e43e5e53",
            "placeholder": "​",
            "style": "IPY_MODEL_3f00e015d9b1480a9cf36ae4a1cf6299",
            "value": "bpe.codes: 100%"
          }
        },
        "b1e1cd41446f4a54a736f7f0de67ff1c": {
          "model_module": "@jupyter-widgets/controls",
          "model_name": "FloatProgressModel",
          "model_module_version": "1.5.0",
          "state": {
            "_dom_classes": [],
            "_model_module": "@jupyter-widgets/controls",
            "_model_module_version": "1.5.0",
            "_model_name": "FloatProgressModel",
            "_view_count": null,
            "_view_module": "@jupyter-widgets/controls",
            "_view_module_version": "1.5.0",
            "_view_name": "ProgressView",
            "bar_style": "success",
            "description": "",
            "description_tooltip": null,
            "layout": "IPY_MODEL_1ad044d312d448a8b882984e614643a8",
            "max": 1135173,
            "min": 0,
            "orientation": "horizontal",
            "style": "IPY_MODEL_df1faeb1f533431693f80221f3b6bb35",
            "value": 1135173
          }
        },
        "b9a1055e854b4e14a921f83fc75b2514": {
          "model_module": "@jupyter-widgets/controls",
          "model_name": "HTMLModel",
          "model_module_version": "1.5.0",
          "state": {
            "_dom_classes": [],
            "_model_module": "@jupyter-widgets/controls",
            "_model_module_version": "1.5.0",
            "_model_name": "HTMLModel",
            "_view_count": null,
            "_view_module": "@jupyter-widgets/controls",
            "_view_module_version": "1.5.0",
            "_view_name": "HTMLView",
            "description": "",
            "description_tooltip": null,
            "layout": "IPY_MODEL_9b3ce09995da498da292e8dd2e719d2b",
            "placeholder": "​",
            "style": "IPY_MODEL_bc064ae221114b04a0650139f83d0384",
            "value": " 1.14M/1.14M [00:00&lt;00:00, 4.66MB/s]"
          }
        },
        "257405d0e0cf429baf4563fb91b26a67": {
          "model_module": "@jupyter-widgets/base",
          "model_name": "LayoutModel",
          "model_module_version": "1.2.0",
          "state": {
            "_model_module": "@jupyter-widgets/base",
            "_model_module_version": "1.2.0",
            "_model_name": "LayoutModel",
            "_view_count": null,
            "_view_module": "@jupyter-widgets/base",
            "_view_module_version": "1.2.0",
            "_view_name": "LayoutView",
            "align_content": null,
            "align_items": null,
            "align_self": null,
            "border": null,
            "bottom": null,
            "display": null,
            "flex": null,
            "flex_flow": null,
            "grid_area": null,
            "grid_auto_columns": null,
            "grid_auto_flow": null,
            "grid_auto_rows": null,
            "grid_column": null,
            "grid_gap": null,
            "grid_row": null,
            "grid_template_areas": null,
            "grid_template_columns": null,
            "grid_template_rows": null,
            "height": null,
            "justify_content": null,
            "justify_items": null,
            "left": null,
            "margin": null,
            "max_height": null,
            "max_width": null,
            "min_height": null,
            "min_width": null,
            "object_fit": null,
            "object_position": null,
            "order": null,
            "overflow": null,
            "overflow_x": null,
            "overflow_y": null,
            "padding": null,
            "right": null,
            "top": null,
            "visibility": null,
            "width": null
          }
        },
        "f116d0bfc3e84badb056b4d9e43e5e53": {
          "model_module": "@jupyter-widgets/base",
          "model_name": "LayoutModel",
          "model_module_version": "1.2.0",
          "state": {
            "_model_module": "@jupyter-widgets/base",
            "_model_module_version": "1.2.0",
            "_model_name": "LayoutModel",
            "_view_count": null,
            "_view_module": "@jupyter-widgets/base",
            "_view_module_version": "1.2.0",
            "_view_name": "LayoutView",
            "align_content": null,
            "align_items": null,
            "align_self": null,
            "border": null,
            "bottom": null,
            "display": null,
            "flex": null,
            "flex_flow": null,
            "grid_area": null,
            "grid_auto_columns": null,
            "grid_auto_flow": null,
            "grid_auto_rows": null,
            "grid_column": null,
            "grid_gap": null,
            "grid_row": null,
            "grid_template_areas": null,
            "grid_template_columns": null,
            "grid_template_rows": null,
            "height": null,
            "justify_content": null,
            "justify_items": null,
            "left": null,
            "margin": null,
            "max_height": null,
            "max_width": null,
            "min_height": null,
            "min_width": null,
            "object_fit": null,
            "object_position": null,
            "order": null,
            "overflow": null,
            "overflow_x": null,
            "overflow_y": null,
            "padding": null,
            "right": null,
            "top": null,
            "visibility": null,
            "width": null
          }
        },
        "3f00e015d9b1480a9cf36ae4a1cf6299": {
          "model_module": "@jupyter-widgets/controls",
          "model_name": "DescriptionStyleModel",
          "model_module_version": "1.5.0",
          "state": {
            "_model_module": "@jupyter-widgets/controls",
            "_model_module_version": "1.5.0",
            "_model_name": "DescriptionStyleModel",
            "_view_count": null,
            "_view_module": "@jupyter-widgets/base",
            "_view_module_version": "1.2.0",
            "_view_name": "StyleView",
            "description_width": ""
          }
        },
        "1ad044d312d448a8b882984e614643a8": {
          "model_module": "@jupyter-widgets/base",
          "model_name": "LayoutModel",
          "model_module_version": "1.2.0",
          "state": {
            "_model_module": "@jupyter-widgets/base",
            "_model_module_version": "1.2.0",
            "_model_name": "LayoutModel",
            "_view_count": null,
            "_view_module": "@jupyter-widgets/base",
            "_view_module_version": "1.2.0",
            "_view_name": "LayoutView",
            "align_content": null,
            "align_items": null,
            "align_self": null,
            "border": null,
            "bottom": null,
            "display": null,
            "flex": null,
            "flex_flow": null,
            "grid_area": null,
            "grid_auto_columns": null,
            "grid_auto_flow": null,
            "grid_auto_rows": null,
            "grid_column": null,
            "grid_gap": null,
            "grid_row": null,
            "grid_template_areas": null,
            "grid_template_columns": null,
            "grid_template_rows": null,
            "height": null,
            "justify_content": null,
            "justify_items": null,
            "left": null,
            "margin": null,
            "max_height": null,
            "max_width": null,
            "min_height": null,
            "min_width": null,
            "object_fit": null,
            "object_position": null,
            "order": null,
            "overflow": null,
            "overflow_x": null,
            "overflow_y": null,
            "padding": null,
            "right": null,
            "top": null,
            "visibility": null,
            "width": null
          }
        },
        "df1faeb1f533431693f80221f3b6bb35": {
          "model_module": "@jupyter-widgets/controls",
          "model_name": "ProgressStyleModel",
          "model_module_version": "1.5.0",
          "state": {
            "_model_module": "@jupyter-widgets/controls",
            "_model_module_version": "1.5.0",
            "_model_name": "ProgressStyleModel",
            "_view_count": null,
            "_view_module": "@jupyter-widgets/base",
            "_view_module_version": "1.2.0",
            "_view_name": "StyleView",
            "bar_color": null,
            "description_width": ""
          }
        },
        "9b3ce09995da498da292e8dd2e719d2b": {
          "model_module": "@jupyter-widgets/base",
          "model_name": "LayoutModel",
          "model_module_version": "1.2.0",
          "state": {
            "_model_module": "@jupyter-widgets/base",
            "_model_module_version": "1.2.0",
            "_model_name": "LayoutModel",
            "_view_count": null,
            "_view_module": "@jupyter-widgets/base",
            "_view_module_version": "1.2.0",
            "_view_name": "LayoutView",
            "align_content": null,
            "align_items": null,
            "align_self": null,
            "border": null,
            "bottom": null,
            "display": null,
            "flex": null,
            "flex_flow": null,
            "grid_area": null,
            "grid_auto_columns": null,
            "grid_auto_flow": null,
            "grid_auto_rows": null,
            "grid_column": null,
            "grid_gap": null,
            "grid_row": null,
            "grid_template_areas": null,
            "grid_template_columns": null,
            "grid_template_rows": null,
            "height": null,
            "justify_content": null,
            "justify_items": null,
            "left": null,
            "margin": null,
            "max_height": null,
            "max_width": null,
            "min_height": null,
            "min_width": null,
            "object_fit": null,
            "object_position": null,
            "order": null,
            "overflow": null,
            "overflow_x": null,
            "overflow_y": null,
            "padding": null,
            "right": null,
            "top": null,
            "visibility": null,
            "width": null
          }
        },
        "bc064ae221114b04a0650139f83d0384": {
          "model_module": "@jupyter-widgets/controls",
          "model_name": "DescriptionStyleModel",
          "model_module_version": "1.5.0",
          "state": {
            "_model_module": "@jupyter-widgets/controls",
            "_model_module_version": "1.5.0",
            "_model_name": "DescriptionStyleModel",
            "_view_count": null,
            "_view_module": "@jupyter-widgets/base",
            "_view_module_version": "1.2.0",
            "_view_name": "StyleView",
            "description_width": ""
          }
        },
        "53097fdfa6444339850aedfab4ff1b81": {
          "model_module": "@jupyter-widgets/controls",
          "model_name": "HBoxModel",
          "model_module_version": "1.5.0",
          "state": {
            "_dom_classes": [],
            "_model_module": "@jupyter-widgets/controls",
            "_model_module_version": "1.5.0",
            "_model_name": "HBoxModel",
            "_view_count": null,
            "_view_module": "@jupyter-widgets/controls",
            "_view_module_version": "1.5.0",
            "_view_name": "HBoxView",
            "box_style": "",
            "children": [
              "IPY_MODEL_02cd2b9fde45444a9383e3eb61126f98",
              "IPY_MODEL_f46f037437db47c38de4052dac687131",
              "IPY_MODEL_f5d680b4a2ed406ba562aac7355da559"
            ],
            "layout": "IPY_MODEL_fd669f2a44c84e01bef69d6d3bb3b866"
          }
        },
        "02cd2b9fde45444a9383e3eb61126f98": {
          "model_module": "@jupyter-widgets/controls",
          "model_name": "HTMLModel",
          "model_module_version": "1.5.0",
          "state": {
            "_dom_classes": [],
            "_model_module": "@jupyter-widgets/controls",
            "_model_module_version": "1.5.0",
            "_model_name": "HTMLModel",
            "_view_count": null,
            "_view_module": "@jupyter-widgets/controls",
            "_view_module_version": "1.5.0",
            "_view_name": "HTMLView",
            "description": "",
            "description_tooltip": null,
            "layout": "IPY_MODEL_478d1214504348c38a93268c39923b78",
            "placeholder": "​",
            "style": "IPY_MODEL_562e47dcebf343999d6107898215c108",
            "value": "tokenizer.json: 100%"
          }
        },
        "f46f037437db47c38de4052dac687131": {
          "model_module": "@jupyter-widgets/controls",
          "model_name": "FloatProgressModel",
          "model_module_version": "1.5.0",
          "state": {
            "_dom_classes": [],
            "_model_module": "@jupyter-widgets/controls",
            "_model_module_version": "1.5.0",
            "_model_name": "FloatProgressModel",
            "_view_count": null,
            "_view_module": "@jupyter-widgets/controls",
            "_view_module_version": "1.5.0",
            "_view_name": "ProgressView",
            "bar_style": "success",
            "description": "",
            "description_tooltip": null,
            "layout": "IPY_MODEL_1b003100f35944648c433b128415a66a",
            "max": 3132320,
            "min": 0,
            "orientation": "horizontal",
            "style": "IPY_MODEL_e81a220f49874bfab740c4359f3f0b25",
            "value": 3132320
          }
        },
        "f5d680b4a2ed406ba562aac7355da559": {
          "model_module": "@jupyter-widgets/controls",
          "model_name": "HTMLModel",
          "model_module_version": "1.5.0",
          "state": {
            "_dom_classes": [],
            "_model_module": "@jupyter-widgets/controls",
            "_model_module_version": "1.5.0",
            "_model_name": "HTMLModel",
            "_view_count": null,
            "_view_module": "@jupyter-widgets/controls",
            "_view_module_version": "1.5.0",
            "_view_name": "HTMLView",
            "description": "",
            "description_tooltip": null,
            "layout": "IPY_MODEL_4a9b73dc9f104598a8cb7fd0c5445a49",
            "placeholder": "​",
            "style": "IPY_MODEL_8b98463abd024024b6f1eb5d50234355",
            "value": " 3.13M/3.13M [00:00&lt;00:00, 11.8MB/s]"
          }
        },
        "fd669f2a44c84e01bef69d6d3bb3b866": {
          "model_module": "@jupyter-widgets/base",
          "model_name": "LayoutModel",
          "model_module_version": "1.2.0",
          "state": {
            "_model_module": "@jupyter-widgets/base",
            "_model_module_version": "1.2.0",
            "_model_name": "LayoutModel",
            "_view_count": null,
            "_view_module": "@jupyter-widgets/base",
            "_view_module_version": "1.2.0",
            "_view_name": "LayoutView",
            "align_content": null,
            "align_items": null,
            "align_self": null,
            "border": null,
            "bottom": null,
            "display": null,
            "flex": null,
            "flex_flow": null,
            "grid_area": null,
            "grid_auto_columns": null,
            "grid_auto_flow": null,
            "grid_auto_rows": null,
            "grid_column": null,
            "grid_gap": null,
            "grid_row": null,
            "grid_template_areas": null,
            "grid_template_columns": null,
            "grid_template_rows": null,
            "height": null,
            "justify_content": null,
            "justify_items": null,
            "left": null,
            "margin": null,
            "max_height": null,
            "max_width": null,
            "min_height": null,
            "min_width": null,
            "object_fit": null,
            "object_position": null,
            "order": null,
            "overflow": null,
            "overflow_x": null,
            "overflow_y": null,
            "padding": null,
            "right": null,
            "top": null,
            "visibility": null,
            "width": null
          }
        },
        "478d1214504348c38a93268c39923b78": {
          "model_module": "@jupyter-widgets/base",
          "model_name": "LayoutModel",
          "model_module_version": "1.2.0",
          "state": {
            "_model_module": "@jupyter-widgets/base",
            "_model_module_version": "1.2.0",
            "_model_name": "LayoutModel",
            "_view_count": null,
            "_view_module": "@jupyter-widgets/base",
            "_view_module_version": "1.2.0",
            "_view_name": "LayoutView",
            "align_content": null,
            "align_items": null,
            "align_self": null,
            "border": null,
            "bottom": null,
            "display": null,
            "flex": null,
            "flex_flow": null,
            "grid_area": null,
            "grid_auto_columns": null,
            "grid_auto_flow": null,
            "grid_auto_rows": null,
            "grid_column": null,
            "grid_gap": null,
            "grid_row": null,
            "grid_template_areas": null,
            "grid_template_columns": null,
            "grid_template_rows": null,
            "height": null,
            "justify_content": null,
            "justify_items": null,
            "left": null,
            "margin": null,
            "max_height": null,
            "max_width": null,
            "min_height": null,
            "min_width": null,
            "object_fit": null,
            "object_position": null,
            "order": null,
            "overflow": null,
            "overflow_x": null,
            "overflow_y": null,
            "padding": null,
            "right": null,
            "top": null,
            "visibility": null,
            "width": null
          }
        },
        "562e47dcebf343999d6107898215c108": {
          "model_module": "@jupyter-widgets/controls",
          "model_name": "DescriptionStyleModel",
          "model_module_version": "1.5.0",
          "state": {
            "_model_module": "@jupyter-widgets/controls",
            "_model_module_version": "1.5.0",
            "_model_name": "DescriptionStyleModel",
            "_view_count": null,
            "_view_module": "@jupyter-widgets/base",
            "_view_module_version": "1.2.0",
            "_view_name": "StyleView",
            "description_width": ""
          }
        },
        "1b003100f35944648c433b128415a66a": {
          "model_module": "@jupyter-widgets/base",
          "model_name": "LayoutModel",
          "model_module_version": "1.2.0",
          "state": {
            "_model_module": "@jupyter-widgets/base",
            "_model_module_version": "1.2.0",
            "_model_name": "LayoutModel",
            "_view_count": null,
            "_view_module": "@jupyter-widgets/base",
            "_view_module_version": "1.2.0",
            "_view_name": "LayoutView",
            "align_content": null,
            "align_items": null,
            "align_self": null,
            "border": null,
            "bottom": null,
            "display": null,
            "flex": null,
            "flex_flow": null,
            "grid_area": null,
            "grid_auto_columns": null,
            "grid_auto_flow": null,
            "grid_auto_rows": null,
            "grid_column": null,
            "grid_gap": null,
            "grid_row": null,
            "grid_template_areas": null,
            "grid_template_columns": null,
            "grid_template_rows": null,
            "height": null,
            "justify_content": null,
            "justify_items": null,
            "left": null,
            "margin": null,
            "max_height": null,
            "max_width": null,
            "min_height": null,
            "min_width": null,
            "object_fit": null,
            "object_position": null,
            "order": null,
            "overflow": null,
            "overflow_x": null,
            "overflow_y": null,
            "padding": null,
            "right": null,
            "top": null,
            "visibility": null,
            "width": null
          }
        },
        "e81a220f49874bfab740c4359f3f0b25": {
          "model_module": "@jupyter-widgets/controls",
          "model_name": "ProgressStyleModel",
          "model_module_version": "1.5.0",
          "state": {
            "_model_module": "@jupyter-widgets/controls",
            "_model_module_version": "1.5.0",
            "_model_name": "ProgressStyleModel",
            "_view_count": null,
            "_view_module": "@jupyter-widgets/base",
            "_view_module_version": "1.2.0",
            "_view_name": "StyleView",
            "bar_color": null,
            "description_width": ""
          }
        },
        "4a9b73dc9f104598a8cb7fd0c5445a49": {
          "model_module": "@jupyter-widgets/base",
          "model_name": "LayoutModel",
          "model_module_version": "1.2.0",
          "state": {
            "_model_module": "@jupyter-widgets/base",
            "_model_module_version": "1.2.0",
            "_model_name": "LayoutModel",
            "_view_count": null,
            "_view_module": "@jupyter-widgets/base",
            "_view_module_version": "1.2.0",
            "_view_name": "LayoutView",
            "align_content": null,
            "align_items": null,
            "align_self": null,
            "border": null,
            "bottom": null,
            "display": null,
            "flex": null,
            "flex_flow": null,
            "grid_area": null,
            "grid_auto_columns": null,
            "grid_auto_flow": null,
            "grid_auto_rows": null,
            "grid_column": null,
            "grid_gap": null,
            "grid_row": null,
            "grid_template_areas": null,
            "grid_template_columns": null,
            "grid_template_rows": null,
            "height": null,
            "justify_content": null,
            "justify_items": null,
            "left": null,
            "margin": null,
            "max_height": null,
            "max_width": null,
            "min_height": null,
            "min_width": null,
            "object_fit": null,
            "object_position": null,
            "order": null,
            "overflow": null,
            "overflow_x": null,
            "overflow_y": null,
            "padding": null,
            "right": null,
            "top": null,
            "visibility": null,
            "width": null
          }
        },
        "8b98463abd024024b6f1eb5d50234355": {
          "model_module": "@jupyter-widgets/controls",
          "model_name": "DescriptionStyleModel",
          "model_module_version": "1.5.0",
          "state": {
            "_model_module": "@jupyter-widgets/controls",
            "_model_module_version": "1.5.0",
            "_model_name": "DescriptionStyleModel",
            "_view_count": null,
            "_view_module": "@jupyter-widgets/base",
            "_view_module_version": "1.2.0",
            "_view_name": "StyleView",
            "description_width": ""
          }
        },
        "c126df580c884d72a558fdda7bc56784": {
          "model_module": "@jupyter-widgets/controls",
          "model_name": "HBoxModel",
          "model_module_version": "1.5.0",
          "state": {
            "_dom_classes": [],
            "_model_module": "@jupyter-widgets/controls",
            "_model_module_version": "1.5.0",
            "_model_name": "HBoxModel",
            "_view_count": null,
            "_view_module": "@jupyter-widgets/controls",
            "_view_module_version": "1.5.0",
            "_view_name": "HBoxView",
            "box_style": "",
            "children": [
              "IPY_MODEL_98609be1588d4c75a4efbfd243c7f684",
              "IPY_MODEL_394e7d232ecf484f99306001c92ed0f7",
              "IPY_MODEL_58acb261d0104a459c1c44b1cc463e7b"
            ],
            "layout": "IPY_MODEL_0e74c3b0e10444498208d429bd25d0b9"
          }
        },
        "98609be1588d4c75a4efbfd243c7f684": {
          "model_module": "@jupyter-widgets/controls",
          "model_name": "HTMLModel",
          "model_module_version": "1.5.0",
          "state": {
            "_dom_classes": [],
            "_model_module": "@jupyter-widgets/controls",
            "_model_module_version": "1.5.0",
            "_model_name": "HTMLModel",
            "_view_count": null,
            "_view_module": "@jupyter-widgets/controls",
            "_view_module_version": "1.5.0",
            "_view_name": "HTMLView",
            "description": "",
            "description_tooltip": null,
            "layout": "IPY_MODEL_7d11a1aab0f74943aa2659ac079a03e0",
            "placeholder": "​",
            "style": "IPY_MODEL_025044c85b17495dba6e781abae1420e",
            "value": "pytorch_model.bin: 100%"
          }
        },
        "394e7d232ecf484f99306001c92ed0f7": {
          "model_module": "@jupyter-widgets/controls",
          "model_name": "FloatProgressModel",
          "model_module_version": "1.5.0",
          "state": {
            "_dom_classes": [],
            "_model_module": "@jupyter-widgets/controls",
            "_model_module_version": "1.5.0",
            "_model_name": "FloatProgressModel",
            "_view_count": null,
            "_view_module": "@jupyter-widgets/controls",
            "_view_module_version": "1.5.0",
            "_view_name": "ProgressView",
            "bar_style": "success",
            "description": "",
            "description_tooltip": null,
            "layout": "IPY_MODEL_d470c7cf9a0c4bb09eb7665e3cb5aa19",
            "max": 540322347,
            "min": 0,
            "orientation": "horizontal",
            "style": "IPY_MODEL_b00f00131a3f458198cc0ffccc1398e8",
            "value": 540322347
          }
        },
        "58acb261d0104a459c1c44b1cc463e7b": {
          "model_module": "@jupyter-widgets/controls",
          "model_name": "HTMLModel",
          "model_module_version": "1.5.0",
          "state": {
            "_dom_classes": [],
            "_model_module": "@jupyter-widgets/controls",
            "_model_module_version": "1.5.0",
            "_model_name": "HTMLModel",
            "_view_count": null,
            "_view_module": "@jupyter-widgets/controls",
            "_view_module_version": "1.5.0",
            "_view_name": "HTMLView",
            "description": "",
            "description_tooltip": null,
            "layout": "IPY_MODEL_e9270637f6724e7aad7ea88ac920ac38",
            "placeholder": "​",
            "style": "IPY_MODEL_00658f764d53433190a4de808c657d63",
            "value": " 540M/540M [00:02&lt;00:00, 239MB/s]"
          }
        },
        "0e74c3b0e10444498208d429bd25d0b9": {
          "model_module": "@jupyter-widgets/base",
          "model_name": "LayoutModel",
          "model_module_version": "1.2.0",
          "state": {
            "_model_module": "@jupyter-widgets/base",
            "_model_module_version": "1.2.0",
            "_model_name": "LayoutModel",
            "_view_count": null,
            "_view_module": "@jupyter-widgets/base",
            "_view_module_version": "1.2.0",
            "_view_name": "LayoutView",
            "align_content": null,
            "align_items": null,
            "align_self": null,
            "border": null,
            "bottom": null,
            "display": null,
            "flex": null,
            "flex_flow": null,
            "grid_area": null,
            "grid_auto_columns": null,
            "grid_auto_flow": null,
            "grid_auto_rows": null,
            "grid_column": null,
            "grid_gap": null,
            "grid_row": null,
            "grid_template_areas": null,
            "grid_template_columns": null,
            "grid_template_rows": null,
            "height": null,
            "justify_content": null,
            "justify_items": null,
            "left": null,
            "margin": null,
            "max_height": null,
            "max_width": null,
            "min_height": null,
            "min_width": null,
            "object_fit": null,
            "object_position": null,
            "order": null,
            "overflow": null,
            "overflow_x": null,
            "overflow_y": null,
            "padding": null,
            "right": null,
            "top": null,
            "visibility": null,
            "width": null
          }
        },
        "7d11a1aab0f74943aa2659ac079a03e0": {
          "model_module": "@jupyter-widgets/base",
          "model_name": "LayoutModel",
          "model_module_version": "1.2.0",
          "state": {
            "_model_module": "@jupyter-widgets/base",
            "_model_module_version": "1.2.0",
            "_model_name": "LayoutModel",
            "_view_count": null,
            "_view_module": "@jupyter-widgets/base",
            "_view_module_version": "1.2.0",
            "_view_name": "LayoutView",
            "align_content": null,
            "align_items": null,
            "align_self": null,
            "border": null,
            "bottom": null,
            "display": null,
            "flex": null,
            "flex_flow": null,
            "grid_area": null,
            "grid_auto_columns": null,
            "grid_auto_flow": null,
            "grid_auto_rows": null,
            "grid_column": null,
            "grid_gap": null,
            "grid_row": null,
            "grid_template_areas": null,
            "grid_template_columns": null,
            "grid_template_rows": null,
            "height": null,
            "justify_content": null,
            "justify_items": null,
            "left": null,
            "margin": null,
            "max_height": null,
            "max_width": null,
            "min_height": null,
            "min_width": null,
            "object_fit": null,
            "object_position": null,
            "order": null,
            "overflow": null,
            "overflow_x": null,
            "overflow_y": null,
            "padding": null,
            "right": null,
            "top": null,
            "visibility": null,
            "width": null
          }
        },
        "025044c85b17495dba6e781abae1420e": {
          "model_module": "@jupyter-widgets/controls",
          "model_name": "DescriptionStyleModel",
          "model_module_version": "1.5.0",
          "state": {
            "_model_module": "@jupyter-widgets/controls",
            "_model_module_version": "1.5.0",
            "_model_name": "DescriptionStyleModel",
            "_view_count": null,
            "_view_module": "@jupyter-widgets/base",
            "_view_module_version": "1.2.0",
            "_view_name": "StyleView",
            "description_width": ""
          }
        },
        "d470c7cf9a0c4bb09eb7665e3cb5aa19": {
          "model_module": "@jupyter-widgets/base",
          "model_name": "LayoutModel",
          "model_module_version": "1.2.0",
          "state": {
            "_model_module": "@jupyter-widgets/base",
            "_model_module_version": "1.2.0",
            "_model_name": "LayoutModel",
            "_view_count": null,
            "_view_module": "@jupyter-widgets/base",
            "_view_module_version": "1.2.0",
            "_view_name": "LayoutView",
            "align_content": null,
            "align_items": null,
            "align_self": null,
            "border": null,
            "bottom": null,
            "display": null,
            "flex": null,
            "flex_flow": null,
            "grid_area": null,
            "grid_auto_columns": null,
            "grid_auto_flow": null,
            "grid_auto_rows": null,
            "grid_column": null,
            "grid_gap": null,
            "grid_row": null,
            "grid_template_areas": null,
            "grid_template_columns": null,
            "grid_template_rows": null,
            "height": null,
            "justify_content": null,
            "justify_items": null,
            "left": null,
            "margin": null,
            "max_height": null,
            "max_width": null,
            "min_height": null,
            "min_width": null,
            "object_fit": null,
            "object_position": null,
            "order": null,
            "overflow": null,
            "overflow_x": null,
            "overflow_y": null,
            "padding": null,
            "right": null,
            "top": null,
            "visibility": null,
            "width": null
          }
        },
        "b00f00131a3f458198cc0ffccc1398e8": {
          "model_module": "@jupyter-widgets/controls",
          "model_name": "ProgressStyleModel",
          "model_module_version": "1.5.0",
          "state": {
            "_model_module": "@jupyter-widgets/controls",
            "_model_module_version": "1.5.0",
            "_model_name": "ProgressStyleModel",
            "_view_count": null,
            "_view_module": "@jupyter-widgets/base",
            "_view_module_version": "1.2.0",
            "_view_name": "StyleView",
            "bar_color": null,
            "description_width": ""
          }
        },
        "e9270637f6724e7aad7ea88ac920ac38": {
          "model_module": "@jupyter-widgets/base",
          "model_name": "LayoutModel",
          "model_module_version": "1.2.0",
          "state": {
            "_model_module": "@jupyter-widgets/base",
            "_model_module_version": "1.2.0",
            "_model_name": "LayoutModel",
            "_view_count": null,
            "_view_module": "@jupyter-widgets/base",
            "_view_module_version": "1.2.0",
            "_view_name": "LayoutView",
            "align_content": null,
            "align_items": null,
            "align_self": null,
            "border": null,
            "bottom": null,
            "display": null,
            "flex": null,
            "flex_flow": null,
            "grid_area": null,
            "grid_auto_columns": null,
            "grid_auto_flow": null,
            "grid_auto_rows": null,
            "grid_column": null,
            "grid_gap": null,
            "grid_row": null,
            "grid_template_areas": null,
            "grid_template_columns": null,
            "grid_template_rows": null,
            "height": null,
            "justify_content": null,
            "justify_items": null,
            "left": null,
            "margin": null,
            "max_height": null,
            "max_width": null,
            "min_height": null,
            "min_width": null,
            "object_fit": null,
            "object_position": null,
            "order": null,
            "overflow": null,
            "overflow_x": null,
            "overflow_y": null,
            "padding": null,
            "right": null,
            "top": null,
            "visibility": null,
            "width": null
          }
        },
        "00658f764d53433190a4de808c657d63": {
          "model_module": "@jupyter-widgets/controls",
          "model_name": "DescriptionStyleModel",
          "model_module_version": "1.5.0",
          "state": {
            "_model_module": "@jupyter-widgets/controls",
            "_model_module_version": "1.5.0",
            "_model_name": "DescriptionStyleModel",
            "_view_count": null,
            "_view_module": "@jupyter-widgets/base",
            "_view_module_version": "1.2.0",
            "_view_name": "StyleView",
            "description_width": ""
          }
        }
      }
    }
  },
  "nbformat": 4,
  "nbformat_minor": 0
}